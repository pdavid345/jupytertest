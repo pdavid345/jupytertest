{
 "cells": [
  {
   "cell_type": "markdown",
   "metadata": {},
   "source": [
    "# Test"
   ]
  },
  {
   "cell_type": "markdown",
   "metadata": {},
   "source": [
    "# dsfd"
   ]
  },
  {
   "cell_type": "markdown",
   "metadata": {},
   "source": [
    "## Test $\\frac{2}{4}$"
   ]
  },
  {
   "cell_type": "markdown",
   "metadata": {},
   "source": [
    "### test"
   ]
  },
  {
   "cell_type": "code",
   "execution_count": null,
   "metadata": {},
   "outputs": [],
   "source": []
  },
  {
   "cell_type": "code",
   "execution_count": null,
   "metadata": {},
   "outputs": [],
   "source": []
  },
  {
   "cell_type": "code",
   "execution_count": 8,
   "metadata": {},
   "outputs": [
    {
     "data": {
      "image/png": "[encoded data removed]",
      "text/plain": [
       "<Figure size 432x288 with 5 Axes>"
      ]
     },
     "metadata": {
      "needs_background": "light"
     },
     "output_type": "display_data"
    }
   ],
   "source": [
    "import numpy as np\n",
    "import matplotlib.pyplot as plt\n",
    "from matplotlib.widgets import Slider, Button, RadioButtons\n",
    "\n",
    "fig, ax = plt.subplots()\n",
    "plt.subplots_adjust(left=0.25, bottom=0.25)\n",
    "t = np.arange(0.0, 1.0, 0.001)\n",
    "a0 = 5\n",
    "f0 = 3\n",
    "delta_f = 5.0\n",
    "s = a0 * np.sin(2 * np.pi * f0 * t)\n",
    "l, = plt.plot(t, s, lw=2)\n",
    "ax.margins(x=0)\n",
    "\n",
    "axcolor = 'lightgoldenrodyellow'\n",
    "axfreq = plt.axes([0.25, 0.1, 0.65, 0.03], facecolor=axcolor)\n",
    "axamp = plt.axes([0.25, 0.15, 0.65, 0.03], facecolor=axcolor)\n",
    "\n",
    "sfreq = Slider(axfreq, 'Freq', 0.1, 30.0, valinit=f0, valstep=delta_f)\n",
    "samp = Slider(axamp, 'Amp', 0.1, 10.0, valinit=a0)\n",
    "\n",
    "\n",
    "def update(val):\n",
    "    amp = samp.val\n",
    "    freq = sfreq.val\n",
    "    l.set_ydata(amp*np.sin(2*np.pi*freq*t))\n",
    "    fig.canvas.draw_idle()\n",
    "\n",
    "\n",
    "sfreq.on_changed(update)\n",
    "samp.on_changed(update)\n",
    "\n",
    "resetax = plt.axes([0.8, 0.025, 0.1, 0.04])\n",
    "button = Button(resetax, 'Reset', color=axcolor, hovercolor='0.975')\n",
    "\n",
    "\n",
    "def reset(event):\n",
    "    sfreq.reset()\n",
    "    samp.reset()\n",
    "button.on_clicked(reset)\n",
    "\n",
    "rax = plt.axes([0.025, 0.5, 0.15, 0.15], facecolor=axcolor)\n",
    "radio = RadioButtons(rax, ('red', 'blue', 'green'), active=0)\n",
    "\n",
    "\n",
    "def colorfunc(label):\n",
    "    l.set_color(label)\n",
    "    fig.canvas.draw_idle()\n",
    "radio.on_clicked(colorfunc)\n",
    "\n",
    "plt.show()"
   ]
  },
  {
   "cell_type": "code",
   "execution_count": 9,
   "metadata": {},
   "outputs": [],
   "source": [
    "from __future__ import print_function\n",
    "from ipywidgets import interact, interactive, fixed, interact_manual\n",
    "import ipywidgets as widgets\n"
   ]
  },
  {
   "cell_type": "code",
   "execution_count": 10,
   "metadata": {},
   "outputs": [],
   "source": [
    "def f(x):\n",
    "    return x"
   ]
  },
  {
   "cell_type": "code",
   "execution_count": 11,
   "metadata": {},
   "outputs": [
    {
     "data": {
      "text/plain": [
       "3"
      ]
     },
     "execution_count": 11,
     "metadata": {},
     "output_type": "execute_result"
    }
   ],
   "source": [
    "f(3)"
   ]
  },
  {
   "cell_type": "code",
   "execution_count": 12,
   "metadata": {},
   "outputs": [
    {
     "data": {
      "application/vnd.jupyter.widget-view+json": {
       "model_id": "593e0f1d168440d9b638aa3bdf9ac0da",
       "version_major": 2,
       "version_minor": 0
      },
      "text/plain": [
       "interactive(children=(IntSlider(value=10, description='x', max=30, min=-10), Output()), _dom_classes=('widget-…"
      ]
     },
     "metadata": {},
     "output_type": "display_data"
    }
   ],
   "source": [
    "interact(f, x=10);"
   ]
  },
  {
   "cell_type": "code",
   "execution_count": 13,
   "metadata": {},
   "outputs": [
    {
     "data": {
      "application/vnd.jupyter.widget-view+json": {
       "model_id": "9082cf52a44644c494f655f37e93408b",
       "version_major": 2,
       "version_minor": 0
      },
      "text/plain": [
       "interactive(children=(FloatSlider(value=0.0, description='m', max=2.0, min=-2.0), FloatSlider(value=0.0, descr…"
      ]
     },
     "metadata": {},
     "output_type": "display_data"
    }
   ],
   "source": [
    "%matplotlib inline\n",
    "from ipywidgets import interactive\n",
    "import matplotlib.pyplot as plt\n",
    "import numpy as np\n",
    "\n",
    "def f(m, b):\n",
    "    plt.figure(2)\n",
    "    x = np.linspace(-10, 10, num=1000)\n",
    "    plt.plot(x, m * x + b)\n",
    "    plt.ylim(-5, 5)\n",
    "    plt.show()\n",
    "\n",
    "interactive_plot = interactive(f, m=(-2.0, 2.0), b=(-3, 3, 0.5))\n",
    "output = interactive_plot.children[-1]\n",
    "output.layout.height = '350px'\n",
    "interactive_plot"
   ]
  },
  {
   "cell_type": "code",
   "execution_count": null,
   "metadata": {},
   "outputs": [],
   "source": []
  },
  {
   "cell_type": "markdown",
   "metadata": {},
   "source": [
    "## The Nernst equation is the following:"
   ]
  },
  {
   "attachments": {
    "image.png": {
     "image/png": "[encoded data removed]"
    }
   },
   "cell_type": "markdown",
   "metadata": {},
   "source": [
    "![image.png](attachment:image.png)\n"
   ]
  },
  {
   "cell_type": "markdown",
   "metadata": {},
   "source": [
    "where the constants are the following:\n",
    "\n",
    "R: Ideal Gas Constant = $8.314 \\frac{J \\cdot mol}{C}$\n",
    "\n",
    "\n",
    "F: Faraday's Constant = $F = 96484 \\frac{C}{mol}$\n",
    "\n",
    "\n",
    "T: Temperature in K\n",
    "\n",
    "\n",
    "z: Valence of ion (+1 for K, Na, -1 for Cl)"
   ]
  },
  {
   "cell_type": "markdown",
   "metadata": {},
   "source": [
    "### Choose which ion you want to calculate the potential for:"
   ]
  },
  {
   "cell_type": "code",
   "execution_count": null,
   "metadata": {},
   "outputs": [],
   "source": [
    "def ionslider(i,e):\n",
    "    R = 8.314;\n",
    "    F = 96484;\n",
    "    return np.log(e/i);"
   ]
  },
  {
   "cell_type": "code",
   "execution_count": null,
   "metadata": {},
   "outputs": [],
   "source": [
    "def f(ion, T):\n",
    "       \n",
    "    \n",
    "    if(ion=='K'): \n",
    "        z = +1;\n",
    "        lograt = interact(ionslider, i=(100,200,10),e = (0.1,20.0));\n",
    "        \n",
    "    E =(R*T)*np.log(e/i)/(F*v)\n",
    "    print(\"Potential is: \")\n",
    "    print(E)\n"
   ]
  },
  {
   "cell_type": "code",
   "execution_count": 81,
   "metadata": {},
   "outputs": [],
   "source": [
    "def ret(ion):\n",
    "    return ion;"
   ]
  },
  {
   "cell_type": "code",
   "execution_count": 82,
   "metadata": {},
   "outputs": [
    {
     "data": {
      "application/vnd.jupyter.widget-view+json": {
       "model_id": "01bcd5480b134ed69bfdcd879ef65914",
       "version_major": 2,
       "version_minor": 0
      },
      "text/plain": [
       "interactive(children=(Dropdown(description='ion', options=(('K', 'K'), ('Na', 'Na'), ('Cl', 'Cl')), value='K')…"
      ]
     },
     "metadata": {},
     "output_type": "display_data"
    }
   ],
   "source": [
    "interact(ret, ion=[('K', 'K'), ('Na', 'Na'), ('Cl', 'Cl')],T = (273,300,1));\n"
   ]
  },
  {
   "cell_type": "code",
   "execution_count": 83,
   "metadata": {},
   "outputs": [
    {
     "name": "stdout",
     "output_type": "stream",
     "text": [
      "[('K', 1), ('Na', 1), ('Cl', -1)]\n"
     ]
    }
   ],
   "source": [
    "print(ret(ion))\n"
   ]
  },
  {
   "cell_type": "code",
   "execution_count": null,
   "metadata": {},
   "outputs": [],
   "source": []
  }
 ],
 "metadata": {
  "kernelspec": {
   "display_name": "Python 3",
   "language": "python",
   "name": "python3"
  },
  "language_info": {
   "codemirror_mode": {
    "name": "ipython",
    "version": 3
   },
   "file_extension": ".py",
   "mimetype": "text/x-python",
   "name": "python",
   "nbconvert_exporter": "python",
   "pygments_lexer": "ipython3",
   "version": "3.8.6"
  },
  "widgets": {
   "application/vnd.jupyter.widget-state+json": {
    "state": {
     "001819854a714513878e970a4ea2ef76": {
      "model_module": "@jupyter-widgets/base",
      "model_module_version": "1.2.0",
      "model_name": "LayoutModel",
      "state": {}
     },
     "00e6b7a4a32d4e42a153f682f75180e9": {
      "model_module": "@jupyter-widgets/controls",
      "model_module_version": "1.5.0",
      "model_name": "FloatSliderModel",
      "state": {
       "description": "e",
       "layout": "IPY_MODEL_03d13bfbe0934e4fb6034c4a3b667c1c",
       "max": 20,
       "min": 0.1,
       "step": 0.1,
       "style": "IPY_MODEL_53b2799a3362487d8fc0f15a4898ec4e",
       "value": 12
      }
     },
     "01bcd5480b134ed69bfdcd879ef65914": {
      "model_module": "@jupyter-widgets/controls",
      "model_module_version": "1.5.0",
      "model_name": "VBoxModel",
      "state": {
       "_dom_classes": [
        "widget-interact"
       ],
       "children": [
        "IPY_MODEL_65bedd5e099046ddad97b4332470afc8",
        "IPY_MODEL_58633aaa6c7e46b3aaed505aebddd0dd"
       ],
       "layout": "IPY_MODEL_578711e47220454a9fe7fb2c8184a460"
      }
     },
     "01dc1816f03141d08c844fcacf7cf521": {
      "model_module": "@jupyter-widgets/controls",
      "model_module_version": "1.5.0",
      "model_name": "VBoxModel",
      "state": {
       "_dom_classes": [
        "widget-interact"
       ],
       "children": [
        "IPY_MODEL_09c2aaac77564bc5bdd242f7af6fe51c",
        "IPY_MODEL_df60bfb58bbe4c65a661561f4216697f",
        "IPY_MODEL_d4dc99e6bca54fdc8ca50df9c37916ed"
       ],
       "layout": "IPY_MODEL_f635d400b1644058b6f6c8ea65ab77cc"
      }
     },
     "01f23be98eec46c3a16aa0d3945ebc1c": {
      "model_module": "@jupyter-widgets/controls",
      "model_module_version": "1.5.0",
      "model_name": "DropdownModel",
      "state": {
       "_options_labels": [
        "K",
        "Na",
        "Cl"
       ],
       "description": "ion",
       "index": 0,
       "layout": "IPY_MODEL_941e7581214244718bef5bf7dc98d8c6",
       "style": "IPY_MODEL_18e40a4a26e84d2e8b4421467e4475bc"
      }
     },
     "029a793acad1498d81f18c321354583c": {
      "model_module": "@jupyter-widgets/controls",
      "model_module_version": "1.5.0",
      "model_name": "DescriptionStyleModel",
      "state": {
       "description_width": ""
      }
     },
     "0313d703bc5b4c2b9d7119022f881bb8": {
      "model_module": "@jupyter-widgets/controls",
      "model_module_version": "1.5.0",
      "model_name": "DropdownModel",
      "state": {
       "_options_labels": [
        "K",
        "Na",
        "Cl"
       ],
       "description": "ion",
       "index": 0,
       "layout": "IPY_MODEL_4a201d0a8cdd44d6ac11202c9b3c2c4f",
       "style": "IPY_MODEL_86c33e3f28f5480db4d6729eb8055e93"
      }
     },
     "033bccba240f47f2b7d3d57668330cfd": {
      "model_module": "@jupyter-widgets/output",
      "model_module_version": "1.0.0",
      "model_name": "OutputModel",
      "state": {
       "layout": "IPY_MODEL_e55bcd5cc40843a09490f2bf97126785",
       "outputs": [
        {
         "data": {
          "text/plain": "1"
         },
         "metadata": {},
         "output_type": "display_data"
        }
       ]
      }
     },
     "03d13bfbe0934e4fb6034c4a3b667c1c": {
      "model_module": "@jupyter-widgets/base",
      "model_module_version": "1.2.0",
      "model_name": "LayoutModel",
      "state": {}
     },
     "03e68f1b88374ad58b31b6bc360d08c6": {
      "model_module": "@jupyter-widgets/controls",
      "model_module_version": "1.5.0",
      "model_name": "VBoxModel",
      "state": {
       "_dom_classes": [
        "widget-interact"
       ],
       "children": [
        "IPY_MODEL_ff231edc38864a67b5ff393499d2d275",
        "IPY_MODEL_d08a22914b6b45458cf8764ece67baea",
        "IPY_MODEL_c724898d4ed24d6cba15506ab9367bf3"
       ],
       "layout": "IPY_MODEL_488fc6a98a904d0aa95924c0562b8c2f"
      }
     },
     "040b086bc55f4be69ffa932c4df62342": {
      "model_module": "@jupyter-widgets/base",
      "model_module_version": "1.2.0",
      "model_name": "LayoutModel",
      "state": {}
     },
     "04296aeb48334b61b7e5b66904a61bbe": {
      "model_module": "@jupyter-widgets/controls",
      "model_module_version": "1.5.0",
      "model_name": "IntSliderModel",
      "state": {
       "description": "i",
       "layout": "IPY_MODEL_0b20102a004549b5a6346ef1ca99909e",
       "max": 200,
       "min": 100,
       "step": 10,
       "style": "IPY_MODEL_81a267d46f1f4ee4943b87a725340d7c",
       "value": 150
      }
     },
     "0473d94515324a2295474f89fdb37b9f": {
      "model_module": "@jupyter-widgets/controls",
      "model_module_version": "1.5.0",
      "model_name": "IntSliderModel",
      "state": {
       "description": "e",
       "layout": "IPY_MODEL_3b23b670ec164a908fbc7e42002a953d",
       "max": 20,
       "min": -20,
       "style": "IPY_MODEL_9a6301cff28c4bb8b824c8b1536c6bb4"
      }
     },
     "049565b77e114e9faa4a325c1e7472e7": {
      "model_module": "@jupyter-widgets/base",
      "model_module_version": "1.2.0",
      "model_name": "LayoutModel",
      "state": {}
     },
     "06583a95cafd49f5bb1b2d392d21b126": {
      "model_module": "@jupyter-widgets/controls",
      "model_module_version": "1.5.0",
      "model_name": "DescriptionStyleModel",
      "state": {
       "description_width": ""
      }
     },
     "07bd593e99b341fa9c28f36c9c249237": {
      "model_module": "@jupyter-widgets/controls",
      "model_module_version": "1.5.0",
      "model_name": "SliderStyleModel",
      "state": {
       "description_width": ""
      }
     },
     "08eb11197c6342d9a11d6bf3a40b329e": {
      "model_module": "@jupyter-widgets/controls",
      "model_module_version": "1.5.0",
      "model_name": "DropdownModel",
      "state": {
       "_options_labels": [
        "K",
        "Na",
        "Cl"
       ],
       "description": "v",
       "index": 0,
       "layout": "IPY_MODEL_d08dd729232a46b1b2bdb4465c2dcb66",
       "style": "IPY_MODEL_995b1cef20774272a678f51383626771"
      }
     },
     "08ff43bd152c43968f2fa373a18c1590": {
      "model_module": "@jupyter-widgets/base",
      "model_module_version": "1.2.0",
      "model_name": "LayoutModel",
      "state": {}
     },
     "092f14ce46bd4c9699e79e20fe1cc022": {
      "model_module": "@jupyter-widgets/controls",
      "model_module_version": "1.5.0",
      "model_name": "SliderStyleModel",
      "state": {
       "description_width": ""
      }
     },
     "09823b53dec94a46bb9a3bdf27bdb8cd": {
      "model_module": "@jupyter-widgets/controls",
      "model_module_version": "1.5.0",
      "model_name": "IntSliderModel",
      "state": {
       "description": "e",
       "layout": "IPY_MODEL_633ac93b39c34534a2de35ba435b3468",
       "max": 20,
       "min": -20,
       "style": "IPY_MODEL_4abae470898c4f2d99cd8ce6a42d5e6a",
       "value": 9
      }
     },
     "09c2aaac77564bc5bdd242f7af6fe51c": {
      "model_module": "@jupyter-widgets/controls",
      "model_module_version": "1.5.0",
      "model_name": "DropdownModel",
      "state": {
       "_options_labels": [
        "K",
        "Na",
        "Cl"
       ],
       "description": "ion",
       "index": 0,
       "layout": "IPY_MODEL_900b939004844ae7ae83a0a2f02b7857",
       "style": "IPY_MODEL_371f07bfafe74d13b97fe0028162dd27"
      }
     },
     "0aaab0feb8d54b7aa3e8cb634221daaf": {
      "model_module": "@jupyter-widgets/base",
      "model_module_version": "1.2.0",
      "model_name": "LayoutModel",
      "state": {}
     },
     "0ac45bbfc84644e88b14f39da44ece5a": {
      "model_module": "@jupyter-widgets/controls",
      "model_module_version": "1.5.0",
      "model_name": "IntSliderModel",
      "state": {
       "description": "e",
       "layout": "IPY_MODEL_e2138fe9ad7740a6af859dd28aec2cf6",
       "max": 20,
       "min": -20,
       "style": "IPY_MODEL_f6c5cf03a800459395a0e288608199e3",
       "value": 6
      }
     },
     "0b20102a004549b5a6346ef1ca99909e": {
      "model_module": "@jupyter-widgets/base",
      "model_module_version": "1.2.0",
      "model_name": "LayoutModel",
      "state": {}
     },
     "0c4c4322b1594233bf4f329f01e6d1d6": {
      "model_module": "@jupyter-widgets/base",
      "model_module_version": "1.2.0",
      "model_name": "LayoutModel",
      "state": {}
     },
     "0d52a238e74c43458b692d3f42e3bcd6": {
      "model_module": "@jupyter-widgets/controls",
      "model_module_version": "1.5.0",
      "model_name": "IntSliderModel",
      "state": {
       "description": "T",
       "layout": "IPY_MODEL_9148f43ce1e047c08b8063bff4be3d67",
       "max": 300,
       "min": 273,
       "style": "IPY_MODEL_caa71ad2136e47f4af6a9b20fa689e28",
       "value": 286
      }
     },
     "0d88f65d15aa479b8d1754a87f071e9c": {
      "model_module": "@jupyter-widgets/base",
      "model_module_version": "1.2.0",
      "model_name": "LayoutModel",
      "state": {}
     },
     "0d899cc99f6b419cbe936b3447f51dd2": {
      "model_module": "@jupyter-widgets/base",
      "model_module_version": "1.2.0",
      "model_name": "LayoutModel",
      "state": {}
     },
     "0e34c22b8c6a49ec8a0891f8910c7459": {
      "model_module": "@jupyter-widgets/controls",
      "model_module_version": "1.5.0",
      "model_name": "IntSliderModel",
      "state": {
       "description": "T",
       "layout": "IPY_MODEL_2760464a79cf4476a2d0f6a5624e429b",
       "max": 300,
       "min": 273,
       "style": "IPY_MODEL_7b4d6403b0cf415894d2484cb45634b0",
       "value": 282
      }
     },
     "0ec2b4d121444bb38f3b6be824802ebc": {
      "model_module": "@jupyter-widgets/controls",
      "model_module_version": "1.5.0",
      "model_name": "VBoxModel",
      "state": {
       "_dom_classes": [
        "widget-interact"
       ],
       "children": [
        "IPY_MODEL_04296aeb48334b61b7e5b66904a61bbe",
        "IPY_MODEL_f300aa8b365c495a8bc5576370ebe241",
        "IPY_MODEL_4115670a73bb4e138aa297cda53e3568"
       ],
       "layout": "IPY_MODEL_a7bb92b24e90490ea9d10cb2cbc3229f"
      }
     },
     "0ee0812e636f4231ba9251c88d959db6": {
      "model_module": "@jupyter-widgets/base",
      "model_module_version": "1.2.0",
      "model_name": "LayoutModel",
      "state": {}
     },
     "0f0e96d25d094f5d93f1e8308da10e15": {
      "model_module": "@jupyter-widgets/base",
      "model_module_version": "1.2.0",
      "model_name": "LayoutModel",
      "state": {}
     },
     "0f2b9abe6689476992bb67a2a0944b93": {
      "model_module": "@jupyter-widgets/controls",
      "model_module_version": "1.5.0",
      "model_name": "DropdownModel",
      "state": {
       "_options_labels": [
        "K",
        "Na",
        "Cl"
       ],
       "description": "ion",
       "index": 0,
       "layout": "IPY_MODEL_d43f5aede7d1473a9a9b8617c14fe2d0",
       "style": "IPY_MODEL_4e3f191a75b446c2bbfe6499fdc43000"
      }
     },
     "0f53c93a31834c078e523be88d7248be": {
      "model_module": "@jupyter-widgets/base",
      "model_module_version": "1.2.0",
      "model_name": "LayoutModel",
      "state": {}
     },
     "1291a1fea40b49608b2928dfaab0d1bc": {
      "model_module": "@jupyter-widgets/controls",
      "model_module_version": "1.5.0",
      "model_name": "VBoxModel",
      "state": {
       "_dom_classes": [
        "widget-interact"
       ],
       "children": [
        "IPY_MODEL_0313d703bc5b4c2b9d7119022f881bb8",
        "IPY_MODEL_67de4224689a41e1bbdb6ca9b59ef4a3",
        "IPY_MODEL_dcda281d038a4e48a9bcabb70a7a2eaf"
       ],
       "layout": "IPY_MODEL_751b8624e7474d0eb0024ce4298f5059"
      }
     },
     "143fd8583a26460da0dd0477b28d04bc": {
      "model_module": "@jupyter-widgets/controls",
      "model_module_version": "1.5.0",
      "model_name": "SliderStyleModel",
      "state": {
       "description_width": ""
      }
     },
     "1735fadd7d2f4049a502eb6c51ae484f": {
      "model_module": "@jupyter-widgets/output",
      "model_module_version": "1.0.0",
      "model_name": "OutputModel",
      "state": {
       "layout": "IPY_MODEL_60304e15be674b92a5daea1a28b622e9",
       "outputs": [
        {
         "name": "stderr",
         "output_type": "stream",
         "text": "<ipython-input-49-29415162118d>:2: RuntimeWarning: divide by zero encountered in log\n  return np.log(e/i);\n"
        },
        {
         "data": {
          "text/plain": "-inf"
         },
         "metadata": {},
         "output_type": "display_data"
        }
       ]
      }
     },
     "18d280f10815407e9988ce715bf9e30d": {
      "model_module": "@jupyter-widgets/base",
      "model_module_version": "1.2.0",
      "model_name": "LayoutModel",
      "state": {}
     },
     "18e40a4a26e84d2e8b4421467e4475bc": {
      "model_module": "@jupyter-widgets/controls",
      "model_module_version": "1.5.0",
      "model_name": "DescriptionStyleModel",
      "state": {
       "description_width": ""
      }
     },
     "19782e940cef4c9faf9d06949aad1729": {
      "model_module": "@jupyter-widgets/output",
      "model_module_version": "1.0.0",
      "model_name": "OutputModel",
      "state": {
       "layout": "IPY_MODEL_5857d3e498b2480a9c02c3852caa1832",
       "outputs": [
        {
         "name": "stdout",
         "output_type": "stream",
         "text": "Potential is: \n"
        },
        {
         "data": {
          "text/plain": "0.005422357768610629"
         },
         "metadata": {},
         "output_type": "display_data"
        }
       ]
      }
     },
     "1999e782b52e42d786df712447f44da8": {
      "model_module": "@jupyter-widgets/base",
      "model_module_version": "1.2.0",
      "model_name": "LayoutModel",
      "state": {}
     },
     "1a770cf3b2ba4c3589a6dfc8edcdfc43": {
      "model_module": "@jupyter-widgets/output",
      "model_module_version": "1.0.0",
      "model_name": "OutputModel",
      "state": {
       "layout": "IPY_MODEL_51ca06578041415095fede99e5144434",
       "outputs": [
        {
         "data": {
          "text/plain": "-2.744417845273085"
         },
         "metadata": {},
         "output_type": "display_data"
        }
       ]
      }
     },
     "1b316881de214484a917cda072d2e77f": {
      "model_module": "@jupyter-widgets/output",
      "model_module_version": "1.0.0",
      "model_name": "OutputModel",
      "state": {
       "layout": "IPY_MODEL_56d5587ac9b84141a6e57cc8968e7c8e",
       "outputs": [
        {
         "name": "stdout",
         "output_type": "stream",
         "text": "9.7\n"
        },
        {
         "data": {
          "text/plain": "-2.7385094085869186"
         },
         "metadata": {},
         "output_type": "display_data"
        }
       ]
      }
     },
     "1c9f472973a8415e8da10bcb9a64acd5": {
      "model_module": "@jupyter-widgets/controls",
      "model_module_version": "1.5.0",
      "model_name": "DescriptionStyleModel",
      "state": {
       "description_width": ""
      }
     },
     "1db657c491e9422dbcbf0f31e8108035": {
      "model_module": "@jupyter-widgets/base",
      "model_module_version": "1.2.0",
      "model_name": "LayoutModel",
      "state": {}
     },
     "1e477bb6bc4944598261f2e59fa30645": {
      "model_module": "@jupyter-widgets/controls",
      "model_module_version": "1.5.0",
      "model_name": "VBoxModel",
      "state": {
       "_dom_classes": [
        "widget-interact"
       ],
       "children": [
        "IPY_MODEL_69a42856430b4183999119cb015c8fc7",
        "IPY_MODEL_265d9024970846a789ba8c212003d99b",
        "IPY_MODEL_709d45e2ad0a4984b07bf572338ab662"
       ],
       "layout": "IPY_MODEL_feca548ff5c94c19bb3c42c8613634dd"
      }
     },
     "1e56475396c345e79b1ee2ec58a9eaf0": {
      "model_module": "@jupyter-widgets/base",
      "model_module_version": "1.2.0",
      "model_name": "LayoutModel",
      "state": {}
     },
     "1ef5d6d0491849e687a1db469087122f": {
      "model_module": "@jupyter-widgets/controls",
      "model_module_version": "1.5.0",
      "model_name": "SliderStyleModel",
      "state": {
       "description_width": ""
      }
     },
     "206c5f9c7f6b454aa0547a8d833eece7": {
      "model_module": "@jupyter-widgets/controls",
      "model_module_version": "1.5.0",
      "model_name": "VBoxModel",
      "state": {
       "_dom_classes": [
        "widget-interact"
       ],
       "children": [
        "IPY_MODEL_ccd7eb52386440df943a9a4cd4018031",
        "IPY_MODEL_352d4ba8b7824dfd9260e793704077e7",
        "IPY_MODEL_ca7cb34846164cc48aa30e2585012134"
       ],
       "layout": "IPY_MODEL_aa4a38c63df54752bd82ef089d325d38"
      }
     },
     "2114db5720e640c5be4c65fbb04f5669": {
      "model_module": "@jupyter-widgets/base",
      "model_module_version": "1.2.0",
      "model_name": "LayoutModel",
      "state": {}
     },
     "223528b2ae614ac18f6921dfaa763b9a": {
      "model_module": "@jupyter-widgets/base",
      "model_module_version": "1.2.0",
      "model_name": "LayoutModel",
      "state": {}
     },
     "2249a7e82f374a2091806dc3c54e52f8": {
      "model_module": "@jupyter-widgets/controls",
      "model_module_version": "1.5.0",
      "model_name": "DropdownModel",
      "state": {
       "_options_labels": [
        "K",
        "Na",
        "Cl"
       ],
       "description": "ion",
       "index": 1,
       "layout": "IPY_MODEL_adb1cc35f0434d49a4c787b5c05ef73b",
       "style": "IPY_MODEL_8630f925859c47b6afa3a47bf787b99d"
      }
     },
     "22a152f8de62484181117cc9e5efda0d": {
      "model_module": "@jupyter-widgets/controls",
      "model_module_version": "1.5.0",
      "model_name": "IntSliderModel",
      "state": {
       "description": "T",
       "layout": "IPY_MODEL_6a9018177ec443d0a569cd264028443d",
       "max": 300,
       "min": 273,
       "style": "IPY_MODEL_66a3496d060646b9a5ce06ed4be7accd",
       "value": 284
      }
     },
     "22c781d50c6f4a3c8d48e3aef5d51fe6": {
      "model_module": "@jupyter-widgets/base",
      "model_module_version": "1.2.0",
      "model_name": "LayoutModel",
      "state": {}
     },
     "234f8f31f871437dab933f82f5cac1f5": {
      "model_module": "@jupyter-widgets/output",
      "model_module_version": "1.0.0",
      "model_name": "OutputModel",
      "state": {
       "layout": "IPY_MODEL_23f8dae9b65b40d8b880cb06e29cffbb",
       "outputs": [
        {
         "data": {
          "application/vnd.jupyter.widget-view+json": {
           "model_id": "0ec2b4d121444bb38f3b6be824802ebc",
           "version_major": 2,
           "version_minor": 0
          },
          "text/plain": "interactive(children=(IntSlider(value=150, description='i', max=200, min=100, step=10), FloatSlider(value=10.0…"
         },
         "metadata": {},
         "output_type": "display_data"
        },
        {
         "name": "stdout",
         "output_type": "stream",
         "text": "<function ionslider at 0x7f863a7bcf70>\n"
        },
        {
         "ename": "TypeError",
         "evalue": "unsupported operand type(s) for *: 'float' and 'function'",
         "output_type": "error",
         "traceback": [
          "\u001b[0;31m\u001b[0m",
          "\u001b[0;31mTypeError\u001b[0mTraceback (most recent call last)",
          "\u001b[0;32m/opt/conda/lib/python3.8/site-packages/ipywidgets/widgets/interaction.py\u001b[0m in \u001b[0;36mupdate\u001b[0;34m(self, *args)\u001b[0m\n\u001b[1;32m    254\u001b[0m                     \u001b[0mvalue\u001b[0m \u001b[0;34m=\u001b[0m \u001b[0mwidget\u001b[0m\u001b[0;34m.\u001b[0m\u001b[0mget_interact_value\u001b[0m\u001b[0;34m(\u001b[0m\u001b[0;34m)\u001b[0m\u001b[0;34m\u001b[0m\u001b[0;34m\u001b[0m\u001b[0m\n\u001b[1;32m    255\u001b[0m                     \u001b[0mself\u001b[0m\u001b[0;34m.\u001b[0m\u001b[0mkwargs\u001b[0m\u001b[0;34m[\u001b[0m\u001b[0mwidget\u001b[0m\u001b[0;34m.\u001b[0m\u001b[0m_kwarg\u001b[0m\u001b[0;34m]\u001b[0m \u001b[0;34m=\u001b[0m \u001b[0mvalue\u001b[0m\u001b[0;34m\u001b[0m\u001b[0;34m\u001b[0m\u001b[0m\n\u001b[0;32m--> 256\u001b[0;31m                 \u001b[0mself\u001b[0m\u001b[0;34m.\u001b[0m\u001b[0mresult\u001b[0m \u001b[0;34m=\u001b[0m \u001b[0mself\u001b[0m\u001b[0;34m.\u001b[0m\u001b[0mf\u001b[0m\u001b[0;34m(\u001b[0m\u001b[0;34m**\u001b[0m\u001b[0mself\u001b[0m\u001b[0;34m.\u001b[0m\u001b[0mkwargs\u001b[0m\u001b[0;34m)\u001b[0m\u001b[0;34m\u001b[0m\u001b[0;34m\u001b[0m\u001b[0m\n\u001b[0m\u001b[1;32m    257\u001b[0m                 \u001b[0mshow_inline_matplotlib_plots\u001b[0m\u001b[0;34m(\u001b[0m\u001b[0;34m)\u001b[0m\u001b[0;34m\u001b[0m\u001b[0;34m\u001b[0m\u001b[0m\n\u001b[1;32m    258\u001b[0m                 \u001b[0;32mif\u001b[0m \u001b[0mself\u001b[0m\u001b[0;34m.\u001b[0m\u001b[0mauto_display\u001b[0m \u001b[0;32mand\u001b[0m \u001b[0mself\u001b[0m\u001b[0;34m.\u001b[0m\u001b[0mresult\u001b[0m \u001b[0;32mis\u001b[0m \u001b[0;32mnot\u001b[0m \u001b[0;32mNone\u001b[0m\u001b[0;34m:\u001b[0m\u001b[0;34m\u001b[0m\u001b[0;34m\u001b[0m\u001b[0m\n",
          "\u001b[0;32m<ipython-input-64-7c5421a7839f>\u001b[0m in \u001b[0;36mf\u001b[0;34m(ion, T)\u001b[0m\n\u001b[1;32m      8\u001b[0m         \u001b[0mlograt\u001b[0m \u001b[0;34m=\u001b[0m \u001b[0minteract\u001b[0m\u001b[0;34m(\u001b[0m\u001b[0mionslider\u001b[0m\u001b[0;34m,\u001b[0m \u001b[0mi\u001b[0m\u001b[0;34m=\u001b[0m\u001b[0;34m(\u001b[0m\u001b[0;36m100\u001b[0m\u001b[0;34m,\u001b[0m\u001b[0;36m200\u001b[0m\u001b[0;34m,\u001b[0m\u001b[0;36m10\u001b[0m\u001b[0;34m)\u001b[0m\u001b[0;34m,\u001b[0m\u001b[0me\u001b[0m \u001b[0;34m=\u001b[0m \u001b[0;34m(\u001b[0m\u001b[0;36m0.1\u001b[0m\u001b[0;34m,\u001b[0m\u001b[0;36m20.0\u001b[0m\u001b[0;34m)\u001b[0m\u001b[0;34m)\u001b[0m\u001b[0;34m;\u001b[0m\u001b[0;34m\u001b[0m\u001b[0;34m\u001b[0m\u001b[0m\n\u001b[1;32m      9\u001b[0m         \u001b[0mprint\u001b[0m\u001b[0;34m(\u001b[0m\u001b[0mlograt\u001b[0m\u001b[0;34m)\u001b[0m\u001b[0;34m\u001b[0m\u001b[0;34m\u001b[0m\u001b[0m\n\u001b[0;32m---> 10\u001b[0;31m         \u001b[0mE\u001b[0m \u001b[0;34m=\u001b[0m\u001b[0;34m(\u001b[0m\u001b[0mR\u001b[0m\u001b[0;34m*\u001b[0m\u001b[0mT\u001b[0m\u001b[0;34m)\u001b[0m\u001b[0;34m*\u001b[0m\u001b[0mlograt\u001b[0m\u001b[0;34m/\u001b[0m\u001b[0;34m(\u001b[0m\u001b[0mF\u001b[0m\u001b[0;34m*\u001b[0m\u001b[0mv\u001b[0m\u001b[0;34m)\u001b[0m\u001b[0;34m\u001b[0m\u001b[0;34m\u001b[0m\u001b[0m\n\u001b[0m\u001b[1;32m     11\u001b[0m     \u001b[0mprint\u001b[0m\u001b[0;34m(\u001b[0m\u001b[0;34m\"Potential is: \"\u001b[0m\u001b[0;34m)\u001b[0m\u001b[0;34m\u001b[0m\u001b[0;34m\u001b[0m\u001b[0m\n\u001b[1;32m     12\u001b[0m     \u001b[0mprint\u001b[0m\u001b[0;34m(\u001b[0m\u001b[0mE\u001b[0m\u001b[0;34m)\u001b[0m\u001b[0;34m\u001b[0m\u001b[0;34m\u001b[0m\u001b[0m\n",
          "\u001b[0;31mTypeError\u001b[0m: unsupported operand type(s) for *: 'float' and 'function'"
         ]
        }
       ]
      }
     },
     "23f8dae9b65b40d8b880cb06e29cffbb": {
      "model_module": "@jupyter-widgets/base",
      "model_module_version": "1.2.0",
      "model_name": "LayoutModel",
      "state": {}
     },
     "254fd6d74b0247cb9fc4c47fcc37d23d": {
      "model_module": "@jupyter-widgets/controls",
      "model_module_version": "1.5.0",
      "model_name": "SliderStyleModel",
      "state": {
       "description_width": ""
      }
     },
     "257794d6f71e45eba6ad522fe8b05b9f": {
      "model_module": "@jupyter-widgets/controls",
      "model_module_version": "1.5.0",
      "model_name": "VBoxModel",
      "state": {
       "_dom_classes": [
        "widget-interact"
       ],
       "children": [
        "IPY_MODEL_01f23be98eec46c3a16aa0d3945ebc1c",
        "IPY_MODEL_59872becc25343a291f35081c5c76a42"
       ],
       "layout": "IPY_MODEL_8ef46862de294a448813617cb7ef783f"
      }
     },
     "260c024703d340a2b9eff34acb9fbe7c": {
      "model_module": "@jupyter-widgets/base",
      "model_module_version": "1.2.0",
      "model_name": "LayoutModel",
      "state": {}
     },
     "265d9024970846a789ba8c212003d99b": {
      "model_module": "@jupyter-widgets/controls",
      "model_module_version": "1.5.0",
      "model_name": "FloatSliderModel",
      "state": {
       "description": "e",
       "layout": "IPY_MODEL_a6caa8a4212f42189c1bd9ff6b82d0bf",
       "max": 20,
       "min": 0.1,
       "step": 0.1,
       "style": "IPY_MODEL_c59b718418404dc0aca966024a7ae359",
       "value": 10.049999999999999
      }
     },
     "26e3e23549084141b7980df7f3110eef": {
      "model_module": "@jupyter-widgets/controls",
      "model_module_version": "1.5.0",
      "model_name": "DropdownModel",
      "state": {
       "_options_labels": [
        "K",
        "Na",
        "Cl"
       ],
       "description": "ion",
       "index": 0,
       "layout": "IPY_MODEL_1999e782b52e42d786df712447f44da8",
       "style": "IPY_MODEL_029a793acad1498d81f18c321354583c"
      }
     },
     "2760464a79cf4476a2d0f6a5624e429b": {
      "model_module": "@jupyter-widgets/base",
      "model_module_version": "1.2.0",
      "model_name": "LayoutModel",
      "state": {}
     },
     "27d407a515bd44dd96e83ea772bd56e1": {
      "model_module": "@jupyter-widgets/controls",
      "model_module_version": "1.5.0",
      "model_name": "VBoxModel",
      "state": {
       "_dom_classes": [
        "widget-interact"
       ],
       "children": [
        "IPY_MODEL_636838efb54b42d68d97f8fa389ebd07",
        "IPY_MODEL_64577c247f724e1781054c451e8a8ccc",
        "IPY_MODEL_77d8b5fdcc7f4ee09b7231b6ca445f5e"
       ],
       "layout": "IPY_MODEL_040b086bc55f4be69ffa932c4df62342"
      }
     },
     "28aa0b6ffb834cfab6cb2ff867686fe5": {
      "model_module": "@jupyter-widgets/controls",
      "model_module_version": "1.5.0",
      "model_name": "IntSliderModel",
      "state": {
       "description": "T",
       "layout": "IPY_MODEL_4a6b83002d5d4a55b21035ebd9e1796a",
       "max": 300,
       "min": 273,
       "style": "IPY_MODEL_7bfc2b4b26994747ab777731f407e687",
       "value": 286
      }
     },
     "29fc4ededa4b489c877d22735d775539": {
      "model_module": "@jupyter-widgets/controls",
      "model_module_version": "1.5.0",
      "model_name": "VBoxModel",
      "state": {
       "_dom_classes": [
        "widget-interact"
       ],
       "children": [
        "IPY_MODEL_444addbe8e77484cabca21134efbbfaf",
        "IPY_MODEL_c6218d69eb6945069dcf7af588d096f6",
        "IPY_MODEL_e8351c3ab486483d85032c9353849f8e"
       ],
       "layout": "IPY_MODEL_513f7947db154255a798168539f5a431"
      }
     },
     "2b07c3bd259547699ffd551158e49ac1": {
      "model_module": "@jupyter-widgets/controls",
      "model_module_version": "1.5.0",
      "model_name": "VBoxModel",
      "state": {
       "_dom_classes": [
        "widget-interact"
       ],
       "children": [
        "IPY_MODEL_2d8038d5a3634c56909a4cf61b8dc11b",
        "IPY_MODEL_22a152f8de62484181117cc9e5efda0d",
        "IPY_MODEL_b9c356edafaa438db170305cb030e4f9"
       ],
       "layout": "IPY_MODEL_2c99de90ccb942d4af3a5bdf872bbe0d"
      }
     },
     "2b0f0a6befc14bf59a6f59d25db85bc0": {
      "model_module": "@jupyter-widgets/controls",
      "model_module_version": "1.5.0",
      "model_name": "SliderStyleModel",
      "state": {
       "description_width": ""
      }
     },
     "2bb4e93c999e41fd91d22b10c76d536c": {
      "model_module": "@jupyter-widgets/controls",
      "model_module_version": "1.5.0",
      "model_name": "SliderStyleModel",
      "state": {
       "description_width": ""
      }
     },
     "2bba5edd61504c878be935c133e3edd9": {
      "model_module": "@jupyter-widgets/controls",
      "model_module_version": "1.5.0",
      "model_name": "VBoxModel",
      "state": {
       "_dom_classes": [
        "widget-interact"
       ],
       "children": [
        "IPY_MODEL_fffe4a8809184eff861461d8452e4b3d",
        "IPY_MODEL_00e6b7a4a32d4e42a153f682f75180e9",
        "IPY_MODEL_fdbc407a360742fba9b548d48cf93b6b"
       ],
       "layout": "IPY_MODEL_2c0aadced3fe4409a2b2f5d3e29e73a6"
      }
     },
     "2bfc714694ba48aaa5dbecfe88942537": {
      "model_module": "@jupyter-widgets/controls",
      "model_module_version": "1.5.0",
      "model_name": "SliderStyleModel",
      "state": {
       "description_width": ""
      }
     },
     "2c0aadced3fe4409a2b2f5d3e29e73a6": {
      "model_module": "@jupyter-widgets/base",
      "model_module_version": "1.2.0",
      "model_name": "LayoutModel",
      "state": {}
     },
     "2c4bb3e9895f40bc95f8609104424f4c": {
      "model_module": "@jupyter-widgets/controls",
      "model_module_version": "1.5.0",
      "model_name": "DropdownModel",
      "state": {
       "_options_labels": [
        "K",
        "Na",
        "Cl"
       ],
       "description": "ion",
       "index": 0,
       "layout": "IPY_MODEL_8ddff9089dd840768f8288e942d46f0c",
       "style": "IPY_MODEL_e19d602a4d234fb08eccb651a7f9f65c"
      }
     },
     "2c77d3a5767c4c1fa388a1b9c11aef7b": {
      "model_module": "@jupyter-widgets/controls",
      "model_module_version": "1.5.0",
      "model_name": "SliderStyleModel",
      "state": {
       "description_width": ""
      }
     },
     "2c99de90ccb942d4af3a5bdf872bbe0d": {
      "model_module": "@jupyter-widgets/base",
      "model_module_version": "1.2.0",
      "model_name": "LayoutModel",
      "state": {}
     },
     "2cd3f304747b4a6d975937e926efc9d5": {
      "model_module": "@jupyter-widgets/base",
      "model_module_version": "1.2.0",
      "model_name": "LayoutModel",
      "state": {}
     },
     "2d8038d5a3634c56909a4cf61b8dc11b": {
      "model_module": "@jupyter-widgets/controls",
      "model_module_version": "1.5.0",
      "model_name": "DropdownModel",
      "state": {
       "_options_labels": [
        "K",
        "Na",
        "Cl"
       ],
       "description": "v",
       "index": 0,
       "layout": "IPY_MODEL_d1585c374faa4b828dfbe9ccafafb9f3",
       "style": "IPY_MODEL_b2afe178a1ae449ca55f7fa47e8b5887"
      }
     },
     "2de2e9238e0e42b29a0b3d767788e10a": {
      "model_module": "@jupyter-widgets/controls",
      "model_module_version": "1.5.0",
      "model_name": "IntSliderModel",
      "state": {
       "description": "e",
       "layout": "IPY_MODEL_dbd4bf99894f4c35b52005eb931cba7f",
       "max": 20,
       "min": -20,
       "style": "IPY_MODEL_254fd6d74b0247cb9fc4c47fcc37d23d"
      }
     },
     "2e749596a0ce4749be2474416c191e54": {
      "model_module": "@jupyter-widgets/controls",
      "model_module_version": "1.5.0",
      "model_name": "VBoxModel",
      "state": {
       "_dom_classes": [
        "widget-interact"
       ],
       "layout": "IPY_MODEL_e727de8a881b467b901cf02864e0388a"
      }
     },
     "2ee5584f8ec54dfca905f9a4b88feffc": {
      "model_module": "@jupyter-widgets/controls",
      "model_module_version": "1.5.0",
      "model_name": "SliderStyleModel",
      "state": {
       "description_width": ""
      }
     },
     "2f7e2cd7223b42659716f4d8722f9e3f": {
      "model_module": "@jupyter-widgets/base",
      "model_module_version": "1.2.0",
      "model_name": "LayoutModel",
      "state": {}
     },
     "2f7f4687990945509311db52ee2efd23": {
      "model_module": "@jupyter-widgets/controls",
      "model_module_version": "1.5.0",
      "model_name": "VBoxModel",
      "state": {
       "_dom_classes": [
        "widget-interact"
       ],
       "children": [
        "IPY_MODEL_963f1c9f94004bbdb5ac63978293a714",
        "IPY_MODEL_c1123aa46e9e438a8bf0c4aabd4b805e",
        "IPY_MODEL_ddb004ec2b8d424b86a9cf6007e07132"
       ],
       "layout": "IPY_MODEL_049565b77e114e9faa4a325c1e7472e7"
      }
     },
     "30d1016fb2c747d08e00b003a8ccadad": {
      "model_module": "@jupyter-widgets/base",
      "model_module_version": "1.2.0",
      "model_name": "LayoutModel",
      "state": {}
     },
     "319bc9e0a64f4d28a29ddbd818afeab5": {
      "model_module": "@jupyter-widgets/controls",
      "model_module_version": "1.5.0",
      "model_name": "VBoxModel",
      "state": {
       "_dom_classes": [
        "widget-interact"
       ],
       "children": [
        "IPY_MODEL_e109a190a002498aa044dd8f742b3d61",
        "IPY_MODEL_0e34c22b8c6a49ec8a0891f8910c7459",
        "IPY_MODEL_19782e940cef4c9faf9d06949aad1729"
       ],
       "layout": "IPY_MODEL_448f5bbaa9c847d99a3c6975d919274d"
      }
     },
     "339677d45ba24074bb9840e78135460b": {
      "model_module": "@jupyter-widgets/controls",
      "model_module_version": "1.5.0",
      "model_name": "DropdownModel",
      "state": {
       "_options_labels": [
        "K",
        "Na",
        "Cl"
       ],
       "description": "ion",
       "index": 0,
       "layout": "IPY_MODEL_b1f67ef17ea0402eaed57de46c29bbb5",
       "style": "IPY_MODEL_33b1261c500c4e3e9712dc8830fcf6a6"
      }
     },
     "33b1261c500c4e3e9712dc8830fcf6a6": {
      "model_module": "@jupyter-widgets/controls",
      "model_module_version": "1.5.0",
      "model_name": "DescriptionStyleModel",
      "state": {
       "description_width": ""
      }
     },
     "33cf8cb976ba45ebbfd670ff084979ad": {
      "model_module": "@jupyter-widgets/base",
      "model_module_version": "1.2.0",
      "model_name": "LayoutModel",
      "state": {}
     },
     "33d180a198e84ac2bb8be657e06134a1": {
      "model_module": "@jupyter-widgets/base",
      "model_module_version": "1.2.0",
      "model_name": "LayoutModel",
      "state": {}
     },
     "352d4ba8b7824dfd9260e793704077e7": {
      "model_module": "@jupyter-widgets/controls",
      "model_module_version": "1.5.0",
      "model_name": "IntSliderModel",
      "state": {
       "description": "e",
       "layout": "IPY_MODEL_913d9064a8584fe49549fe0e759eafb4",
       "max": 20,
       "min": -20,
       "style": "IPY_MODEL_378c42c3fc9740b7b062d7683571f8ac"
      }
     },
     "36c7480e561e47f5859d669205cd5192": {
      "model_module": "@jupyter-widgets/base",
      "model_module_version": "1.2.0",
      "model_name": "LayoutModel",
      "state": {}
     },
     "371f07bfafe74d13b97fe0028162dd27": {
      "model_module": "@jupyter-widgets/controls",
      "model_module_version": "1.5.0",
      "model_name": "DescriptionStyleModel",
      "state": {
       "description_width": ""
      }
     },
     "378c42c3fc9740b7b062d7683571f8ac": {
      "model_module": "@jupyter-widgets/controls",
      "model_module_version": "1.5.0",
      "model_name": "SliderStyleModel",
      "state": {
       "description_width": ""
      }
     },
     "37c032e91a32442cba48c65aaef1f868": {
      "model_module": "@jupyter-widgets/base",
      "model_module_version": "1.2.0",
      "model_name": "LayoutModel",
      "state": {}
     },
     "3a5e98a21c2544cc94702722c6a8bda4": {
      "model_module": "@jupyter-widgets/controls",
      "model_module_version": "1.5.0",
      "model_name": "VBoxModel",
      "state": {
       "_dom_classes": [
        "widget-interact"
       ],
       "children": [
        "IPY_MODEL_26e3e23549084141b7980df7f3110eef",
        "IPY_MODEL_0d52a238e74c43458b692d3f42e3bcd6",
        "IPY_MODEL_40f73519b422428c9cdcf58fc8485a27"
       ],
       "layout": "IPY_MODEL_72b8c70376ba4d03b90a102eb4189999"
      }
     },
     "3a97bebdaa44459dad75bd9e6c0eddb6": {
      "model_module": "@jupyter-widgets/controls",
      "model_module_version": "1.5.0",
      "model_name": "FloatSliderModel",
      "state": {
       "description": "e",
       "layout": "IPY_MODEL_33d180a198e84ac2bb8be657e06134a1",
       "max": 20,
       "min": 0.1,
       "step": 0.1,
       "style": "IPY_MODEL_9f9b91eb82c247399debda6f9cd879c5",
       "value": 13.4
      }
     },
     "3b23b670ec164a908fbc7e42002a953d": {
      "model_module": "@jupyter-widgets/base",
      "model_module_version": "1.2.0",
      "model_name": "LayoutModel",
      "state": {}
     },
     "3b6682d05cb34a7ebf88fd63f4390e1d": {
      "model_module": "@jupyter-widgets/controls",
      "model_module_version": "1.5.0",
      "model_name": "IntSliderModel",
      "state": {
       "description": "i",
       "layout": "IPY_MODEL_44f4f262c16a42d0bbdf3b239deb5975",
       "max": 200,
       "min": 100,
       "step": 10,
       "style": "IPY_MODEL_c70e61b59da746e4ada4051078435134",
       "value": 150
      }
     },
     "3b86f6404d8449159578b61c10b772c7": {
      "model_module": "@jupyter-widgets/controls",
      "model_module_version": "1.5.0",
      "model_name": "SliderStyleModel",
      "state": {
       "description_width": ""
      }
     },
     "3b921419feab41ef9b903084f8ebe104": {
      "model_module": "@jupyter-widgets/controls",
      "model_module_version": "1.5.0",
      "model_name": "SliderStyleModel",
      "state": {
       "description_width": ""
      }
     },
     "3b954fb15cb441adbc35103ae442d514": {
      "model_module": "@jupyter-widgets/base",
      "model_module_version": "1.2.0",
      "model_name": "LayoutModel",
      "state": {}
     },
     "3c0eecb0fb184cd1be570b8edb3ce0b1": {
      "model_module": "@jupyter-widgets/output",
      "model_module_version": "1.0.0",
      "model_name": "OutputModel",
      "state": {
       "layout": "IPY_MODEL_fd032368f4a143f3b54f56c1bfc5e0a4",
       "outputs": [
        {
         "data": {
          "text/plain": "1"
         },
         "metadata": {},
         "output_type": "display_data"
        }
       ]
      }
     },
     "3db22ecc309d45409ca75648ac843567": {
      "model_module": "@jupyter-widgets/controls",
      "model_module_version": "1.5.0",
      "model_name": "VBoxModel",
      "state": {
       "_dom_classes": [
        "widget-interact"
       ],
       "children": [
        "IPY_MODEL_c9337b22d5d4441aaac5ef4f44d40b35",
        "IPY_MODEL_3a97bebdaa44459dad75bd9e6c0eddb6",
        "IPY_MODEL_45978bbd223745c29f91254c11b4a0ba"
       ],
       "layout": "IPY_MODEL_30d1016fb2c747d08e00b003a8ccadad"
      }
     },
     "3df40ff701844931946d0d5cf518b40f": {
      "model_module": "@jupyter-widgets/base",
      "model_module_version": "1.2.0",
      "model_name": "LayoutModel",
      "state": {}
     },
     "3e0955a9550f44129e2eb78a7d242b0b": {
      "model_module": "@jupyter-widgets/controls",
      "model_module_version": "1.5.0",
      "model_name": "VBoxModel",
      "state": {
       "_dom_classes": [
        "widget-interact"
       ],
       "layout": "IPY_MODEL_5fcc94f74e1a43b1aeb8c81bf3096660"
      }
     },
     "3e12129851f5428dba5a8fd2e6947715": {
      "model_module": "@jupyter-widgets/base",
      "model_module_version": "1.2.0",
      "model_name": "LayoutModel",
      "state": {}
     },
     "3eb7b447914c4303a532d3a47d1d774b": {
      "model_module": "@jupyter-widgets/base",
      "model_module_version": "1.2.0",
      "model_name": "LayoutModel",
      "state": {}
     },
     "40662b6cc7294b7fbf16d5ca1c59d573": {
      "model_module": "@jupyter-widgets/controls",
      "model_module_version": "1.5.0",
      "model_name": "IntSliderModel",
      "state": {
       "description": "T",
       "layout": "IPY_MODEL_7639d3bd71234090ad1fd1dff4947f7c",
       "max": 300,
       "min": 273,
       "style": "IPY_MODEL_2bfc714694ba48aaa5dbecfe88942537",
       "value": 286
      }
     },
     "40f73519b422428c9cdcf58fc8485a27": {
      "model_module": "@jupyter-widgets/output",
      "model_module_version": "1.0.0",
      "model_name": "OutputModel",
      "state": {
       "layout": "IPY_MODEL_d6f272c55570418b8a56e2c777246750",
       "outputs": [
        {
         "ename": "NameError",
         "evalue": "name 'v' is not defined",
         "output_type": "error",
         "traceback": [
          "\u001b[0;31m\u001b[0m",
          "\u001b[0;31mNameError\u001b[0mTraceback (most recent call last)",
          "\u001b[0;32m/opt/conda/lib/python3.8/site-packages/ipywidgets/widgets/interaction.py\u001b[0m in \u001b[0;36mupdate\u001b[0;34m(self, *args)\u001b[0m\n\u001b[1;32m    254\u001b[0m                     \u001b[0mvalue\u001b[0m \u001b[0;34m=\u001b[0m \u001b[0mwidget\u001b[0m\u001b[0;34m.\u001b[0m\u001b[0mget_interact_value\u001b[0m\u001b[0;34m(\u001b[0m\u001b[0;34m)\u001b[0m\u001b[0;34m\u001b[0m\u001b[0;34m\u001b[0m\u001b[0m\n\u001b[1;32m    255\u001b[0m                     \u001b[0mself\u001b[0m\u001b[0;34m.\u001b[0m\u001b[0mkwargs\u001b[0m\u001b[0;34m[\u001b[0m\u001b[0mwidget\u001b[0m\u001b[0;34m.\u001b[0m\u001b[0m_kwarg\u001b[0m\u001b[0;34m]\u001b[0m \u001b[0;34m=\u001b[0m \u001b[0mvalue\u001b[0m\u001b[0;34m\u001b[0m\u001b[0;34m\u001b[0m\u001b[0m\n\u001b[0;32m--> 256\u001b[0;31m                 \u001b[0mself\u001b[0m\u001b[0;34m.\u001b[0m\u001b[0mresult\u001b[0m \u001b[0;34m=\u001b[0m \u001b[0mself\u001b[0m\u001b[0;34m.\u001b[0m\u001b[0mf\u001b[0m\u001b[0;34m(\u001b[0m\u001b[0;34m**\u001b[0m\u001b[0mself\u001b[0m\u001b[0;34m.\u001b[0m\u001b[0mkwargs\u001b[0m\u001b[0;34m)\u001b[0m\u001b[0;34m\u001b[0m\u001b[0;34m\u001b[0m\u001b[0m\n\u001b[0m\u001b[1;32m    257\u001b[0m                 \u001b[0mshow_inline_matplotlib_plots\u001b[0m\u001b[0;34m(\u001b[0m\u001b[0;34m)\u001b[0m\u001b[0;34m\u001b[0m\u001b[0;34m\u001b[0m\u001b[0m\n\u001b[1;32m    258\u001b[0m                 \u001b[0;32mif\u001b[0m \u001b[0mself\u001b[0m\u001b[0;34m.\u001b[0m\u001b[0mauto_display\u001b[0m \u001b[0;32mand\u001b[0m \u001b[0mself\u001b[0m\u001b[0;34m.\u001b[0m\u001b[0mresult\u001b[0m \u001b[0;32mis\u001b[0m \u001b[0;32mnot\u001b[0m \u001b[0;32mNone\u001b[0m\u001b[0;34m:\u001b[0m\u001b[0;34m\u001b[0m\u001b[0;34m\u001b[0m\u001b[0m\n",
          "\u001b[0;32m<ipython-input-56-78e93b41d2fd>\u001b[0m in \u001b[0;36mf\u001b[0;34m(ion, T)\u001b[0m\n\u001b[1;32m      2\u001b[0m     \u001b[0mR\u001b[0m \u001b[0;34m=\u001b[0m \u001b[0;36m8.314\u001b[0m\u001b[0;34m;\u001b[0m\u001b[0;34m\u001b[0m\u001b[0;34m\u001b[0m\u001b[0m\n\u001b[1;32m      3\u001b[0m     \u001b[0mF\u001b[0m \u001b[0;34m=\u001b[0m \u001b[0;36m96484\u001b[0m\u001b[0;34m;\u001b[0m\u001b[0;34m\u001b[0m\u001b[0;34m\u001b[0m\u001b[0m\n\u001b[0;32m----> 4\u001b[0;31m     \u001b[0mE\u001b[0m \u001b[0;34m=\u001b[0m\u001b[0;34m(\u001b[0m\u001b[0mR\u001b[0m\u001b[0;34m*\u001b[0m\u001b[0mT\u001b[0m\u001b[0;34m)\u001b[0m\u001b[0;34m*\u001b[0m\u001b[0mnp\u001b[0m\u001b[0;34m.\u001b[0m\u001b[0mlog\u001b[0m\u001b[0;34m(\u001b[0m\u001b[0;36m5\u001b[0m\u001b[0;34m/\u001b[0m\u001b[0;36m4\u001b[0m\u001b[0;34m)\u001b[0m\u001b[0;34m/\u001b[0m\u001b[0;34m(\u001b[0m\u001b[0mF\u001b[0m\u001b[0;34m*\u001b[0m\u001b[0mv\u001b[0m\u001b[0;34m)\u001b[0m\u001b[0;34m\u001b[0m\u001b[0;34m\u001b[0m\u001b[0m\n\u001b[0m\u001b[1;32m      5\u001b[0m \u001b[0;34m\u001b[0m\u001b[0m\n\u001b[1;32m      6\u001b[0m     \u001b[0;32mif\u001b[0m\u001b[0;34m(\u001b[0m\u001b[0mion\u001b[0m\u001b[0;34m==\u001b[0m\u001b[0;34m'K'\u001b[0m\u001b[0;34m)\u001b[0m\u001b[0;34m:\u001b[0m\u001b[0;34m\u001b[0m\u001b[0;34m\u001b[0m\u001b[0m\n",
          "\u001b[0;31mNameError\u001b[0m: name 'v' is not defined"
         ]
        }
       ]
      }
     },
     "4115670a73bb4e138aa297cda53e3568": {
      "model_module": "@jupyter-widgets/output",
      "model_module_version": "1.0.0",
      "model_name": "OutputModel",
      "state": {
       "layout": "IPY_MODEL_c48ad9695cee44a4ad1e19b83c163b23",
       "outputs": [
        {
         "data": {
          "text/plain": "-2.703062659591171"
         },
         "metadata": {},
         "output_type": "display_data"
        }
       ]
      }
     },
     "412137144f07439084efa9541c0a35d4": {
      "model_module": "@jupyter-widgets/base",
      "model_module_version": "1.2.0",
      "model_name": "LayoutModel",
      "state": {}
     },
     "428703f11a2d4c32934b2e5cc608e6d6": {
      "model_module": "@jupyter-widgets/controls",
      "model_module_version": "1.5.0",
      "model_name": "VBoxModel",
      "state": {
       "_dom_classes": [
        "widget-interact"
       ],
       "children": [
        "IPY_MODEL_a1a0946ccede4822b927d2346dd0a109",
        "IPY_MODEL_cb88915983c046828129d2ccca191157",
        "IPY_MODEL_db5a1339b661489c82994ae9048e1ec5"
       ],
       "layout": "IPY_MODEL_1e56475396c345e79b1ee2ec58a9eaf0"
      }
     },
     "444addbe8e77484cabca21134efbbfaf": {
      "model_module": "@jupyter-widgets/controls",
      "model_module_version": "1.5.0",
      "model_name": "IntSliderModel",
      "state": {
       "description": "i",
       "layout": "IPY_MODEL_eca7e4c1b0074f698dbe855b5ca5eb8e",
       "max": 200,
       "min": 100,
       "step": 10,
       "style": "IPY_MODEL_092f14ce46bd4c9699e79e20fe1cc022",
       "value": 150
      }
     },
     "448f5bbaa9c847d99a3c6975d919274d": {
      "model_module": "@jupyter-widgets/base",
      "model_module_version": "1.2.0",
      "model_name": "LayoutModel",
      "state": {}
     },
     "44f4f262c16a42d0bbdf3b239deb5975": {
      "model_module": "@jupyter-widgets/base",
      "model_module_version": "1.2.0",
      "model_name": "LayoutModel",
      "state": {}
     },
     "45978bbd223745c29f91254c11b4a0ba": {
      "model_module": "@jupyter-widgets/output",
      "model_module_version": "1.0.0",
      "model_name": "OutputModel",
      "state": {
       "layout": "IPY_MODEL_6e1ccc14e63a498b9e5b93888f104d26",
       "outputs": [
        {
         "data": {
          "text/plain": "-2.41538058713939"
         },
         "metadata": {},
         "output_type": "display_data"
        }
       ]
      }
     },
     "46488cd76a074e82a822410d4bc183a3": {
      "model_module": "@jupyter-widgets/controls",
      "model_module_version": "1.5.0",
      "model_name": "VBoxModel",
      "state": {
       "_dom_classes": [
        "widget-interact"
       ],
       "children": [
        "IPY_MODEL_c474c5756e374d5487dd71dbad1f682b",
        "IPY_MODEL_09823b53dec94a46bb9a3bdf27bdb8cd",
        "IPY_MODEL_1a770cf3b2ba4c3589a6dfc8edcdfc43"
       ],
       "layout": "IPY_MODEL_5c90d71a1bb94d7d888c4b67f874476e"
      }
     },
     "46a6035f3bb8476094c2732d922b642e": {
      "model_module": "@jupyter-widgets/base",
      "model_module_version": "1.2.0",
      "model_name": "LayoutModel",
      "state": {}
     },
     "47ca73e53bf446a4866bde98fc68b348": {
      "model_module": "@jupyter-widgets/controls",
      "model_module_version": "1.5.0",
      "model_name": "DescriptionStyleModel",
      "state": {
       "description_width": ""
      }
     },
     "481279aeb91948dc89882cb6acf22e57": {
      "model_module": "@jupyter-widgets/controls",
      "model_module_version": "1.5.0",
      "model_name": "SliderStyleModel",
      "state": {
       "description_width": ""
      }
     },
     "48583bf127bd4b7c9cabb5847f150bfa": {
      "model_module": "@jupyter-widgets/base",
      "model_module_version": "1.2.0",
      "model_name": "LayoutModel",
      "state": {}
     },
     "488fc6a98a904d0aa95924c0562b8c2f": {
      "model_module": "@jupyter-widgets/base",
      "model_module_version": "1.2.0",
      "model_name": "LayoutModel",
      "state": {}
     },
     "490dc1358aa34d1aa48999fc5eae5467": {
      "model_module": "@jupyter-widgets/controls",
      "model_module_version": "1.5.0",
      "model_name": "SliderStyleModel",
      "state": {
       "description_width": ""
      }
     },
     "49f40cecded04fd7be2f73da3ec69db1": {
      "model_module": "@jupyter-widgets/controls",
      "model_module_version": "1.5.0",
      "model_name": "DescriptionStyleModel",
      "state": {
       "description_width": ""
      }
     },
     "4a201d0a8cdd44d6ac11202c9b3c2c4f": {
      "model_module": "@jupyter-widgets/base",
      "model_module_version": "1.2.0",
      "model_name": "LayoutModel",
      "state": {}
     },
     "4a6b83002d5d4a55b21035ebd9e1796a": {
      "model_module": "@jupyter-widgets/base",
      "model_module_version": "1.2.0",
      "model_name": "LayoutModel",
      "state": {}
     },
     "4abae470898c4f2d99cd8ce6a42d5e6a": {
      "model_module": "@jupyter-widgets/controls",
      "model_module_version": "1.5.0",
      "model_name": "SliderStyleModel",
      "state": {
       "description_width": ""
      }
     },
     "4b8b59c750324236999213e22f451a4c": {
      "model_module": "@jupyter-widgets/base",
      "model_module_version": "1.2.0",
      "model_name": "LayoutModel",
      "state": {}
     },
     "4c36a48ac62240fab6238cd541dea6c1": {
      "model_module": "@jupyter-widgets/controls",
      "model_module_version": "1.5.0",
      "model_name": "IntSliderModel",
      "state": {
       "description": "T",
       "layout": "IPY_MODEL_a5829371054e4dd3b6e8a1b8648573fd",
       "max": 300,
       "min": 273,
       "style": "IPY_MODEL_9e97adbe86bc40278ed53444599605fc",
       "value": 293
      }
     },
     "4e3f191a75b446c2bbfe6499fdc43000": {
      "model_module": "@jupyter-widgets/controls",
      "model_module_version": "1.5.0",
      "model_name": "DescriptionStyleModel",
      "state": {
       "description_width": ""
      }
     },
     "50b4b2bbb76f465f8d16084b93bdffa1": {
      "model_module": "@jupyter-widgets/base",
      "model_module_version": "1.2.0",
      "model_name": "LayoutModel",
      "state": {}
     },
     "513f7947db154255a798168539f5a431": {
      "model_module": "@jupyter-widgets/base",
      "model_module_version": "1.2.0",
      "model_name": "LayoutModel",
      "state": {}
     },
     "51ca06578041415095fede99e5144434": {
      "model_module": "@jupyter-widgets/base",
      "model_module_version": "1.2.0",
      "model_name": "LayoutModel",
      "state": {}
     },
     "51cb87f326c0493a969664c9449fdc4b": {
      "model_module": "@jupyter-widgets/base",
      "model_module_version": "1.2.0",
      "model_name": "LayoutModel",
      "state": {}
     },
     "5379dbdec5fb4d519d880547553a864d": {
      "model_module": "@jupyter-widgets/output",
      "model_module_version": "1.0.0",
      "model_name": "OutputModel",
      "state": {
       "layout": "IPY_MODEL_0d899cc99f6b419cbe936b3447f51dd2",
       "outputs": [
        {
         "data": {
          "application/vnd.jupyter.widget-view+json": {
           "model_id": "696d9c3b9ca349998d6b5e5b0e00ede2",
           "version_major": 2,
           "version_minor": 0
          },
          "text/plain": "interactive(children=(IntSlider(value=150, description='i', max=200, min=100, step=10), IntSlider(value=0, des…"
         },
         "metadata": {},
         "output_type": "display_data"
        },
        {
         "ename": "TypeError",
         "evalue": "unsupported operand type(s) for *: 'float' and 'function'",
         "output_type": "error",
         "traceback": [
          "\u001b[0;31m\u001b[0m",
          "\u001b[0;31mTypeError\u001b[0mTraceback (most recent call last)",
          "\u001b[0;32m/opt/conda/lib/python3.8/site-packages/ipywidgets/widgets/interaction.py\u001b[0m in \u001b[0;36mupdate\u001b[0;34m(self, *args)\u001b[0m\n\u001b[1;32m    254\u001b[0m                     \u001b[0mvalue\u001b[0m \u001b[0;34m=\u001b[0m \u001b[0mwidget\u001b[0m\u001b[0;34m.\u001b[0m\u001b[0mget_interact_value\u001b[0m\u001b[0;34m(\u001b[0m\u001b[0;34m)\u001b[0m\u001b[0;34m\u001b[0m\u001b[0;34m\u001b[0m\u001b[0m\n\u001b[1;32m    255\u001b[0m                     \u001b[0mself\u001b[0m\u001b[0;34m.\u001b[0m\u001b[0mkwargs\u001b[0m\u001b[0;34m[\u001b[0m\u001b[0mwidget\u001b[0m\u001b[0;34m.\u001b[0m\u001b[0m_kwarg\u001b[0m\u001b[0;34m]\u001b[0m \u001b[0;34m=\u001b[0m \u001b[0mvalue\u001b[0m\u001b[0;34m\u001b[0m\u001b[0;34m\u001b[0m\u001b[0m\n\u001b[0;32m--> 256\u001b[0;31m                 \u001b[0mself\u001b[0m\u001b[0;34m.\u001b[0m\u001b[0mresult\u001b[0m \u001b[0;34m=\u001b[0m \u001b[0mself\u001b[0m\u001b[0;34m.\u001b[0m\u001b[0mf\u001b[0m\u001b[0;34m(\u001b[0m\u001b[0;34m**\u001b[0m\u001b[0mself\u001b[0m\u001b[0;34m.\u001b[0m\u001b[0mkwargs\u001b[0m\u001b[0;34m)\u001b[0m\u001b[0;34m\u001b[0m\u001b[0;34m\u001b[0m\u001b[0m\n\u001b[0m\u001b[1;32m    257\u001b[0m                 \u001b[0mshow_inline_matplotlib_plots\u001b[0m\u001b[0;34m(\u001b[0m\u001b[0;34m)\u001b[0m\u001b[0;34m\u001b[0m\u001b[0;34m\u001b[0m\u001b[0m\n\u001b[1;32m    258\u001b[0m                 \u001b[0;32mif\u001b[0m \u001b[0mself\u001b[0m\u001b[0;34m.\u001b[0m\u001b[0mauto_display\u001b[0m \u001b[0;32mand\u001b[0m \u001b[0mself\u001b[0m\u001b[0;34m.\u001b[0m\u001b[0mresult\u001b[0m \u001b[0;32mis\u001b[0m \u001b[0;32mnot\u001b[0m \u001b[0;32mNone\u001b[0m\u001b[0;34m:\u001b[0m\u001b[0;34m\u001b[0m\u001b[0;34m\u001b[0m\u001b[0m\n",
          "\u001b[0;32m<ipython-input-58-e19959fce391>\u001b[0m in \u001b[0;36mf\u001b[0;34m(ion, T)\u001b[0m\n\u001b[1;32m      7\u001b[0m         \u001b[0mz\u001b[0m \u001b[0;34m=\u001b[0m \u001b[0;34m+\u001b[0m\u001b[0;36m1\u001b[0m\u001b[0;34m;\u001b[0m\u001b[0;34m\u001b[0m\u001b[0;34m\u001b[0m\u001b[0m\n\u001b[1;32m      8\u001b[0m         \u001b[0mlograt\u001b[0m \u001b[0;34m=\u001b[0m \u001b[0minteract\u001b[0m\u001b[0;34m(\u001b[0m\u001b[0mionslider\u001b[0m\u001b[0;34m,\u001b[0m \u001b[0mi\u001b[0m\u001b[0;34m=\u001b[0m\u001b[0;34m(\u001b[0m\u001b[0;36m100\u001b[0m\u001b[0;34m,\u001b[0m\u001b[0;36m200\u001b[0m\u001b[0;34m,\u001b[0m\u001b[0;36m10\u001b[0m\u001b[0;34m)\u001b[0m\u001b[0;34m,\u001b[0m\u001b[0me\u001b[0m \u001b[0;34m=\u001b[0m \u001b[0;34m(\u001b[0m\u001b[0;34m-\u001b[0m\u001b[0;36m20\u001b[0m\u001b[0;34m,\u001b[0m\u001b[0;36m20\u001b[0m\u001b[0;34m,\u001b[0m\u001b[0;36m1\u001b[0m\u001b[0;34m)\u001b[0m\u001b[0;34m)\u001b[0m\u001b[0;34m;\u001b[0m\u001b[0;34m\u001b[0m\u001b[0;34m\u001b[0m\u001b[0m\n\u001b[0;32m----> 9\u001b[0;31m         \u001b[0mE\u001b[0m \u001b[0;34m=\u001b[0m\u001b[0;34m(\u001b[0m\u001b[0mR\u001b[0m\u001b[0;34m*\u001b[0m\u001b[0mT\u001b[0m\u001b[0;34m)\u001b[0m\u001b[0;34m*\u001b[0m\u001b[0mlograt\u001b[0m\u001b[0;34m/\u001b[0m\u001b[0;34m(\u001b[0m\u001b[0mF\u001b[0m\u001b[0;34m*\u001b[0m\u001b[0mv\u001b[0m\u001b[0;34m)\u001b[0m\u001b[0;34m\u001b[0m\u001b[0;34m\u001b[0m\u001b[0m\n\u001b[0m\u001b[1;32m     10\u001b[0m     \u001b[0mprint\u001b[0m\u001b[0;34m(\u001b[0m\u001b[0;34m\"Potential is: \"\u001b[0m\u001b[0;34m)\u001b[0m\u001b[0;34m\u001b[0m\u001b[0;34m\u001b[0m\u001b[0m\n\u001b[1;32m     11\u001b[0m     \u001b[0mprint\u001b[0m\u001b[0;34m(\u001b[0m\u001b[0mE\u001b[0m\u001b[0;34m)\u001b[0m\u001b[0;34m\u001b[0m\u001b[0;34m\u001b[0m\u001b[0m\n",
          "\u001b[0;31mTypeError\u001b[0m: unsupported operand type(s) for *: 'float' and 'function'"
         ]
        }
       ]
      }
     },
     "53b2799a3362487d8fc0f15a4898ec4e": {
      "model_module": "@jupyter-widgets/controls",
      "model_module_version": "1.5.0",
      "model_name": "SliderStyleModel",
      "state": {
       "description_width": ""
      }
     },
     "54c7a7d8731747dd977314fd20339245": {
      "model_module": "@jupyter-widgets/output",
      "model_module_version": "1.0.0",
      "model_name": "OutputModel",
      "state": {
       "layout": "IPY_MODEL_3df40ff701844931946d0d5cf518b40f",
       "outputs": [
        {
         "data": {
          "text/plain": "1"
         },
         "metadata": {},
         "output_type": "display_data"
        }
       ]
      }
     },
     "554b6dddb8d7462e8412c7cbb2fa24ad": {
      "model_module": "@jupyter-widgets/output",
      "model_module_version": "1.0.0",
      "model_name": "OutputModel",
      "state": {
       "layout": "IPY_MODEL_e5f0853661ff43098b2d58bd6ef04306",
       "outputs": [
        {
         "name": "stdout",
         "output_type": "stream",
         "text": "10.049999999999999\n-2.703062659591171\n"
        },
        {
         "data": {
          "text/plain": "-2.703062659591171"
         },
         "metadata": {},
         "output_type": "display_data"
        }
       ]
      }
     },
     "55978a8ff1d24e8d8d9a50e25467e2d1": {
      "model_module": "@jupyter-widgets/controls",
      "model_module_version": "1.5.0",
      "model_name": "DescriptionStyleModel",
      "state": {
       "description_width": ""
      }
     },
     "56d5587ac9b84141a6e57cc8968e7c8e": {
      "model_module": "@jupyter-widgets/base",
      "model_module_version": "1.2.0",
      "model_name": "LayoutModel",
      "state": {}
     },
     "57632efbdf65452ba468f937b0f384e9": {
      "model_module": "@jupyter-widgets/base",
      "model_module_version": "1.2.0",
      "model_name": "LayoutModel",
      "state": {}
     },
     "578711e47220454a9fe7fb2c8184a460": {
      "model_module": "@jupyter-widgets/base",
      "model_module_version": "1.2.0",
      "model_name": "LayoutModel",
      "state": {}
     },
     "57b417e19370490ab0bdd980dab11043": {
      "model_module": "@jupyter-widgets/base",
      "model_module_version": "1.2.0",
      "model_name": "LayoutModel",
      "state": {}
     },
     "5857d3e498b2480a9c02c3852caa1832": {
      "model_module": "@jupyter-widgets/base",
      "model_module_version": "1.2.0",
      "model_name": "LayoutModel",
      "state": {}
     },
     "58633aaa6c7e46b3aaed505aebddd0dd": {
      "model_module": "@jupyter-widgets/output",
      "model_module_version": "1.0.0",
      "model_name": "OutputModel",
      "state": {
       "layout": "IPY_MODEL_78637e0817804f39ba81298aceb5688c",
       "outputs": [
        {
         "data": {
          "text/plain": "'K'"
         },
         "metadata": {},
         "output_type": "display_data"
        }
       ]
      }
     },
     "593e0f1d168440d9b638aa3bdf9ac0da": {
      "model_module": "@jupyter-widgets/controls",
      "model_module_version": "1.5.0",
      "model_name": "VBoxModel",
      "state": {
       "_dom_classes": [
        "widget-interact"
       ],
       "children": [
        "IPY_MODEL_b542ffe9133748cf8456204b5815e494",
        "IPY_MODEL_b5bf2c2ca39b4cd29eab7cf16dca0ab9"
       ],
       "layout": "IPY_MODEL_3eb7b447914c4303a532d3a47d1d774b"
      }
     },
     "59872becc25343a291f35081c5c76a42": {
      "model_module": "@jupyter-widgets/output",
      "model_module_version": "1.0.0",
      "model_name": "OutputModel",
      "state": {
       "layout": "IPY_MODEL_da3563278f86450396606c11b0a184df",
       "outputs": [
        {
         "data": {
          "text/plain": "1"
         },
         "metadata": {},
         "output_type": "display_data"
        }
       ]
      }
     },
     "5a7c7eb52e3d44d59f2af7ea85959031": {
      "model_module": "@jupyter-widgets/base",
      "model_module_version": "1.2.0",
      "model_name": "LayoutModel",
      "state": {}
     },
     "5b2ce1ba3b58424f83d52fc41cb0ca67": {
      "model_module": "@jupyter-widgets/base",
      "model_module_version": "1.2.0",
      "model_name": "LayoutModel",
      "state": {}
     },
     "5c1f8c8d7c384e32ba6c7f806d9d1b5c": {
      "model_module": "@jupyter-widgets/controls",
      "model_module_version": "1.5.0",
      "model_name": "VBoxModel",
      "state": {
       "_dom_classes": [
        "widget-interact"
       ],
       "children": [
        "IPY_MODEL_08eb11197c6342d9a11d6bf3a40b329e",
        "IPY_MODEL_d0be46d5282d48d2b84b47e652ba918f",
        "IPY_MODEL_bd2953fab67d4cdbb124065e84ff7e29"
       ],
       "layout": "IPY_MODEL_8ef410cc6753463c98611e6a9b5e34dc"
      }
     },
     "5c90d71a1bb94d7d888c4b67f874476e": {
      "model_module": "@jupyter-widgets/base",
      "model_module_version": "1.2.0",
      "model_name": "LayoutModel",
      "state": {}
     },
     "5d579ae76d0247d395865f2bad5c7813": {
      "model_module": "@jupyter-widgets/controls",
      "model_module_version": "1.5.0",
      "model_name": "DropdownModel",
      "state": {
       "_options_labels": [
        "K",
        "Na",
        "Cl"
       ],
       "description": "ion",
       "index": 0,
       "layout": "IPY_MODEL_602d4ad08ea24f36a61fc6ed63448e4e",
       "style": "IPY_MODEL_06583a95cafd49f5bb1b2d392d21b126"
      }
     },
     "5de4b334613d4073a7dc83fdbcfe55a1": {
      "model_module": "@jupyter-widgets/base",
      "model_module_version": "1.2.0",
      "model_name": "LayoutModel",
      "state": {}
     },
     "5fcc94f74e1a43b1aeb8c81bf3096660": {
      "model_module": "@jupyter-widgets/base",
      "model_module_version": "1.2.0",
      "model_name": "LayoutModel",
      "state": {}
     },
     "5ffa160862cf48feb6864c70b7d68afc": {
      "model_module": "@jupyter-widgets/base",
      "model_module_version": "1.2.0",
      "model_name": "LayoutModel",
      "state": {}
     },
     "602d4ad08ea24f36a61fc6ed63448e4e": {
      "model_module": "@jupyter-widgets/base",
      "model_module_version": "1.2.0",
      "model_name": "LayoutModel",
      "state": {}
     },
     "60304e15be674b92a5daea1a28b622e9": {
      "model_module": "@jupyter-widgets/base",
      "model_module_version": "1.2.0",
      "model_name": "LayoutModel",
      "state": {}
     },
     "609ae4b153ce4551817cfd9c44026b92": {
      "model_module": "@jupyter-widgets/controls",
      "model_module_version": "1.5.0",
      "model_name": "DropdownModel",
      "state": {
       "_options_labels": [
        "K",
        "Na",
        "Cl"
       ],
       "description": "ion",
       "index": 0,
       "layout": "IPY_MODEL_8825646a462f433b9aa6e997cbcb2246",
       "style": "IPY_MODEL_47ca73e53bf446a4866bde98fc68b348"
      }
     },
     "60bb2c61782446daa764f69a5ad61749": {
      "model_module": "@jupyter-widgets/controls",
      "model_module_version": "1.5.0",
      "model_name": "IntSliderModel",
      "state": {
       "description": "T",
       "layout": "IPY_MODEL_0c4c4322b1594233bf4f329f01e6d1d6",
       "max": 300,
       "min": 273,
       "style": "IPY_MODEL_3b921419feab41ef9b903084f8ebe104",
       "value": 286
      }
     },
     "618a16ffe6324ec1a414ace6d9c2f5a4": {
      "model_module": "@jupyter-widgets/controls",
      "model_module_version": "1.5.0",
      "model_name": "SliderStyleModel",
      "state": {
       "description_width": ""
      }
     },
     "633ac93b39c34534a2de35ba435b3468": {
      "model_module": "@jupyter-widgets/base",
      "model_module_version": "1.2.0",
      "model_name": "LayoutModel",
      "state": {}
     },
     "636838efb54b42d68d97f8fa389ebd07": {
      "model_module": "@jupyter-widgets/controls",
      "model_module_version": "1.5.0",
      "model_name": "IntSliderModel",
      "state": {
       "description": "i",
       "layout": "IPY_MODEL_8f51d0c7eff1439e9a4d0516838e4ed5",
       "max": 200,
       "min": 100,
       "step": 10,
       "style": "IPY_MODEL_6e2c006e8dcb487688f6231e9dd841bf",
       "value": 150
      }
     },
     "637d446a17274d89aa3209513223ded7": {
      "model_module": "@jupyter-widgets/controls",
      "model_module_version": "1.5.0",
      "model_name": "DescriptionStyleModel",
      "state": {
       "description_width": ""
      }
     },
     "63df88318d0a4a30b029d43e041ae127": {
      "model_module": "@jupyter-widgets/output",
      "model_module_version": "1.0.0",
      "model_name": "OutputModel",
      "state": {
       "layout": "IPY_MODEL_0f0e96d25d094f5d93f1e8308da10e15",
       "outputs": [
        {
         "name": "stdout",
         "output_type": "stream",
         "text": "10.049999999999999\n-2.703062659591171\n"
        },
        {
         "data": {
          "text/plain": "-2.703062659591171"
         },
         "metadata": {},
         "output_type": "display_data"
        }
       ]
      }
     },
     "64577c247f724e1781054c451e8a8ccc": {
      "model_module": "@jupyter-widgets/controls",
      "model_module_version": "1.5.0",
      "model_name": "FloatSliderModel",
      "state": {
       "description": "e",
       "layout": "IPY_MODEL_2f7e2cd7223b42659716f4d8722f9e3f",
       "max": 20,
       "min": 0.1,
       "step": 0.1,
       "style": "IPY_MODEL_89e3bbf107bd4e628ce83c0d14b7e043",
       "value": 10.049999999999999
      }
     },
     "648aabaadee245eca59ba103a3bf0fa4": {
      "model_module": "@jupyter-widgets/base",
      "model_module_version": "1.2.0",
      "model_name": "LayoutModel",
      "state": {}
     },
     "65bedd5e099046ddad97b4332470afc8": {
      "model_module": "@jupyter-widgets/controls",
      "model_module_version": "1.5.0",
      "model_name": "DropdownModel",
      "state": {
       "_options_labels": [
        "K",
        "Na",
        "Cl"
       ],
       "description": "ion",
       "index": 0,
       "layout": "IPY_MODEL_48583bf127bd4b7c9cabb5847f150bfa",
       "style": "IPY_MODEL_abc1a257e459423bb45c3e618f4c43b7"
      }
     },
     "66a3496d060646b9a5ce06ed4be7accd": {
      "model_module": "@jupyter-widgets/controls",
      "model_module_version": "1.5.0",
      "model_name": "SliderStyleModel",
      "state": {
       "description_width": ""
      }
     },
     "66e9b2c6093c4762ab2054a78bfdfe24": {
      "model_module": "@jupyter-widgets/controls",
      "model_module_version": "1.5.0",
      "model_name": "SliderStyleModel",
      "state": {
       "description_width": ""
      }
     },
     "67de4224689a41e1bbdb6ca9b59ef4a3": {
      "model_module": "@jupyter-widgets/controls",
      "model_module_version": "1.5.0",
      "model_name": "IntSliderModel",
      "state": {
       "description": "T",
       "layout": "IPY_MODEL_9bdcdfc55d2a461dbe6a8d33660bd723",
       "max": 300,
       "min": 273,
       "style": "IPY_MODEL_faa677e513944c42951658af66e54e82",
       "value": 287
      }
     },
     "6849afe847074aafb125976ff4f173a9": {
      "model_module": "@jupyter-widgets/base",
      "model_module_version": "1.2.0",
      "model_name": "LayoutModel",
      "state": {}
     },
     "689b2ccc701c49b39333a35886d5ca42": {
      "model_module": "@jupyter-widgets/controls",
      "model_module_version": "1.5.0",
      "model_name": "VBoxModel",
      "state": {
       "_dom_classes": [
        "widget-interact"
       ],
       "children": [
        "IPY_MODEL_989d8fa8aeda4030bbd15f3d1cf5410b",
        "IPY_MODEL_dbeb3c8d9e7645968cf51870762d25b6",
        "IPY_MODEL_554b6dddb8d7462e8412c7cbb2fa24ad"
       ],
       "layout": "IPY_MODEL_3e12129851f5428dba5a8fd2e6947715"
      }
     },
     "696d9c3b9ca349998d6b5e5b0e00ede2": {
      "model_module": "@jupyter-widgets/controls",
      "model_module_version": "1.5.0",
      "model_name": "VBoxModel",
      "state": {
       "_dom_classes": [
        "widget-interact"
       ],
       "children": [
        "IPY_MODEL_8cb1fb502eda424aa4447516560fcf70",
        "IPY_MODEL_0ac45bbfc84644e88b14f39da44ece5a",
        "IPY_MODEL_ab017b01b5134300b64f489a9e7beb2f"
       ],
       "layout": "IPY_MODEL_22c781d50c6f4a3c8d48e3aef5d51fe6"
      }
     },
     "69981a9670604b659976336d48bd70c5": {
      "model_module": "@jupyter-widgets/controls",
      "model_module_version": "1.5.0",
      "model_name": "IntSliderModel",
      "state": {
       "description": "i",
       "layout": "IPY_MODEL_08ff43bd152c43968f2fa373a18c1590",
       "max": 200,
       "min": 100,
       "step": 10,
       "style": "IPY_MODEL_2c77d3a5767c4c1fa388a1b9c11aef7b",
       "value": 150
      }
     },
     "69a42856430b4183999119cb015c8fc7": {
      "model_module": "@jupyter-widgets/controls",
      "model_module_version": "1.5.0",
      "model_name": "IntSliderModel",
      "state": {
       "description": "i",
       "layout": "IPY_MODEL_8ebafa82d68e4576b0323f18d6fb85aa",
       "max": 200,
       "min": 100,
       "step": 10,
       "style": "IPY_MODEL_8283596c3d6545a4909f13d5fa59120a",
       "value": 150
      }
     },
     "6a9018177ec443d0a569cd264028443d": {
      "model_module": "@jupyter-widgets/base",
      "model_module_version": "1.2.0",
      "model_name": "LayoutModel",
      "state": {}
     },
     "6c02134278f64c2880a98031df024fa1": {
      "model_module": "@jupyter-widgets/base",
      "model_module_version": "1.2.0",
      "model_name": "LayoutModel",
      "state": {}
     },
     "6ceea99f76e64fe3a7bed374450f7613": {
      "model_module": "@jupyter-widgets/controls",
      "model_module_version": "1.5.0",
      "model_name": "VBoxModel",
      "state": {
       "_dom_classes": [
        "widget-interact"
       ],
       "children": [
        "IPY_MODEL_cb31bd10f5194cb3a5716ca6b20a04d7",
        "IPY_MODEL_54c7a7d8731747dd977314fd20339245"
       ],
       "layout": "IPY_MODEL_57b417e19370490ab0bdd980dab11043"
      }
     },
     "6e1ccc14e63a498b9e5b93888f104d26": {
      "model_module": "@jupyter-widgets/base",
      "model_module_version": "1.2.0",
      "model_name": "LayoutModel",
      "state": {}
     },
     "6e2c006e8dcb487688f6231e9dd841bf": {
      "model_module": "@jupyter-widgets/controls",
      "model_module_version": "1.5.0",
      "model_name": "SliderStyleModel",
      "state": {
       "description_width": ""
      }
     },
     "6ee8a4b68f114f0db657bc006c1802ad": {
      "model_module": "@jupyter-widgets/controls",
      "model_module_version": "1.5.0",
      "model_name": "VBoxModel",
      "state": {
       "_dom_classes": [
        "widget-interact"
       ],
       "children": [
        "IPY_MODEL_2249a7e82f374a2091806dc3c54e52f8",
        "IPY_MODEL_c47add0955664a2d849cdb5b4c73f299"
       ],
       "layout": "IPY_MODEL_944bd274f55247b1bbd802c6dd93f0b7"
      }
     },
     "6ef846bf19b245a486ca564d833a41e5": {
      "model_module": "@jupyter-widgets/controls",
      "model_module_version": "1.5.0",
      "model_name": "FloatSliderModel",
      "state": {
       "description": "e",
       "layout": "IPY_MODEL_9f6564aba62e45f380494f86f3da61b8",
       "max": 20,
       "min": 0.1,
       "step": 0.1,
       "style": "IPY_MODEL_ca8be4bcf1c24d9bbc1ddb419a72b23a",
       "value": 9.7
      }
     },
     "6f2ecd99d16f48cd8221ad16d7ff7c37": {
      "model_module": "@jupyter-widgets/controls",
      "model_module_version": "1.5.0",
      "model_name": "DropdownModel",
      "state": {
       "_options_labels": [
        "K",
        "Na",
        "Cl"
       ],
       "description": "ion",
       "index": 0,
       "layout": "IPY_MODEL_5de4b334613d4073a7dc83fdbcfe55a1",
       "style": "IPY_MODEL_c3eb2f1e300c429f986e244acb213e89"
      }
     },
     "6f5dbbd66d674e508e4776f4a005dea8": {
      "model_module": "@jupyter-widgets/controls",
      "model_module_version": "1.5.0",
      "model_name": "DropdownModel",
      "state": {
       "_options_labels": [
        "K",
        "Na",
        "Cl"
       ],
       "description": "x",
       "index": 1,
       "layout": "IPY_MODEL_f09b98626a264bea8e2f953e588d0423",
       "style": "IPY_MODEL_55978a8ff1d24e8d8d9a50e25467e2d1"
      }
     },
     "709d45e2ad0a4984b07bf572338ab662": {
      "model_module": "@jupyter-widgets/output",
      "model_module_version": "1.0.0",
      "model_name": "OutputModel",
      "state": {
       "layout": "IPY_MODEL_8ce4aa7debba4ab5a81133940336efa0",
       "outputs": [
        {
         "ename": "NameError",
         "evalue": "name 'T' is not defined",
         "output_type": "error",
         "traceback": [
          "\u001b[0;31m\u001b[0m",
          "\u001b[0;31mNameError\u001b[0mTraceback (most recent call last)",
          "\u001b[0;32m/opt/conda/lib/python3.8/site-packages/ipywidgets/widgets/interaction.py\u001b[0m in \u001b[0;36mupdate\u001b[0;34m(self, *args)\u001b[0m\n\u001b[1;32m    254\u001b[0m                     \u001b[0mvalue\u001b[0m \u001b[0;34m=\u001b[0m \u001b[0mwidget\u001b[0m\u001b[0;34m.\u001b[0m\u001b[0mget_interact_value\u001b[0m\u001b[0;34m(\u001b[0m\u001b[0;34m)\u001b[0m\u001b[0;34m\u001b[0m\u001b[0;34m\u001b[0m\u001b[0m\n\u001b[1;32m    255\u001b[0m                     \u001b[0mself\u001b[0m\u001b[0;34m.\u001b[0m\u001b[0mkwargs\u001b[0m\u001b[0;34m[\u001b[0m\u001b[0mwidget\u001b[0m\u001b[0;34m.\u001b[0m\u001b[0m_kwarg\u001b[0m\u001b[0;34m]\u001b[0m \u001b[0;34m=\u001b[0m \u001b[0mvalue\u001b[0m\u001b[0;34m\u001b[0m\u001b[0;34m\u001b[0m\u001b[0m\n\u001b[0;32m--> 256\u001b[0;31m                 \u001b[0mself\u001b[0m\u001b[0;34m.\u001b[0m\u001b[0mresult\u001b[0m \u001b[0;34m=\u001b[0m \u001b[0mself\u001b[0m\u001b[0;34m.\u001b[0m\u001b[0mf\u001b[0m\u001b[0;34m(\u001b[0m\u001b[0;34m**\u001b[0m\u001b[0mself\u001b[0m\u001b[0;34m.\u001b[0m\u001b[0mkwargs\u001b[0m\u001b[0;34m)\u001b[0m\u001b[0;34m\u001b[0m\u001b[0;34m\u001b[0m\u001b[0m\n\u001b[0m\u001b[1;32m    257\u001b[0m                 \u001b[0mshow_inline_matplotlib_plots\u001b[0m\u001b[0;34m(\u001b[0m\u001b[0;34m)\u001b[0m\u001b[0;34m\u001b[0m\u001b[0;34m\u001b[0m\u001b[0m\n\u001b[1;32m    258\u001b[0m                 \u001b[0;32mif\u001b[0m \u001b[0mself\u001b[0m\u001b[0;34m.\u001b[0m\u001b[0mauto_display\u001b[0m \u001b[0;32mand\u001b[0m \u001b[0mself\u001b[0m\u001b[0;34m.\u001b[0m\u001b[0mresult\u001b[0m \u001b[0;32mis\u001b[0m \u001b[0;32mnot\u001b[0m \u001b[0;32mNone\u001b[0m\u001b[0;34m:\u001b[0m\u001b[0;34m\u001b[0m\u001b[0;34m\u001b[0m\u001b[0m\n",
          "\u001b[0;32m<ipython-input-72-30039dc93ed2>\u001b[0m in \u001b[0;36mionslider\u001b[0;34m(i, e)\u001b[0m\n\u001b[1;32m      2\u001b[0m     \u001b[0mR\u001b[0m \u001b[0;34m=\u001b[0m \u001b[0;36m8.314\u001b[0m\u001b[0;34m;\u001b[0m\u001b[0;34m\u001b[0m\u001b[0;34m\u001b[0m\u001b[0m\n\u001b[1;32m      3\u001b[0m     \u001b[0mF\u001b[0m \u001b[0;34m=\u001b[0m \u001b[0;36m96484\u001b[0m\u001b[0;34m;\u001b[0m\u001b[0;34m\u001b[0m\u001b[0;34m\u001b[0m\u001b[0m\n\u001b[0;32m----> 4\u001b[0;31m     \u001b[0mE\u001b[0m \u001b[0;34m=\u001b[0m\u001b[0;34m(\u001b[0m\u001b[0mR\u001b[0m\u001b[0;34m*\u001b[0m\u001b[0mT\u001b[0m\u001b[0;34m)\u001b[0m\u001b[0;34m*\u001b[0m\u001b[0mnp\u001b[0m\u001b[0;34m.\u001b[0m\u001b[0mlog\u001b[0m\u001b[0;34m(\u001b[0m\u001b[0me\u001b[0m\u001b[0;34m/\u001b[0m\u001b[0mi\u001b[0m\u001b[0;34m)\u001b[0m\u001b[0;34m/\u001b[0m\u001b[0;34m(\u001b[0m\u001b[0mF\u001b[0m\u001b[0;34m*\u001b[0m\u001b[0mv\u001b[0m\u001b[0;34m)\u001b[0m\u001b[0;34m\u001b[0m\u001b[0;34m\u001b[0m\u001b[0m\n\u001b[0m\u001b[1;32m      5\u001b[0m     \u001b[0;32mreturn\u001b[0m \u001b[0mnp\u001b[0m\u001b[0;34m.\u001b[0m\u001b[0mlog\u001b[0m\u001b[0;34m(\u001b[0m\u001b[0me\u001b[0m\u001b[0;34m/\u001b[0m\u001b[0mi\u001b[0m\u001b[0;34m)\u001b[0m\u001b[0;34m;\u001b[0m\u001b[0;34m\u001b[0m\u001b[0;34m\u001b[0m\u001b[0m\n",
          "\u001b[0;31mNameError\u001b[0m: name 'T' is not defined"
         ]
        }
       ]
      }
     },
     "70ad2675a9384b29bb25b8a59e0105d5": {
      "model_module": "@jupyter-widgets/controls",
      "model_module_version": "1.5.0",
      "model_name": "VBoxModel",
      "state": {
       "_dom_classes": [
        "widget-interact"
       ],
       "children": [
        "IPY_MODEL_f3645d2cfcb04faa8fec7c4855028e2d",
        "IPY_MODEL_0473d94515324a2295474f89fdb37b9f",
        "IPY_MODEL_77032a1d8f5945aaa89b87d0e4ce8ec6"
       ],
       "layout": "IPY_MODEL_acc12079c4fe48929afdef801acdbba7"
      }
     },
     "72b8c70376ba4d03b90a102eb4189999": {
      "model_module": "@jupyter-widgets/base",
      "model_module_version": "1.2.0",
      "model_name": "LayoutModel",
      "state": {}
     },
     "751b8624e7474d0eb0024ce4298f5059": {
      "model_module": "@jupyter-widgets/base",
      "model_module_version": "1.2.0",
      "model_name": "LayoutModel",
      "state": {}
     },
     "7639d3bd71234090ad1fd1dff4947f7c": {
      "model_module": "@jupyter-widgets/base",
      "model_module_version": "1.2.0",
      "model_name": "LayoutModel",
      "state": {}
     },
     "77032a1d8f5945aaa89b87d0e4ce8ec6": {
      "model_module": "@jupyter-widgets/output",
      "model_module_version": "1.0.0",
      "model_name": "OutputModel",
      "state": {
       "layout": "IPY_MODEL_8bb33453ed5a4ba2959cbbde70f5501d",
       "outputs": [
        {
         "name": "stderr",
         "output_type": "stream",
         "text": "<ipython-input-49-29415162118d>:2: RuntimeWarning: divide by zero encountered in log\n  return np.log(e/i);\n"
        },
        {
         "data": {
          "text/plain": "-inf"
         },
         "metadata": {},
         "output_type": "display_data"
        }
       ]
      }
     },
     "77d8b5fdcc7f4ee09b7231b6ca445f5e": {
      "model_module": "@jupyter-widgets/output",
      "model_module_version": "1.0.0",
      "model_name": "OutputModel",
      "state": {
       "layout": "IPY_MODEL_d1ccca9a282e41568fe4843863161872",
       "outputs": [
        {
         "name": "stdout",
         "output_type": "stream",
         "text": "10.049999999999999\n-2.703062659591171\n"
        },
        {
         "data": {
          "text/plain": "-2.703062659591171"
         },
         "metadata": {},
         "output_type": "display_data"
        }
       ]
      }
     },
     "7855f30ebac042d6b1e4a950ebde7838": {
      "model_module": "@jupyter-widgets/base",
      "model_module_version": "1.2.0",
      "model_name": "LayoutModel",
      "state": {}
     },
     "78637e0817804f39ba81298aceb5688c": {
      "model_module": "@jupyter-widgets/base",
      "model_module_version": "1.2.0",
      "model_name": "LayoutModel",
      "state": {}
     },
     "7b4d6403b0cf415894d2484cb45634b0": {
      "model_module": "@jupyter-widgets/controls",
      "model_module_version": "1.5.0",
      "model_name": "SliderStyleModel",
      "state": {
       "description_width": ""
      }
     },
     "7bc913c3e5ee43599122a2d2071fdde1": {
      "model_module": "@jupyter-widgets/base",
      "model_module_version": "1.2.0",
      "model_name": "LayoutModel",
      "state": {}
     },
     "7bfc2b4b26994747ab777731f407e687": {
      "model_module": "@jupyter-widgets/controls",
      "model_module_version": "1.5.0",
      "model_name": "SliderStyleModel",
      "state": {
       "description_width": ""
      }
     },
     "7c4f2744522a43cf99419addc8a586d8": {
      "model_module": "@jupyter-widgets/base",
      "model_module_version": "1.2.0",
      "model_name": "LayoutModel",
      "state": {}
     },
     "7f2d903855d24735a03ddd1953a7cdfa": {
      "model_module": "@jupyter-widgets/controls",
      "model_module_version": "1.5.0",
      "model_name": "SliderStyleModel",
      "state": {
       "description_width": ""
      }
     },
     "7f34c40096364fb49bf60778b85753fd": {
      "model_module": "@jupyter-widgets/base",
      "model_module_version": "1.2.0",
      "model_name": "LayoutModel",
      "state": {}
     },
     "7fed9c5ce42148f182fb65788f123b47": {
      "model_module": "@jupyter-widgets/output",
      "model_module_version": "1.0.0",
      "model_name": "OutputModel",
      "state": {
       "layout": "IPY_MODEL_aa277d1d24ed4da0b8f676f3fca53063",
       "outputs": [
        {
         "data": {
          "application/vnd.jupyter.widget-view+json": {
           "model_id": "98056625b2654ec585dece553989a566",
           "version_major": 2,
           "version_minor": 0
          },
          "text/plain": "interactive(children=(IntSlider(value=150, description='i', max=200, min=100, step=10), FloatSlider(value=10.0…"
         },
         "metadata": {},
         "output_type": "display_data"
        },
        {
         "name": "stdout",
         "output_type": "stream",
         "text": "Potential is: \n"
        },
        {
         "ename": "NameError",
         "evalue": "name 'E' is not defined",
         "output_type": "error",
         "traceback": [
          "\u001b[0;31m\u001b[0m",
          "\u001b[0;31mNameError\u001b[0mTraceback (most recent call last)",
          "\u001b[0;32m/opt/conda/lib/python3.8/site-packages/ipywidgets/widgets/interaction.py\u001b[0m in \u001b[0;36mupdate\u001b[0;34m(self, *args)\u001b[0m\n\u001b[1;32m    254\u001b[0m                     \u001b[0mvalue\u001b[0m \u001b[0;34m=\u001b[0m \u001b[0mwidget\u001b[0m\u001b[0;34m.\u001b[0m\u001b[0mget_interact_value\u001b[0m\u001b[0;34m(\u001b[0m\u001b[0;34m)\u001b[0m\u001b[0;34m\u001b[0m\u001b[0;34m\u001b[0m\u001b[0m\n\u001b[1;32m    255\u001b[0m                     \u001b[0mself\u001b[0m\u001b[0;34m.\u001b[0m\u001b[0mkwargs\u001b[0m\u001b[0;34m[\u001b[0m\u001b[0mwidget\u001b[0m\u001b[0;34m.\u001b[0m\u001b[0m_kwarg\u001b[0m\u001b[0;34m]\u001b[0m \u001b[0;34m=\u001b[0m \u001b[0mvalue\u001b[0m\u001b[0;34m\u001b[0m\u001b[0;34m\u001b[0m\u001b[0m\n\u001b[0;32m--> 256\u001b[0;31m                 \u001b[0mself\u001b[0m\u001b[0;34m.\u001b[0m\u001b[0mresult\u001b[0m \u001b[0;34m=\u001b[0m \u001b[0mself\u001b[0m\u001b[0;34m.\u001b[0m\u001b[0mf\u001b[0m\u001b[0;34m(\u001b[0m\u001b[0;34m**\u001b[0m\u001b[0mself\u001b[0m\u001b[0;34m.\u001b[0m\u001b[0mkwargs\u001b[0m\u001b[0;34m)\u001b[0m\u001b[0;34m\u001b[0m\u001b[0;34m\u001b[0m\u001b[0m\n\u001b[0m\u001b[1;32m    257\u001b[0m                 \u001b[0mshow_inline_matplotlib_plots\u001b[0m\u001b[0;34m(\u001b[0m\u001b[0;34m)\u001b[0m\u001b[0;34m\u001b[0m\u001b[0;34m\u001b[0m\u001b[0m\n\u001b[1;32m    258\u001b[0m                 \u001b[0;32mif\u001b[0m \u001b[0mself\u001b[0m\u001b[0;34m.\u001b[0m\u001b[0mauto_display\u001b[0m \u001b[0;32mand\u001b[0m \u001b[0mself\u001b[0m\u001b[0;34m.\u001b[0m\u001b[0mresult\u001b[0m \u001b[0;32mis\u001b[0m \u001b[0;32mnot\u001b[0m \u001b[0;32mNone\u001b[0m\u001b[0;34m:\u001b[0m\u001b[0;34m\u001b[0m\u001b[0;34m\u001b[0m\u001b[0m\n",
          "\u001b[0;32m<ipython-input-73-0b218334847b>\u001b[0m in \u001b[0;36mf\u001b[0;34m(ion, T)\u001b[0m\n\u001b[1;32m      6\u001b[0m         \u001b[0mlograt\u001b[0m \u001b[0;34m=\u001b[0m \u001b[0minteract\u001b[0m\u001b[0;34m(\u001b[0m\u001b[0mionslider\u001b[0m\u001b[0;34m,\u001b[0m \u001b[0mi\u001b[0m\u001b[0;34m=\u001b[0m\u001b[0;34m(\u001b[0m\u001b[0;36m100\u001b[0m\u001b[0;34m,\u001b[0m\u001b[0;36m200\u001b[0m\u001b[0;34m,\u001b[0m\u001b[0;36m10\u001b[0m\u001b[0;34m)\u001b[0m\u001b[0;34m,\u001b[0m\u001b[0me\u001b[0m \u001b[0;34m=\u001b[0m \u001b[0;34m(\u001b[0m\u001b[0;36m0.1\u001b[0m\u001b[0;34m,\u001b[0m\u001b[0;36m20.0\u001b[0m\u001b[0;34m)\u001b[0m\u001b[0;34m)\u001b[0m\u001b[0;34m;\u001b[0m\u001b[0;34m\u001b[0m\u001b[0;34m\u001b[0m\u001b[0m\n\u001b[1;32m      7\u001b[0m     \u001b[0mprint\u001b[0m\u001b[0;34m(\u001b[0m\u001b[0;34m\"Potential is: \"\u001b[0m\u001b[0;34m)\u001b[0m\u001b[0;34m\u001b[0m\u001b[0;34m\u001b[0m\u001b[0m\n\u001b[0;32m----> 8\u001b[0;31m     \u001b[0mprint\u001b[0m\u001b[0;34m(\u001b[0m\u001b[0mE\u001b[0m\u001b[0;34m)\u001b[0m\u001b[0;34m\u001b[0m\u001b[0;34m\u001b[0m\u001b[0m\n\u001b[0m",
          "\u001b[0;31mNameError\u001b[0m: name 'E' is not defined"
         ]
        }
       ]
      }
     },
     "80cd69fa1ffd4a54b5f421ac12323446": {
      "model_module": "@jupyter-widgets/controls",
      "model_module_version": "1.5.0",
      "model_name": "SliderStyleModel",
      "state": {
       "description_width": ""
      }
     },
     "815728626a5041879f73218b60080a77": {
      "model_module": "@jupyter-widgets/base",
      "model_module_version": "1.2.0",
      "model_name": "LayoutModel",
      "state": {}
     },
     "81a267d46f1f4ee4943b87a725340d7c": {
      "model_module": "@jupyter-widgets/controls",
      "model_module_version": "1.5.0",
      "model_name": "SliderStyleModel",
      "state": {
       "description_width": ""
      }
     },
     "81f3647d03e24bfa8426f200765a0935": {
      "model_module": "@jupyter-widgets/base",
      "model_module_version": "1.2.0",
      "model_name": "LayoutModel",
      "state": {}
     },
     "8283596c3d6545a4909f13d5fa59120a": {
      "model_module": "@jupyter-widgets/controls",
      "model_module_version": "1.5.0",
      "model_name": "SliderStyleModel",
      "state": {
       "description_width": ""
      }
     },
     "834a314adb1648f09e02ac3fe9e73e4b": {
      "model_module": "@jupyter-widgets/controls",
      "model_module_version": "1.5.0",
      "model_name": "SliderStyleModel",
      "state": {
       "description_width": ""
      }
     },
     "84c78e46031a4bb49270e0050adcb078": {
      "model_module": "@jupyter-widgets/controls",
      "model_module_version": "1.5.0",
      "model_name": "VBoxModel",
      "state": {
       "_dom_classes": [
        "widget-interact"
       ],
       "children": [
        "IPY_MODEL_0f2b9abe6689476992bb67a2a0944b93",
        "IPY_MODEL_8f32fa06e3824450b2080b6412dacdd4",
        "IPY_MODEL_e88cb2af0f90445a9617afd2e9d322f9"
       ],
       "layout": "IPY_MODEL_f0ba050564684c4a9cd29ca6bc831aa7"
      }
     },
     "85b6e7553c364c5d8fc3ab43cbb56090": {
      "model_module": "@jupyter-widgets/base",
      "model_module_version": "1.2.0",
      "model_name": "LayoutModel",
      "state": {}
     },
     "85fd8795d4b64a99ba56afb072a84d8d": {
      "model_module": "@jupyter-widgets/controls",
      "model_module_version": "1.5.0",
      "model_name": "SliderStyleModel",
      "state": {
       "description_width": ""
      }
     },
     "8630f925859c47b6afa3a47bf787b99d": {
      "model_module": "@jupyter-widgets/controls",
      "model_module_version": "1.5.0",
      "model_name": "DescriptionStyleModel",
      "state": {
       "description_width": ""
      }
     },
     "868080101f6a41989867a10839e9c6f6": {
      "model_module": "@jupyter-widgets/output",
      "model_module_version": "1.0.0",
      "model_name": "OutputModel",
      "state": {
       "layout": "IPY_MODEL_001819854a714513878e970a4ea2ef76",
       "outputs": [
        {
         "data": {
          "text/plain": "1"
         },
         "metadata": {},
         "output_type": "display_data"
        }
       ]
      }
     },
     "86c33e3f28f5480db4d6729eb8055e93": {
      "model_module": "@jupyter-widgets/controls",
      "model_module_version": "1.5.0",
      "model_name": "DescriptionStyleModel",
      "state": {
       "description_width": ""
      }
     },
     "8825646a462f433b9aa6e997cbcb2246": {
      "model_module": "@jupyter-widgets/base",
      "model_module_version": "1.2.0",
      "model_name": "LayoutModel",
      "state": {}
     },
     "884501c906de4975a047a2e1cf4e07fc": {
      "model_module": "@jupyter-widgets/base",
      "model_module_version": "1.2.0",
      "model_name": "LayoutModel",
      "state": {}
     },
     "887b5833618a4baba33d4d3f44507a1b": {
      "model_module": "@jupyter-widgets/controls",
      "model_module_version": "1.5.0",
      "model_name": "VBoxModel",
      "state": {
       "_dom_classes": [
        "widget-interact"
       ],
       "children": [
        "IPY_MODEL_ee14151f21674ad5b8e5fb624698c234",
        "IPY_MODEL_033bccba240f47f2b7d3d57668330cfd"
       ],
       "layout": "IPY_MODEL_bba5173dd1cb43f99c668919fe36ed89"
      }
     },
     "88deafb0a335470f8fc933615e948b4b": {
      "model_module": "@jupyter-widgets/base",
      "model_module_version": "1.2.0",
      "model_name": "LayoutModel",
      "state": {}
     },
     "89e3bbf107bd4e628ce83c0d14b7e043": {
      "model_module": "@jupyter-widgets/controls",
      "model_module_version": "1.5.0",
      "model_name": "SliderStyleModel",
      "state": {
       "description_width": ""
      }
     },
     "8ae87b103e224936a078ddfd654433f2": {
      "model_module": "@jupyter-widgets/controls",
      "model_module_version": "1.5.0",
      "model_name": "DropdownModel",
      "state": {
       "_options_labels": [
        "K",
        "Na",
        "Cl"
       ],
       "description": "ion",
       "index": 0,
       "layout": "IPY_MODEL_eb5dbe109ee048f89e556b7ac9086a14",
       "style": "IPY_MODEL_1c9f472973a8415e8da10bcb9a64acd5"
      }
     },
     "8bb33453ed5a4ba2959cbbde70f5501d": {
      "model_module": "@jupyter-widgets/base",
      "model_module_version": "1.2.0",
      "model_name": "LayoutModel",
      "state": {}
     },
     "8cb1fb502eda424aa4447516560fcf70": {
      "model_module": "@jupyter-widgets/controls",
      "model_module_version": "1.5.0",
      "model_name": "IntSliderModel",
      "state": {
       "description": "i",
       "layout": "IPY_MODEL_a67656331d634c52a0cae1c66090130f",
       "max": 200,
       "min": 100,
       "step": 10,
       "style": "IPY_MODEL_490dc1358aa34d1aa48999fc5eae5467",
       "value": 150
      }
     },
     "8ce4aa7debba4ab5a81133940336efa0": {
      "model_module": "@jupyter-widgets/base",
      "model_module_version": "1.2.0",
      "model_name": "LayoutModel",
      "state": {}
     },
     "8ddff9089dd840768f8288e942d46f0c": {
      "model_module": "@jupyter-widgets/base",
      "model_module_version": "1.2.0",
      "model_name": "LayoutModel",
      "state": {}
     },
     "8ebafa82d68e4576b0323f18d6fb85aa": {
      "model_module": "@jupyter-widgets/base",
      "model_module_version": "1.2.0",
      "model_name": "LayoutModel",
      "state": {}
     },
     "8ef410cc6753463c98611e6a9b5e34dc": {
      "model_module": "@jupyter-widgets/base",
      "model_module_version": "1.2.0",
      "model_name": "LayoutModel",
      "state": {}
     },
     "8ef46862de294a448813617cb7ef783f": {
      "model_module": "@jupyter-widgets/base",
      "model_module_version": "1.2.0",
      "model_name": "LayoutModel",
      "state": {}
     },
     "8f32fa06e3824450b2080b6412dacdd4": {
      "model_module": "@jupyter-widgets/controls",
      "model_module_version": "1.5.0",
      "model_name": "IntSliderModel",
      "state": {
       "description": "T",
       "layout": "IPY_MODEL_0aaab0feb8d54b7aa3e8cb634221daaf",
       "max": 300,
       "min": 273,
       "style": "IPY_MODEL_7f2d903855d24735a03ddd1953a7cdfa",
       "value": 286
      }
     },
     "8f51d0c7eff1439e9a4d0516838e4ed5": {
      "model_module": "@jupyter-widgets/base",
      "model_module_version": "1.2.0",
      "model_name": "LayoutModel",
      "state": {}
     },
     "8f75ca798de74622a510109b1cbf0213": {
      "model_module": "@jupyter-widgets/controls",
      "model_module_version": "1.5.0",
      "model_name": "SliderStyleModel",
      "state": {
       "description_width": ""
      }
     },
     "900b939004844ae7ae83a0a2f02b7857": {
      "model_module": "@jupyter-widgets/base",
      "model_module_version": "1.2.0",
      "model_name": "LayoutModel",
      "state": {}
     },
     "9082cf52a44644c494f655f37e93408b": {
      "model_module": "@jupyter-widgets/controls",
      "model_module_version": "1.5.0",
      "model_name": "VBoxModel",
      "state": {
       "_dom_classes": [
        "widget-interact"
       ],
       "children": [
        "IPY_MODEL_eda6b044463148fcab159e5c9ef2028c",
        "IPY_MODEL_91707f2a3359498d90d4988f355e2470",
        "IPY_MODEL_fd1c4fff3b23437b8436ea30d023744b"
       ],
       "layout": "IPY_MODEL_eb51716d21a44702b2a92403936ae954"
      }
     },
     "913d9064a8584fe49549fe0e759eafb4": {
      "model_module": "@jupyter-widgets/base",
      "model_module_version": "1.2.0",
      "model_name": "LayoutModel",
      "state": {}
     },
     "9148f43ce1e047c08b8063bff4be3d67": {
      "model_module": "@jupyter-widgets/base",
      "model_module_version": "1.2.0",
      "model_name": "LayoutModel",
      "state": {}
     },
     "91707f2a3359498d90d4988f355e2470": {
      "model_module": "@jupyter-widgets/controls",
      "model_module_version": "1.5.0",
      "model_name": "FloatSliderModel",
      "state": {
       "description": "b",
       "layout": "IPY_MODEL_d9822a329dd2441994b928117b906573",
       "max": 3,
       "min": -3,
       "step": 0.5,
       "style": "IPY_MODEL_960f4bf0312f45b38c736aa6df779f2b",
       "value": -1
      }
     },
     "92443a7212214275bc33e96b0a319811": {
      "model_module": "@jupyter-widgets/controls",
      "model_module_version": "1.5.0",
      "model_name": "IntSliderModel",
      "state": {
       "description": "e",
       "layout": "IPY_MODEL_88deafb0a335470f8fc933615e948b4b",
       "max": 20,
       "min": -20,
       "style": "IPY_MODEL_07bd593e99b341fa9c28f36c9c249237"
      }
     },
     "93e6427ba4a74411ab4a5e91d94d92b1": {
      "model_module": "@jupyter-widgets/controls",
      "model_module_version": "1.5.0",
      "model_name": "VBoxModel",
      "state": {
       "_dom_classes": [
        "widget-interact"
       ],
       "layout": "IPY_MODEL_a41ebc28dea44a06b8c4fea4fa5ebfed"
      }
     },
     "941e7581214244718bef5bf7dc98d8c6": {
      "model_module": "@jupyter-widgets/base",
      "model_module_version": "1.2.0",
      "model_name": "LayoutModel",
      "state": {}
     },
     "944bd274f55247b1bbd802c6dd93f0b7": {
      "model_module": "@jupyter-widgets/base",
      "model_module_version": "1.2.0",
      "model_name": "LayoutModel",
      "state": {}
     },
     "9485e37d0d5b4efab9845b66b0c63677": {
      "model_module": "@jupyter-widgets/controls",
      "model_module_version": "1.5.0",
      "model_name": "VBoxModel",
      "state": {
       "_dom_classes": [
        "widget-interact"
       ],
       "children": [
        "IPY_MODEL_339677d45ba24074bb9840e78135460b",
        "IPY_MODEL_b1d550d4ff7d4b2492e4c17f5dd53d79",
        "IPY_MODEL_234f8f31f871437dab933f82f5cac1f5"
       ],
       "layout": "IPY_MODEL_b407ba770d4c4f7783cab042ea15b811"
      }
     },
     "94cb00d461ef4a39a1bc526062e4dc6e": {
      "model_module": "@jupyter-widgets/base",
      "model_module_version": "1.2.0",
      "model_name": "LayoutModel",
      "state": {}
     },
     "960f4bf0312f45b38c736aa6df779f2b": {
      "model_module": "@jupyter-widgets/controls",
      "model_module_version": "1.5.0",
      "model_name": "SliderStyleModel",
      "state": {
       "description_width": ""
      }
     },
     "963f1c9f94004bbdb5ac63978293a714": {
      "model_module": "@jupyter-widgets/controls",
      "model_module_version": "1.5.0",
      "model_name": "DropdownModel",
      "state": {
       "_options_labels": [
        "K",
        "Na",
        "Cl"
       ],
       "description": "v",
       "index": 0,
       "layout": "IPY_MODEL_37c032e91a32442cba48c65aaef1f868",
       "style": "IPY_MODEL_bc038d42fa97491e926296bedd17511a"
      }
     },
     "96529ce4fe4540fc9061fe7395fbf751": {
      "model_module": "@jupyter-widgets/controls",
      "model_module_version": "1.5.0",
      "model_name": "VBoxModel",
      "state": {
       "_dom_classes": [
        "widget-interact"
       ],
       "children": [
        "IPY_MODEL_69981a9670604b659976336d48bd70c5",
        "IPY_MODEL_9dd5033e16854b969c03c9425bbb471f",
        "IPY_MODEL_63df88318d0a4a30b029d43e041ae127"
       ],
       "layout": "IPY_MODEL_7f34c40096364fb49bf60778b85753fd"
      }
     },
     "98056625b2654ec585dece553989a566": {
      "model_module": "@jupyter-widgets/controls",
      "model_module_version": "1.5.0",
      "model_name": "VBoxModel",
      "state": {
       "_dom_classes": [
        "widget-interact"
       ],
       "children": [
        "IPY_MODEL_3b6682d05cb34a7ebf88fd63f4390e1d",
        "IPY_MODEL_ff5d8556a76547a0b513e61ac43ea2fd",
        "IPY_MODEL_c5edf71071e54254a945af180be00004"
       ],
       "layout": "IPY_MODEL_94cb00d461ef4a39a1bc526062e4dc6e"
      }
     },
     "989d8fa8aeda4030bbd15f3d1cf5410b": {
      "model_module": "@jupyter-widgets/controls",
      "model_module_version": "1.5.0",
      "model_name": "IntSliderModel",
      "state": {
       "description": "i",
       "layout": "IPY_MODEL_fed30b6483464bd3aa3e232985613085",
       "max": 200,
       "min": 100,
       "step": 10,
       "style": "IPY_MODEL_85fd8795d4b64a99ba56afb072a84d8d",
       "value": 150
      }
     },
     "995b1cef20774272a678f51383626771": {
      "model_module": "@jupyter-widgets/controls",
      "model_module_version": "1.5.0",
      "model_name": "DescriptionStyleModel",
      "state": {
       "description_width": ""
      }
     },
     "99ac9e72be974717a3740bdd8026c2f0": {
      "model_module": "@jupyter-widgets/controls",
      "model_module_version": "1.5.0",
      "model_name": "IntSliderModel",
      "state": {
       "description": "i",
       "layout": "IPY_MODEL_f6ada130ff4041868045d29e68890acc",
       "max": 200,
       "min": 100,
       "step": 10,
       "style": "IPY_MODEL_9d169d2a7f204ff18de8eca79136f265",
       "value": 150
      }
     },
     "9a6301cff28c4bb8b824c8b1536c6bb4": {
      "model_module": "@jupyter-widgets/controls",
      "model_module_version": "1.5.0",
      "model_name": "SliderStyleModel",
      "state": {
       "description_width": ""
      }
     },
     "9bdcdfc55d2a461dbe6a8d33660bd723": {
      "model_module": "@jupyter-widgets/base",
      "model_module_version": "1.2.0",
      "model_name": "LayoutModel",
      "state": {}
     },
     "9d169d2a7f204ff18de8eca79136f265": {
      "model_module": "@jupyter-widgets/controls",
      "model_module_version": "1.5.0",
      "model_name": "SliderStyleModel",
      "state": {
       "description_width": ""
      }
     },
     "9dd5033e16854b969c03c9425bbb471f": {
      "model_module": "@jupyter-widgets/controls",
      "model_module_version": "1.5.0",
      "model_name": "FloatSliderModel",
      "state": {
       "description": "e",
       "layout": "IPY_MODEL_efc3ee2d2f65481193734f750e8e7e8e",
       "max": 20,
       "min": 0.1,
       "step": 0.1,
       "style": "IPY_MODEL_c185a27685c54dd0a1a8223bab01930b",
       "value": 10.049999999999999
      }
     },
     "9e97adbe86bc40278ed53444599605fc": {
      "model_module": "@jupyter-widgets/controls",
      "model_module_version": "1.5.0",
      "model_name": "SliderStyleModel",
      "state": {
       "description_width": ""
      }
     },
     "9f6564aba62e45f380494f86f3da61b8": {
      "model_module": "@jupyter-widgets/base",
      "model_module_version": "1.2.0",
      "model_name": "LayoutModel",
      "state": {}
     },
     "9f9b91eb82c247399debda6f9cd879c5": {
      "model_module": "@jupyter-widgets/controls",
      "model_module_version": "1.5.0",
      "model_name": "SliderStyleModel",
      "state": {
       "description_width": ""
      }
     },
     "a1a0946ccede4822b927d2346dd0a109": {
      "model_module": "@jupyter-widgets/controls",
      "model_module_version": "1.5.0",
      "model_name": "DropdownModel",
      "state": {
       "_options_labels": [
        "K",
        "Na",
        "Cl"
       ],
       "description": "v",
       "index": 0,
       "layout": "IPY_MODEL_260c024703d340a2b9eff34acb9fbe7c",
       "style": "IPY_MODEL_637d446a17274d89aa3209513223ded7"
      }
     },
     "a3e152a051df41819030dd95932d1d61": {
      "model_module": "@jupyter-widgets/base",
      "model_module_version": "1.2.0",
      "model_name": "LayoutModel",
      "state": {}
     },
     "a41ebc28dea44a06b8c4fea4fa5ebfed": {
      "model_module": "@jupyter-widgets/base",
      "model_module_version": "1.2.0",
      "model_name": "LayoutModel",
      "state": {}
     },
     "a5829371054e4dd3b6e8a1b8648573fd": {
      "model_module": "@jupyter-widgets/base",
      "model_module_version": "1.2.0",
      "model_name": "LayoutModel",
      "state": {}
     },
     "a67656331d634c52a0cae1c66090130f": {
      "model_module": "@jupyter-widgets/base",
      "model_module_version": "1.2.0",
      "model_name": "LayoutModel",
      "state": {}
     },
     "a6caa8a4212f42189c1bd9ff6b82d0bf": {
      "model_module": "@jupyter-widgets/base",
      "model_module_version": "1.2.0",
      "model_name": "LayoutModel",
      "state": {}
     },
     "a71e2ad95ed04b928be7395ccd9789cf": {
      "model_module": "@jupyter-widgets/base",
      "model_module_version": "1.2.0",
      "model_name": "LayoutModel",
      "state": {}
     },
     "a7736ffa748742afbe181567de112dd0": {
      "model_module": "@jupyter-widgets/base",
      "model_module_version": "1.2.0",
      "model_name": "LayoutModel",
      "state": {}
     },
     "a7bb92b24e90490ea9d10cb2cbc3229f": {
      "model_module": "@jupyter-widgets/base",
      "model_module_version": "1.2.0",
      "model_name": "LayoutModel",
      "state": {}
     },
     "aa277d1d24ed4da0b8f676f3fca53063": {
      "model_module": "@jupyter-widgets/base",
      "model_module_version": "1.2.0",
      "model_name": "LayoutModel",
      "state": {}
     },
     "aa4a38c63df54752bd82ef089d325d38": {
      "model_module": "@jupyter-widgets/base",
      "model_module_version": "1.2.0",
      "model_name": "LayoutModel",
      "state": {}
     },
     "ab017b01b5134300b64f489a9e7beb2f": {
      "model_module": "@jupyter-widgets/output",
      "model_module_version": "1.0.0",
      "model_name": "OutputModel",
      "state": {
       "layout": "IPY_MODEL_412137144f07439084efa9541c0a35d4",
       "outputs": [
        {
         "data": {
          "text/plain": "-3.2188758248682006"
         },
         "metadata": {},
         "output_type": "display_data"
        }
       ]
      }
     },
     "abc1a257e459423bb45c3e618f4c43b7": {
      "model_module": "@jupyter-widgets/controls",
      "model_module_version": "1.5.0",
      "model_name": "DescriptionStyleModel",
      "state": {
       "description_width": ""
      }
     },
     "ac3c784f139f4e9aab163875142596bd": {
      "model_module": "@jupyter-widgets/base",
      "model_module_version": "1.2.0",
      "model_name": "LayoutModel",
      "state": {}
     },
     "acc12079c4fe48929afdef801acdbba7": {
      "model_module": "@jupyter-widgets/base",
      "model_module_version": "1.2.0",
      "model_name": "LayoutModel",
      "state": {}
     },
     "ad0ba4954502457d9fc2ef142c69e67a": {
      "model_module": "@jupyter-widgets/base",
      "model_module_version": "1.2.0",
      "model_name": "LayoutModel",
      "state": {}
     },
     "ad6ae3f9608041d59d054fbb6c71b070": {
      "model_module": "@jupyter-widgets/base",
      "model_module_version": "1.2.0",
      "model_name": "LayoutModel",
      "state": {
       "height": "350px"
      }
     },
     "adb1cc35f0434d49a4c787b5c05ef73b": {
      "model_module": "@jupyter-widgets/base",
      "model_module_version": "1.2.0",
      "model_name": "LayoutModel",
      "state": {}
     },
     "aea87382fc9c419a98fb06b36079b343": {
      "model_module": "@jupyter-widgets/output",
      "model_module_version": "1.0.0",
      "model_name": "OutputModel",
      "state": {
       "layout": "IPY_MODEL_0ee0812e636f4231ba9251c88d959db6",
       "outputs": [
        {
         "name": "stderr",
         "output_type": "stream",
         "text": "<ipython-input-49-29415162118d>:2: RuntimeWarning: divide by zero encountered in log\n  return np.log(e/i);\n"
        },
        {
         "data": {
          "text/plain": "-inf"
         },
         "metadata": {},
         "output_type": "display_data"
        }
       ]
      }
     },
     "b1d550d4ff7d4b2492e4c17f5dd53d79": {
      "model_module": "@jupyter-widgets/controls",
      "model_module_version": "1.5.0",
      "model_name": "IntSliderModel",
      "state": {
       "description": "T",
       "layout": "IPY_MODEL_eda1ad24612347d1a321e0d8f8c609c3",
       "max": 300,
       "min": 273,
       "style": "IPY_MODEL_80cd69fa1ffd4a54b5f421ac12323446",
       "value": 286
      }
     },
     "b1f67ef17ea0402eaed57de46c29bbb5": {
      "model_module": "@jupyter-widgets/base",
      "model_module_version": "1.2.0",
      "model_name": "LayoutModel",
      "state": {}
     },
     "b2afe178a1ae449ca55f7fa47e8b5887": {
      "model_module": "@jupyter-widgets/controls",
      "model_module_version": "1.5.0",
      "model_name": "DescriptionStyleModel",
      "state": {
       "description_width": ""
      }
     },
     "b407ba770d4c4f7783cab042ea15b811": {
      "model_module": "@jupyter-widgets/base",
      "model_module_version": "1.2.0",
      "model_name": "LayoutModel",
      "state": {}
     },
     "b542ffe9133748cf8456204b5815e494": {
      "model_module": "@jupyter-widgets/controls",
      "model_module_version": "1.5.0",
      "model_name": "IntSliderModel",
      "state": {
       "description": "x",
       "layout": "IPY_MODEL_5ffa160862cf48feb6864c70b7d68afc",
       "max": 30,
       "min": -10,
       "style": "IPY_MODEL_e8f89817d69b48828babbb20de3f62f8",
       "value": 10
      }
     },
     "b557e8e7661d4214b1443e4edec301d6": {
      "model_module": "@jupyter-widgets/base",
      "model_module_version": "1.2.0",
      "model_name": "LayoutModel",
      "state": {}
     },
     "b57a332efc1840a3a226e7fcf0ed7717": {
      "model_module": "@jupyter-widgets/controls",
      "model_module_version": "1.5.0",
      "model_name": "VBoxModel",
      "state": {
       "_dom_classes": [
        "widget-interact"
       ],
       "layout": "IPY_MODEL_50b4b2bbb76f465f8d16084b93bdffa1"
      }
     },
     "b5bf2c2ca39b4cd29eab7cf16dca0ab9": {
      "model_module": "@jupyter-widgets/output",
      "model_module_version": "1.0.0",
      "model_name": "OutputModel",
      "state": {
       "layout": "IPY_MODEL_1db657c491e9422dbcbf0f31e8108035",
       "outputs": [
        {
         "data": {
          "text/plain": "10"
         },
         "metadata": {},
         "output_type": "display_data"
        }
       ]
      }
     },
     "b5f385f013e84ccebac7d024009ece9c": {
      "model_module": "@jupyter-widgets/output",
      "model_module_version": "1.0.0",
      "model_name": "OutputModel",
      "state": {
       "layout": "IPY_MODEL_884501c906de4975a047a2e1cf4e07fc",
       "outputs": [
        {
         "data": {
          "application/vnd.jupyter.widget-view+json": {
           "model_id": "1e477bb6bc4944598261f2e59fa30645",
           "version_major": 2,
           "version_minor": 0
          },
          "text/plain": "interactive(children=(IntSlider(value=150, description='i', max=200, min=100, step=10), FloatSlider(value=10.0…"
         },
         "metadata": {},
         "output_type": "display_data"
        },
        {
         "name": "stdout",
         "output_type": "stream",
         "text": "Potential is: \n"
        },
        {
         "ename": "NameError",
         "evalue": "name 'E' is not defined",
         "output_type": "error",
         "traceback": [
          "\u001b[0;31m\u001b[0m",
          "\u001b[0;31mNameError\u001b[0mTraceback (most recent call last)",
          "\u001b[0;32m/opt/conda/lib/python3.8/site-packages/ipywidgets/widgets/interaction.py\u001b[0m in \u001b[0;36mupdate\u001b[0;34m(self, *args)\u001b[0m\n\u001b[1;32m    254\u001b[0m                     \u001b[0mvalue\u001b[0m \u001b[0;34m=\u001b[0m \u001b[0mwidget\u001b[0m\u001b[0;34m.\u001b[0m\u001b[0mget_interact_value\u001b[0m\u001b[0;34m(\u001b[0m\u001b[0;34m)\u001b[0m\u001b[0;34m\u001b[0m\u001b[0;34m\u001b[0m\u001b[0m\n\u001b[1;32m    255\u001b[0m                     \u001b[0mself\u001b[0m\u001b[0;34m.\u001b[0m\u001b[0mkwargs\u001b[0m\u001b[0;34m[\u001b[0m\u001b[0mwidget\u001b[0m\u001b[0;34m.\u001b[0m\u001b[0m_kwarg\u001b[0m\u001b[0;34m]\u001b[0m \u001b[0;34m=\u001b[0m \u001b[0mvalue\u001b[0m\u001b[0;34m\u001b[0m\u001b[0;34m\u001b[0m\u001b[0m\n\u001b[0;32m--> 256\u001b[0;31m                 \u001b[0mself\u001b[0m\u001b[0;34m.\u001b[0m\u001b[0mresult\u001b[0m \u001b[0;34m=\u001b[0m \u001b[0mself\u001b[0m\u001b[0;34m.\u001b[0m\u001b[0mf\u001b[0m\u001b[0;34m(\u001b[0m\u001b[0;34m**\u001b[0m\u001b[0mself\u001b[0m\u001b[0;34m.\u001b[0m\u001b[0mkwargs\u001b[0m\u001b[0;34m)\u001b[0m\u001b[0;34m\u001b[0m\u001b[0;34m\u001b[0m\u001b[0m\n\u001b[0m\u001b[1;32m    257\u001b[0m                 \u001b[0mshow_inline_matplotlib_plots\u001b[0m\u001b[0;34m(\u001b[0m\u001b[0;34m)\u001b[0m\u001b[0;34m\u001b[0m\u001b[0;34m\u001b[0m\u001b[0m\n\u001b[1;32m    258\u001b[0m                 \u001b[0;32mif\u001b[0m \u001b[0mself\u001b[0m\u001b[0;34m.\u001b[0m\u001b[0mauto_display\u001b[0m \u001b[0;32mand\u001b[0m \u001b[0mself\u001b[0m\u001b[0;34m.\u001b[0m\u001b[0mresult\u001b[0m \u001b[0;32mis\u001b[0m \u001b[0;32mnot\u001b[0m \u001b[0;32mNone\u001b[0m\u001b[0;34m:\u001b[0m\u001b[0;34m\u001b[0m\u001b[0;34m\u001b[0m\u001b[0m\n",
          "\u001b[0;32m<ipython-input-73-0b218334847b>\u001b[0m in \u001b[0;36mf\u001b[0;34m(ion, T)\u001b[0m\n\u001b[1;32m      6\u001b[0m         \u001b[0mlograt\u001b[0m \u001b[0;34m=\u001b[0m \u001b[0minteract\u001b[0m\u001b[0;34m(\u001b[0m\u001b[0mionslider\u001b[0m\u001b[0;34m,\u001b[0m \u001b[0mi\u001b[0m\u001b[0;34m=\u001b[0m\u001b[0;34m(\u001b[0m\u001b[0;36m100\u001b[0m\u001b[0;34m,\u001b[0m\u001b[0;36m200\u001b[0m\u001b[0;34m,\u001b[0m\u001b[0;36m10\u001b[0m\u001b[0;34m)\u001b[0m\u001b[0;34m,\u001b[0m\u001b[0me\u001b[0m \u001b[0;34m=\u001b[0m \u001b[0;34m(\u001b[0m\u001b[0;36m0.1\u001b[0m\u001b[0;34m,\u001b[0m\u001b[0;36m20.0\u001b[0m\u001b[0;34m)\u001b[0m\u001b[0;34m)\u001b[0m\u001b[0;34m;\u001b[0m\u001b[0;34m\u001b[0m\u001b[0;34m\u001b[0m\u001b[0m\n\u001b[1;32m      7\u001b[0m     \u001b[0mprint\u001b[0m\u001b[0;34m(\u001b[0m\u001b[0;34m\"Potential is: \"\u001b[0m\u001b[0;34m)\u001b[0m\u001b[0;34m\u001b[0m\u001b[0;34m\u001b[0m\u001b[0m\n\u001b[0;32m----> 8\u001b[0;31m     \u001b[0mprint\u001b[0m\u001b[0;34m(\u001b[0m\u001b[0mE\u001b[0m\u001b[0;34m)\u001b[0m\u001b[0;34m\u001b[0m\u001b[0;34m\u001b[0m\u001b[0m\n\u001b[0m",
          "\u001b[0;31mNameError\u001b[0m: name 'E' is not defined"
         ]
        }
       ]
      }
     },
     "b648d7124d924d6d9aec5f4905cf1271": {
      "model_module": "@jupyter-widgets/controls",
      "model_module_version": "1.5.0",
      "model_name": "DescriptionStyleModel",
      "state": {
       "description_width": ""
      }
     },
     "b8146969ec5246c4b39c2e71d9a26a9e": {
      "model_module": "@jupyter-widgets/controls",
      "model_module_version": "1.5.0",
      "model_name": "VBoxModel",
      "state": {
       "_dom_classes": [
        "widget-interact"
       ],
       "children": [
        "IPY_MODEL_fa063ddfdb2f40ceaf84222d883db38d",
        "IPY_MODEL_6ef846bf19b245a486ca564d833a41e5",
        "IPY_MODEL_1b316881de214484a917cda072d2e77f"
       ],
       "layout": "IPY_MODEL_e1f12f3f8f204c32bb542cca1223af78"
      }
     },
     "b974b1dc96dc41d7900fa77661da9d69": {
      "model_module": "@jupyter-widgets/base",
      "model_module_version": "1.2.0",
      "model_name": "LayoutModel",
      "state": {}
     },
     "b9c356edafaa438db170305cb030e4f9": {
      "model_module": "@jupyter-widgets/output",
      "model_module_version": "1.0.0",
      "model_name": "OutputModel",
      "state": {
       "layout": "IPY_MODEL_46a6035f3bb8476094c2732d922b642e"
      }
     },
     "bba5173dd1cb43f99c668919fe36ed89": {
      "model_module": "@jupyter-widgets/base",
      "model_module_version": "1.2.0",
      "model_name": "LayoutModel",
      "state": {}
     },
     "bbaaf87a04ef405ba6823952ad8bff7f": {
      "model_module": "@jupyter-widgets/controls",
      "model_module_version": "1.5.0",
      "model_name": "VBoxModel",
      "state": {
       "_dom_classes": [
        "widget-interact"
       ],
       "children": [
        "IPY_MODEL_f036187e30bc4aab9a5b3c7148e11578",
        "IPY_MODEL_2de2e9238e0e42b29a0b3d767788e10a",
        "IPY_MODEL_aea87382fc9c419a98fb06b36079b343"
       ],
       "layout": "IPY_MODEL_7bc913c3e5ee43599122a2d2071fdde1"
      }
     },
     "bc038d42fa97491e926296bedd17511a": {
      "model_module": "@jupyter-widgets/controls",
      "model_module_version": "1.5.0",
      "model_name": "DescriptionStyleModel",
      "state": {
       "description_width": ""
      }
     },
     "bd2953fab67d4cdbb124065e84ff7e29": {
      "model_module": "@jupyter-widgets/output",
      "model_module_version": "1.0.0",
      "model_name": "OutputModel",
      "state": {
       "layout": "IPY_MODEL_efa67e8caa3a442d8aa053614e8dd154",
       "outputs": [
        {
         "name": "stdout",
         "output_type": "stream",
         "text": "Potential is: \n0.005460814206685881\n"
        }
       ]
      }
     },
     "bde0b8f0e37b47e1ba373d26eeec0ec1": {
      "model_module": "@jupyter-widgets/base",
      "model_module_version": "1.2.0",
      "model_name": "LayoutModel",
      "state": {}
     },
     "c0182a69f61c482fbe194d3a668b8098": {
      "model_module": "@jupyter-widgets/base",
      "model_module_version": "1.2.0",
      "model_name": "LayoutModel",
      "state": {}
     },
     "c1123aa46e9e438a8bf0c4aabd4b805e": {
      "model_module": "@jupyter-widgets/controls",
      "model_module_version": "1.5.0",
      "model_name": "IntSliderModel",
      "state": {
       "description": "T",
       "layout": "IPY_MODEL_e2fac33fe2f1481f92e2f0a07153344a",
       "max": 300,
       "min": 273,
       "style": "IPY_MODEL_1ef5d6d0491849e687a1db469087122f",
       "value": 286
      }
     },
     "c185a27685c54dd0a1a8223bab01930b": {
      "model_module": "@jupyter-widgets/controls",
      "model_module_version": "1.5.0",
      "model_name": "SliderStyleModel",
      "state": {
       "description_width": ""
      }
     },
     "c279bdebe4554f93a38a1191ec4fc10d": {
      "model_module": "@jupyter-widgets/base",
      "model_module_version": "1.2.0",
      "model_name": "LayoutModel",
      "state": {}
     },
     "c3c33221e8614ec3841f7970fe42d092": {
      "model_module": "@jupyter-widgets/controls",
      "model_module_version": "1.5.0",
      "model_name": "VBoxModel",
      "state": {
       "_dom_classes": [
        "widget-interact"
       ],
       "children": [
        "IPY_MODEL_99ac9e72be974717a3740bdd8026c2f0",
        "IPY_MODEL_92443a7212214275bc33e96b0a319811",
        "IPY_MODEL_1735fadd7d2f4049a502eb6c51ae484f"
       ],
       "layout": "IPY_MODEL_a71e2ad95ed04b928be7395ccd9789cf"
      }
     },
     "c3eb2f1e300c429f986e244acb213e89": {
      "model_module": "@jupyter-widgets/controls",
      "model_module_version": "1.5.0",
      "model_name": "DescriptionStyleModel",
      "state": {
       "description_width": ""
      }
     },
     "c474c5756e374d5487dd71dbad1f682b": {
      "model_module": "@jupyter-widgets/controls",
      "model_module_version": "1.5.0",
      "model_name": "IntSliderModel",
      "state": {
       "description": "i",
       "layout": "IPY_MODEL_5a7c7eb52e3d44d59f2af7ea85959031",
       "max": 200,
       "min": 100,
       "step": 10,
       "style": "IPY_MODEL_eb6baaa4aa2348c88afeac5fc621bdeb",
       "value": 140
      }
     },
     "c47add0955664a2d849cdb5b4c73f299": {
      "model_module": "@jupyter-widgets/output",
      "model_module_version": "1.0.0",
      "model_name": "OutputModel",
      "state": {
       "layout": "IPY_MODEL_223528b2ae614ac18f6921dfaa763b9a",
       "outputs": [
        {
         "data": {
          "text/plain": "1"
         },
         "metadata": {},
         "output_type": "display_data"
        }
       ]
      }
     },
     "c48ad9695cee44a4ad1e19b83c163b23": {
      "model_module": "@jupyter-widgets/base",
      "model_module_version": "1.2.0",
      "model_name": "LayoutModel",
      "state": {}
     },
     "c59b718418404dc0aca966024a7ae359": {
      "model_module": "@jupyter-widgets/controls",
      "model_module_version": "1.5.0",
      "model_name": "SliderStyleModel",
      "state": {
       "description_width": ""
      }
     },
     "c5edf71071e54254a945af180be00004": {
      "model_module": "@jupyter-widgets/output",
      "model_module_version": "1.0.0",
      "model_name": "OutputModel",
      "state": {
       "layout": "IPY_MODEL_3b954fb15cb441adbc35103ae442d514",
       "outputs": [
        {
         "ename": "NameError",
         "evalue": "name 'T' is not defined",
         "output_type": "error",
         "traceback": [
          "\u001b[0;31m\u001b[0m",
          "\u001b[0;31mNameError\u001b[0mTraceback (most recent call last)",
          "\u001b[0;32m/opt/conda/lib/python3.8/site-packages/ipywidgets/widgets/interaction.py\u001b[0m in \u001b[0;36mupdate\u001b[0;34m(self, *args)\u001b[0m\n\u001b[1;32m    254\u001b[0m                     \u001b[0mvalue\u001b[0m \u001b[0;34m=\u001b[0m \u001b[0mwidget\u001b[0m\u001b[0;34m.\u001b[0m\u001b[0mget_interact_value\u001b[0m\u001b[0;34m(\u001b[0m\u001b[0;34m)\u001b[0m\u001b[0;34m\u001b[0m\u001b[0;34m\u001b[0m\u001b[0m\n\u001b[1;32m    255\u001b[0m                     \u001b[0mself\u001b[0m\u001b[0;34m.\u001b[0m\u001b[0mkwargs\u001b[0m\u001b[0;34m[\u001b[0m\u001b[0mwidget\u001b[0m\u001b[0;34m.\u001b[0m\u001b[0m_kwarg\u001b[0m\u001b[0;34m]\u001b[0m \u001b[0;34m=\u001b[0m \u001b[0mvalue\u001b[0m\u001b[0;34m\u001b[0m\u001b[0;34m\u001b[0m\u001b[0m\n\u001b[0;32m--> 256\u001b[0;31m                 \u001b[0mself\u001b[0m\u001b[0;34m.\u001b[0m\u001b[0mresult\u001b[0m \u001b[0;34m=\u001b[0m \u001b[0mself\u001b[0m\u001b[0;34m.\u001b[0m\u001b[0mf\u001b[0m\u001b[0;34m(\u001b[0m\u001b[0;34m**\u001b[0m\u001b[0mself\u001b[0m\u001b[0;34m.\u001b[0m\u001b[0mkwargs\u001b[0m\u001b[0;34m)\u001b[0m\u001b[0;34m\u001b[0m\u001b[0;34m\u001b[0m\u001b[0m\n\u001b[0m\u001b[1;32m    257\u001b[0m                 \u001b[0mshow_inline_matplotlib_plots\u001b[0m\u001b[0;34m(\u001b[0m\u001b[0;34m)\u001b[0m\u001b[0;34m\u001b[0m\u001b[0;34m\u001b[0m\u001b[0m\n\u001b[1;32m    258\u001b[0m                 \u001b[0;32mif\u001b[0m \u001b[0mself\u001b[0m\u001b[0;34m.\u001b[0m\u001b[0mauto_display\u001b[0m \u001b[0;32mand\u001b[0m \u001b[0mself\u001b[0m\u001b[0;34m.\u001b[0m\u001b[0mresult\u001b[0m \u001b[0;32mis\u001b[0m \u001b[0;32mnot\u001b[0m \u001b[0;32mNone\u001b[0m\u001b[0;34m:\u001b[0m\u001b[0;34m\u001b[0m\u001b[0;34m\u001b[0m\u001b[0m\n",
          "\u001b[0;32m<ipython-input-72-30039dc93ed2>\u001b[0m in \u001b[0;36mionslider\u001b[0;34m(i, e)\u001b[0m\n\u001b[1;32m      2\u001b[0m     \u001b[0mR\u001b[0m \u001b[0;34m=\u001b[0m \u001b[0;36m8.314\u001b[0m\u001b[0;34m;\u001b[0m\u001b[0;34m\u001b[0m\u001b[0;34m\u001b[0m\u001b[0m\n\u001b[1;32m      3\u001b[0m     \u001b[0mF\u001b[0m \u001b[0;34m=\u001b[0m \u001b[0;36m96484\u001b[0m\u001b[0;34m;\u001b[0m\u001b[0;34m\u001b[0m\u001b[0;34m\u001b[0m\u001b[0m\n\u001b[0;32m----> 4\u001b[0;31m     \u001b[0mE\u001b[0m \u001b[0;34m=\u001b[0m\u001b[0;34m(\u001b[0m\u001b[0mR\u001b[0m\u001b[0;34m*\u001b[0m\u001b[0mT\u001b[0m\u001b[0;34m)\u001b[0m\u001b[0;34m*\u001b[0m\u001b[0mnp\u001b[0m\u001b[0;34m.\u001b[0m\u001b[0mlog\u001b[0m\u001b[0;34m(\u001b[0m\u001b[0me\u001b[0m\u001b[0;34m/\u001b[0m\u001b[0mi\u001b[0m\u001b[0;34m)\u001b[0m\u001b[0;34m/\u001b[0m\u001b[0;34m(\u001b[0m\u001b[0mF\u001b[0m\u001b[0;34m*\u001b[0m\u001b[0mv\u001b[0m\u001b[0;34m)\u001b[0m\u001b[0;34m\u001b[0m\u001b[0;34m\u001b[0m\u001b[0m\n\u001b[0m\u001b[1;32m      5\u001b[0m     \u001b[0;32mreturn\u001b[0m \u001b[0mnp\u001b[0m\u001b[0;34m.\u001b[0m\u001b[0mlog\u001b[0m\u001b[0;34m(\u001b[0m\u001b[0me\u001b[0m\u001b[0;34m/\u001b[0m\u001b[0mi\u001b[0m\u001b[0;34m)\u001b[0m\u001b[0;34m;\u001b[0m\u001b[0;34m\u001b[0m\u001b[0;34m\u001b[0m\u001b[0m\n",
          "\u001b[0;31mNameError\u001b[0m: name 'T' is not defined"
         ]
        }
       ]
      }
     },
     "c6218d69eb6945069dcf7af588d096f6": {
      "model_module": "@jupyter-widgets/controls",
      "model_module_version": "1.5.0",
      "model_name": "FloatSliderModel",
      "state": {
       "description": "e",
       "layout": "IPY_MODEL_6849afe847074aafb125976ff4f173a9",
       "max": 20,
       "min": 0.1,
       "style": "IPY_MODEL_8f75ca798de74622a510109b1cbf0213",
       "value": 10.1
      }
     },
     "c70e61b59da746e4ada4051078435134": {
      "model_module": "@jupyter-widgets/controls",
      "model_module_version": "1.5.0",
      "model_name": "SliderStyleModel",
      "state": {
       "description_width": ""
      }
     },
     "c718186a3b184ce1bab81e918cb18b51": {
      "model_module": "@jupyter-widgets/controls",
      "model_module_version": "1.5.0",
      "model_name": "VBoxModel",
      "state": {
       "_dom_classes": [
        "widget-interact"
       ],
       "children": [
        "IPY_MODEL_609ae4b153ce4551817cfd9c44026b92",
        "IPY_MODEL_40662b6cc7294b7fbf16d5ca1c59d573",
        "IPY_MODEL_d3340f9e925e40dba2f734e13e415487"
       ],
       "layout": "IPY_MODEL_815728626a5041879f73218b60080a77"
      }
     },
     "c724898d4ed24d6cba15506ab9367bf3": {
      "model_module": "@jupyter-widgets/output",
      "model_module_version": "1.0.0",
      "model_name": "OutputModel",
      "state": {
       "layout": "IPY_MODEL_2114db5720e640c5be4c65fbb04f5669",
       "outputs": [
        {
         "data": {
          "application/vnd.jupyter.widget-view+json": {
           "model_id": "29fc4ededa4b489c877d22735d775539",
           "version_major": 2,
           "version_minor": 0
          },
          "text/plain": "interactive(children=(IntSlider(value=150, description='i', max=200, min=100, step=10), FloatSlider(value=9.1,…"
         },
         "metadata": {},
         "output_type": "display_data"
        },
        {
         "ename": "TypeError",
         "evalue": "unsupported operand type(s) for *: 'float' and 'function'",
         "output_type": "error",
         "traceback": [
          "\u001b[0;31m\u001b[0m",
          "\u001b[0;31mTypeError\u001b[0mTraceback (most recent call last)",
          "\u001b[0;32m/opt/conda/lib/python3.8/site-packages/ipywidgets/widgets/interaction.py\u001b[0m in \u001b[0;36mupdate\u001b[0;34m(self, *args)\u001b[0m\n\u001b[1;32m    254\u001b[0m                     \u001b[0mvalue\u001b[0m \u001b[0;34m=\u001b[0m \u001b[0mwidget\u001b[0m\u001b[0;34m.\u001b[0m\u001b[0mget_interact_value\u001b[0m\u001b[0;34m(\u001b[0m\u001b[0;34m)\u001b[0m\u001b[0;34m\u001b[0m\u001b[0;34m\u001b[0m\u001b[0m\n\u001b[1;32m    255\u001b[0m                     \u001b[0mself\u001b[0m\u001b[0;34m.\u001b[0m\u001b[0mkwargs\u001b[0m\u001b[0;34m[\u001b[0m\u001b[0mwidget\u001b[0m\u001b[0;34m.\u001b[0m\u001b[0m_kwarg\u001b[0m\u001b[0;34m]\u001b[0m \u001b[0;34m=\u001b[0m \u001b[0mvalue\u001b[0m\u001b[0;34m\u001b[0m\u001b[0;34m\u001b[0m\u001b[0m\n\u001b[0;32m--> 256\u001b[0;31m                 \u001b[0mself\u001b[0m\u001b[0;34m.\u001b[0m\u001b[0mresult\u001b[0m \u001b[0;34m=\u001b[0m \u001b[0mself\u001b[0m\u001b[0;34m.\u001b[0m\u001b[0mf\u001b[0m\u001b[0;34m(\u001b[0m\u001b[0;34m**\u001b[0m\u001b[0mself\u001b[0m\u001b[0;34m.\u001b[0m\u001b[0mkwargs\u001b[0m\u001b[0;34m)\u001b[0m\u001b[0;34m\u001b[0m\u001b[0;34m\u001b[0m\u001b[0m\n\u001b[0m\u001b[1;32m    257\u001b[0m                 \u001b[0mshow_inline_matplotlib_plots\u001b[0m\u001b[0;34m(\u001b[0m\u001b[0;34m)\u001b[0m\u001b[0;34m\u001b[0m\u001b[0;34m\u001b[0m\u001b[0m\n\u001b[1;32m    258\u001b[0m                 \u001b[0;32mif\u001b[0m \u001b[0mself\u001b[0m\u001b[0;34m.\u001b[0m\u001b[0mauto_display\u001b[0m \u001b[0;32mand\u001b[0m \u001b[0mself\u001b[0m\u001b[0;34m.\u001b[0m\u001b[0mresult\u001b[0m \u001b[0;32mis\u001b[0m \u001b[0;32mnot\u001b[0m \u001b[0;32mNone\u001b[0m\u001b[0;34m:\u001b[0m\u001b[0;34m\u001b[0m\u001b[0;34m\u001b[0m\u001b[0m\n",
          "\u001b[0;32m<ipython-input-60-3f2fb0e6a1e4>\u001b[0m in \u001b[0;36mf\u001b[0;34m(ion, T)\u001b[0m\n\u001b[1;32m      7\u001b[0m         \u001b[0mz\u001b[0m \u001b[0;34m=\u001b[0m \u001b[0;34m+\u001b[0m\u001b[0;36m1\u001b[0m\u001b[0;34m;\u001b[0m\u001b[0;34m\u001b[0m\u001b[0;34m\u001b[0m\u001b[0m\n\u001b[1;32m      8\u001b[0m         \u001b[0mlograt\u001b[0m \u001b[0;34m=\u001b[0m \u001b[0minteract\u001b[0m\u001b[0;34m(\u001b[0m\u001b[0mionslider\u001b[0m\u001b[0;34m,\u001b[0m \u001b[0mi\u001b[0m\u001b[0;34m=\u001b[0m\u001b[0;34m(\u001b[0m\u001b[0;36m100\u001b[0m\u001b[0;34m,\u001b[0m\u001b[0;36m200\u001b[0m\u001b[0;34m,\u001b[0m\u001b[0;36m10\u001b[0m\u001b[0;34m)\u001b[0m\u001b[0;34m,\u001b[0m\u001b[0me\u001b[0m \u001b[0;34m=\u001b[0m \u001b[0;34m(\u001b[0m\u001b[0;36m0.1\u001b[0m\u001b[0;34m,\u001b[0m\u001b[0;36m20.0\u001b[0m\u001b[0;34m,\u001b[0m\u001b[0;36m1\u001b[0m\u001b[0;34m)\u001b[0m\u001b[0;34m)\u001b[0m\u001b[0;34m;\u001b[0m\u001b[0;34m\u001b[0m\u001b[0;34m\u001b[0m\u001b[0m\n\u001b[0;32m----> 9\u001b[0;31m         \u001b[0mE\u001b[0m \u001b[0;34m=\u001b[0m\u001b[0;34m(\u001b[0m\u001b[0mR\u001b[0m\u001b[0;34m*\u001b[0m\u001b[0mT\u001b[0m\u001b[0;34m)\u001b[0m\u001b[0;34m*\u001b[0m\u001b[0mlograt\u001b[0m\u001b[0;34m/\u001b[0m\u001b[0;34m(\u001b[0m\u001b[0mF\u001b[0m\u001b[0;34m*\u001b[0m\u001b[0mv\u001b[0m\u001b[0;34m)\u001b[0m\u001b[0;34m\u001b[0m\u001b[0;34m\u001b[0m\u001b[0m\n\u001b[0m\u001b[1;32m     10\u001b[0m     \u001b[0mprint\u001b[0m\u001b[0;34m(\u001b[0m\u001b[0;34m\"Potential is: \"\u001b[0m\u001b[0;34m)\u001b[0m\u001b[0;34m\u001b[0m\u001b[0;34m\u001b[0m\u001b[0m\n\u001b[1;32m     11\u001b[0m     \u001b[0mprint\u001b[0m\u001b[0;34m(\u001b[0m\u001b[0mE\u001b[0m\u001b[0;34m)\u001b[0m\u001b[0;34m\u001b[0m\u001b[0;34m\u001b[0m\u001b[0m\n",
          "\u001b[0;31mTypeError\u001b[0m: unsupported operand type(s) for *: 'float' and 'function'"
         ]
        }
       ]
      }
     },
     "c7fa4f3ba39c427fafae2c8562c4fa85": {
      "model_module": "@jupyter-widgets/controls",
      "model_module_version": "1.5.0",
      "model_name": "VBoxModel",
      "state": {
       "_dom_classes": [
        "widget-interact"
       ],
       "children": [
        "IPY_MODEL_2c4bb3e9895f40bc95f8609104424f4c",
        "IPY_MODEL_4c36a48ac62240fab6238cd541dea6c1",
        "IPY_MODEL_5379dbdec5fb4d519d880547553a864d"
       ],
       "layout": "IPY_MODEL_5b2ce1ba3b58424f83d52fc41cb0ca67"
      }
     },
     "c9337b22d5d4441aaac5ef4f44d40b35": {
      "model_module": "@jupyter-widgets/controls",
      "model_module_version": "1.5.0",
      "model_name": "IntSliderModel",
      "state": {
       "description": "i",
       "layout": "IPY_MODEL_18d280f10815407e9988ce715bf9e30d",
       "max": 200,
       "min": 100,
       "step": 10,
       "style": "IPY_MODEL_66e9b2c6093c4762ab2054a78bfdfe24",
       "value": 150
      }
     },
     "ca7cb34846164cc48aa30e2585012134": {
      "model_module": "@jupyter-widgets/output",
      "model_module_version": "1.0.0",
      "model_name": "OutputModel",
      "state": {
       "layout": "IPY_MODEL_eb399a3288714d46b2dd05cb060c6a2e",
       "outputs": [
        {
         "name": "stderr",
         "output_type": "stream",
         "text": "<ipython-input-49-29415162118d>:2: RuntimeWarning: divide by zero encountered in log\n  return np.log(e/i);\n"
        },
        {
         "data": {
          "text/plain": "-inf"
         },
         "metadata": {},
         "output_type": "display_data"
        }
       ]
      }
     },
     "ca8be4bcf1c24d9bbc1ddb419a72b23a": {
      "model_module": "@jupyter-widgets/controls",
      "model_module_version": "1.5.0",
      "model_name": "SliderStyleModel",
      "state": {
       "description_width": ""
      }
     },
     "caa71ad2136e47f4af6a9b20fa689e28": {
      "model_module": "@jupyter-widgets/controls",
      "model_module_version": "1.5.0",
      "model_name": "SliderStyleModel",
      "state": {
       "description_width": ""
      }
     },
     "cae1087b497e4eb6abfeb271c284a0fd": {
      "model_module": "@jupyter-widgets/controls",
      "model_module_version": "1.5.0",
      "model_name": "SliderStyleModel",
      "state": {
       "description_width": ""
      }
     },
     "cb31bd10f5194cb3a5716ca6b20a04d7": {
      "model_module": "@jupyter-widgets/controls",
      "model_module_version": "1.5.0",
      "model_name": "DropdownModel",
      "state": {
       "_options_labels": [
        "K",
        "Na",
        "Cl"
       ],
       "description": "z",
       "index": 0,
       "layout": "IPY_MODEL_57632efbdf65452ba468f937b0f384e9",
       "style": "IPY_MODEL_edb00531fb604825a50bea07fe30ed11"
      }
     },
     "cb88915983c046828129d2ccca191157": {
      "model_module": "@jupyter-widgets/controls",
      "model_module_version": "1.5.0",
      "model_name": "IntSliderModel",
      "state": {
       "description": "T",
       "layout": "IPY_MODEL_51cb87f326c0493a969664c9449fdc4b",
       "max": 300,
       "min": 273,
       "style": "IPY_MODEL_e3055c2460014b16a43a9a4813e3d519",
       "value": 287
      }
     },
     "ccd7eb52386440df943a9a4cd4018031": {
      "model_module": "@jupyter-widgets/controls",
      "model_module_version": "1.5.0",
      "model_name": "IntSliderModel",
      "state": {
       "description": "i",
       "layout": "IPY_MODEL_f2c19772935345cbb7acfa59430429d7",
       "max": 200,
       "min": 100,
       "step": 10,
       "style": "IPY_MODEL_f9a0d2b326bd409db987d3b9450bc03c",
       "value": 150
      }
     },
     "ceb1733e29ff426ea98870b5c0e6e492": {
      "model_module": "@jupyter-widgets/controls",
      "model_module_version": "1.5.0",
      "model_name": "VBoxModel",
      "state": {
       "_dom_classes": [
        "widget-interact"
       ],
       "layout": "IPY_MODEL_7c4f2744522a43cf99419addc8a586d8"
      }
     },
     "d08a22914b6b45458cf8764ece67baea": {
      "model_module": "@jupyter-widgets/controls",
      "model_module_version": "1.5.0",
      "model_name": "IntSliderModel",
      "state": {
       "description": "T",
       "layout": "IPY_MODEL_2cd3f304747b4a6d975937e926efc9d5",
       "max": 300,
       "min": 273,
       "style": "IPY_MODEL_2bb4e93c999e41fd91d22b10c76d536c",
       "value": 286
      }
     },
     "d08dd729232a46b1b2bdb4465c2dcb66": {
      "model_module": "@jupyter-widgets/base",
      "model_module_version": "1.2.0",
      "model_name": "LayoutModel",
      "state": {}
     },
     "d0be46d5282d48d2b84b47e652ba918f": {
      "model_module": "@jupyter-widgets/controls",
      "model_module_version": "1.5.0",
      "model_name": "IntSliderModel",
      "state": {
       "description": "T",
       "layout": "IPY_MODEL_f9b389632bb64e5e8ee20378a374ae59",
       "max": 300,
       "min": 273,
       "style": "IPY_MODEL_cae1087b497e4eb6abfeb271c284a0fd",
       "value": 284
      }
     },
     "d1585c374faa4b828dfbe9ccafafb9f3": {
      "model_module": "@jupyter-widgets/base",
      "model_module_version": "1.2.0",
      "model_name": "LayoutModel",
      "state": {}
     },
     "d1ccca9a282e41568fe4843863161872": {
      "model_module": "@jupyter-widgets/base",
      "model_module_version": "1.2.0",
      "model_name": "LayoutModel",
      "state": {}
     },
     "d3340f9e925e40dba2f734e13e415487": {
      "model_module": "@jupyter-widgets/output",
      "model_module_version": "1.0.0",
      "model_name": "OutputModel",
      "state": {
       "layout": "IPY_MODEL_0d88f65d15aa479b8d1754a87f071e9c",
       "outputs": [
        {
         "data": {
          "application/vnd.jupyter.widget-view+json": {
           "model_id": "b8146969ec5246c4b39c2e71d9a26a9e",
           "version_major": 2,
           "version_minor": 0
          },
          "text/plain": "interactive(children=(IntSlider(value=150, description='i', max=200, min=100, step=10), FloatSlider(value=10.0…"
         },
         "metadata": {},
         "output_type": "display_data"
        },
        {
         "name": "stdout",
         "output_type": "stream",
         "text": "<function ionslider at 0x7f86391e4b80>\n"
        },
        {
         "ename": "TypeError",
         "evalue": "unsupported operand type(s) for *: 'float' and 'function'",
         "output_type": "error",
         "traceback": [
          "\u001b[0;31m\u001b[0m",
          "\u001b[0;31mTypeError\u001b[0mTraceback (most recent call last)",
          "\u001b[0;32m/opt/conda/lib/python3.8/site-packages/ipywidgets/widgets/interaction.py\u001b[0m in \u001b[0;36mupdate\u001b[0;34m(self, *args)\u001b[0m\n\u001b[1;32m    254\u001b[0m                     \u001b[0mvalue\u001b[0m \u001b[0;34m=\u001b[0m \u001b[0mwidget\u001b[0m\u001b[0;34m.\u001b[0m\u001b[0mget_interact_value\u001b[0m\u001b[0;34m(\u001b[0m\u001b[0;34m)\u001b[0m\u001b[0;34m\u001b[0m\u001b[0;34m\u001b[0m\u001b[0m\n\u001b[1;32m    255\u001b[0m                     \u001b[0mself\u001b[0m\u001b[0;34m.\u001b[0m\u001b[0mkwargs\u001b[0m\u001b[0;34m[\u001b[0m\u001b[0mwidget\u001b[0m\u001b[0;34m.\u001b[0m\u001b[0m_kwarg\u001b[0m\u001b[0;34m]\u001b[0m \u001b[0;34m=\u001b[0m \u001b[0mvalue\u001b[0m\u001b[0;34m\u001b[0m\u001b[0;34m\u001b[0m\u001b[0m\n\u001b[0;32m--> 256\u001b[0;31m                 \u001b[0mself\u001b[0m\u001b[0;34m.\u001b[0m\u001b[0mresult\u001b[0m \u001b[0;34m=\u001b[0m \u001b[0mself\u001b[0m\u001b[0;34m.\u001b[0m\u001b[0mf\u001b[0m\u001b[0;34m(\u001b[0m\u001b[0;34m**\u001b[0m\u001b[0mself\u001b[0m\u001b[0;34m.\u001b[0m\u001b[0mkwargs\u001b[0m\u001b[0;34m)\u001b[0m\u001b[0;34m\u001b[0m\u001b[0;34m\u001b[0m\u001b[0m\n\u001b[0m\u001b[1;32m    257\u001b[0m                 \u001b[0mshow_inline_matplotlib_plots\u001b[0m\u001b[0;34m(\u001b[0m\u001b[0;34m)\u001b[0m\u001b[0;34m\u001b[0m\u001b[0;34m\u001b[0m\u001b[0m\n\u001b[1;32m    258\u001b[0m                 \u001b[0;32mif\u001b[0m \u001b[0mself\u001b[0m\u001b[0;34m.\u001b[0m\u001b[0mauto_display\u001b[0m \u001b[0;32mand\u001b[0m \u001b[0mself\u001b[0m\u001b[0;34m.\u001b[0m\u001b[0mresult\u001b[0m \u001b[0;32mis\u001b[0m \u001b[0;32mnot\u001b[0m \u001b[0;32mNone\u001b[0m\u001b[0;34m:\u001b[0m\u001b[0;34m\u001b[0m\u001b[0;34m\u001b[0m\u001b[0m\n",
          "\u001b[0;32m<ipython-input-67-7c5421a7839f>\u001b[0m in \u001b[0;36mf\u001b[0;34m(ion, T)\u001b[0m\n\u001b[1;32m      8\u001b[0m         \u001b[0mlograt\u001b[0m \u001b[0;34m=\u001b[0m \u001b[0minteract\u001b[0m\u001b[0;34m(\u001b[0m\u001b[0mionslider\u001b[0m\u001b[0;34m,\u001b[0m \u001b[0mi\u001b[0m\u001b[0;34m=\u001b[0m\u001b[0;34m(\u001b[0m\u001b[0;36m100\u001b[0m\u001b[0;34m,\u001b[0m\u001b[0;36m200\u001b[0m\u001b[0;34m,\u001b[0m\u001b[0;36m10\u001b[0m\u001b[0;34m)\u001b[0m\u001b[0;34m,\u001b[0m\u001b[0me\u001b[0m \u001b[0;34m=\u001b[0m \u001b[0;34m(\u001b[0m\u001b[0;36m0.1\u001b[0m\u001b[0;34m,\u001b[0m\u001b[0;36m20.0\u001b[0m\u001b[0;34m)\u001b[0m\u001b[0;34m)\u001b[0m\u001b[0;34m;\u001b[0m\u001b[0;34m\u001b[0m\u001b[0;34m\u001b[0m\u001b[0m\n\u001b[1;32m      9\u001b[0m         \u001b[0mprint\u001b[0m\u001b[0;34m(\u001b[0m\u001b[0mlograt\u001b[0m\u001b[0;34m)\u001b[0m\u001b[0;34m\u001b[0m\u001b[0;34m\u001b[0m\u001b[0m\n\u001b[0;32m---> 10\u001b[0;31m         \u001b[0mE\u001b[0m \u001b[0;34m=\u001b[0m\u001b[0;34m(\u001b[0m\u001b[0mR\u001b[0m\u001b[0;34m*\u001b[0m\u001b[0mT\u001b[0m\u001b[0;34m)\u001b[0m\u001b[0;34m*\u001b[0m\u001b[0mlograt\u001b[0m\u001b[0;34m/\u001b[0m\u001b[0;34m(\u001b[0m\u001b[0mF\u001b[0m\u001b[0;34m*\u001b[0m\u001b[0mv\u001b[0m\u001b[0;34m)\u001b[0m\u001b[0;34m\u001b[0m\u001b[0;34m\u001b[0m\u001b[0m\n\u001b[0m\u001b[1;32m     11\u001b[0m     \u001b[0mprint\u001b[0m\u001b[0;34m(\u001b[0m\u001b[0;34m\"Potential is: \"\u001b[0m\u001b[0;34m)\u001b[0m\u001b[0;34m\u001b[0m\u001b[0;34m\u001b[0m\u001b[0m\n\u001b[1;32m     12\u001b[0m     \u001b[0mprint\u001b[0m\u001b[0;34m(\u001b[0m\u001b[0mE\u001b[0m\u001b[0;34m)\u001b[0m\u001b[0;34m\u001b[0m\u001b[0;34m\u001b[0m\u001b[0m\n",
          "\u001b[0;31mTypeError\u001b[0m: unsupported operand type(s) for *: 'float' and 'function'"
         ]
        }
       ]
      }
     },
     "d43f5aede7d1473a9a9b8617c14fe2d0": {
      "model_module": "@jupyter-widgets/base",
      "model_module_version": "1.2.0",
      "model_name": "LayoutModel",
      "state": {}
     },
     "d4dc99e6bca54fdc8ca50df9c37916ed": {
      "model_module": "@jupyter-widgets/output",
      "model_module_version": "1.0.0",
      "model_name": "OutputModel",
      "state": {
       "layout": "IPY_MODEL_b974b1dc96dc41d7900fa77661da9d69",
       "outputs": [
        {
         "data": {
          "application/vnd.jupyter.widget-view+json": {
           "model_id": "3db22ecc309d45409ca75648ac843567",
           "version_major": 2,
           "version_minor": 0
          },
          "text/plain": "interactive(children=(IntSlider(value=150, description='i', max=200, min=100, step=10), FloatSlider(value=10.0…"
         },
         "metadata": {},
         "output_type": "display_data"
        },
        {
         "ename": "TypeError",
         "evalue": "unsupported operand type(s) for *: 'float' and 'function'",
         "output_type": "error",
         "traceback": [
          "\u001b[0;31m\u001b[0m",
          "\u001b[0;31mTypeError\u001b[0mTraceback (most recent call last)",
          "\u001b[0;32m/opt/conda/lib/python3.8/site-packages/ipywidgets/widgets/interaction.py\u001b[0m in \u001b[0;36mupdate\u001b[0;34m(self, *args)\u001b[0m\n\u001b[1;32m    254\u001b[0m                     \u001b[0mvalue\u001b[0m \u001b[0;34m=\u001b[0m \u001b[0mwidget\u001b[0m\u001b[0;34m.\u001b[0m\u001b[0mget_interact_value\u001b[0m\u001b[0;34m(\u001b[0m\u001b[0;34m)\u001b[0m\u001b[0;34m\u001b[0m\u001b[0;34m\u001b[0m\u001b[0m\n\u001b[1;32m    255\u001b[0m                     \u001b[0mself\u001b[0m\u001b[0;34m.\u001b[0m\u001b[0mkwargs\u001b[0m\u001b[0;34m[\u001b[0m\u001b[0mwidget\u001b[0m\u001b[0;34m.\u001b[0m\u001b[0m_kwarg\u001b[0m\u001b[0;34m]\u001b[0m \u001b[0;34m=\u001b[0m \u001b[0mvalue\u001b[0m\u001b[0;34m\u001b[0m\u001b[0;34m\u001b[0m\u001b[0m\n\u001b[0;32m--> 256\u001b[0;31m                 \u001b[0mself\u001b[0m\u001b[0;34m.\u001b[0m\u001b[0mresult\u001b[0m \u001b[0;34m=\u001b[0m \u001b[0mself\u001b[0m\u001b[0;34m.\u001b[0m\u001b[0mf\u001b[0m\u001b[0;34m(\u001b[0m\u001b[0;34m**\u001b[0m\u001b[0mself\u001b[0m\u001b[0;34m.\u001b[0m\u001b[0mkwargs\u001b[0m\u001b[0;34m)\u001b[0m\u001b[0;34m\u001b[0m\u001b[0;34m\u001b[0m\u001b[0m\n\u001b[0m\u001b[1;32m    257\u001b[0m                 \u001b[0mshow_inline_matplotlib_plots\u001b[0m\u001b[0;34m(\u001b[0m\u001b[0;34m)\u001b[0m\u001b[0;34m\u001b[0m\u001b[0;34m\u001b[0m\u001b[0m\n\u001b[1;32m    258\u001b[0m                 \u001b[0;32mif\u001b[0m \u001b[0mself\u001b[0m\u001b[0;34m.\u001b[0m\u001b[0mauto_display\u001b[0m \u001b[0;32mand\u001b[0m \u001b[0mself\u001b[0m\u001b[0;34m.\u001b[0m\u001b[0mresult\u001b[0m \u001b[0;32mis\u001b[0m \u001b[0;32mnot\u001b[0m \u001b[0;32mNone\u001b[0m\u001b[0;34m:\u001b[0m\u001b[0;34m\u001b[0m\u001b[0;34m\u001b[0m\u001b[0m\n",
          "\u001b[0;32m<ipython-input-62-fff4d6d61cd7>\u001b[0m in \u001b[0;36mf\u001b[0;34m(ion, T)\u001b[0m\n\u001b[1;32m      7\u001b[0m         \u001b[0mz\u001b[0m \u001b[0;34m=\u001b[0m \u001b[0;34m+\u001b[0m\u001b[0;36m1\u001b[0m\u001b[0;34m;\u001b[0m\u001b[0;34m\u001b[0m\u001b[0;34m\u001b[0m\u001b[0m\n\u001b[1;32m      8\u001b[0m         \u001b[0mlograt\u001b[0m \u001b[0;34m=\u001b[0m \u001b[0minteract\u001b[0m\u001b[0;34m(\u001b[0m\u001b[0mionslider\u001b[0m\u001b[0;34m,\u001b[0m \u001b[0mi\u001b[0m\u001b[0;34m=\u001b[0m\u001b[0;34m(\u001b[0m\u001b[0;36m100\u001b[0m\u001b[0;34m,\u001b[0m\u001b[0;36m200\u001b[0m\u001b[0;34m,\u001b[0m\u001b[0;36m10\u001b[0m\u001b[0;34m)\u001b[0m\u001b[0;34m,\u001b[0m\u001b[0me\u001b[0m \u001b[0;34m=\u001b[0m \u001b[0;34m(\u001b[0m\u001b[0;36m0.1\u001b[0m\u001b[0;34m,\u001b[0m\u001b[0;36m20.0\u001b[0m\u001b[0;34m)\u001b[0m\u001b[0;34m)\u001b[0m\u001b[0;34m;\u001b[0m\u001b[0;34m\u001b[0m\u001b[0;34m\u001b[0m\u001b[0m\n\u001b[0;32m----> 9\u001b[0;31m         \u001b[0mE\u001b[0m \u001b[0;34m=\u001b[0m\u001b[0;34m(\u001b[0m\u001b[0mR\u001b[0m\u001b[0;34m*\u001b[0m\u001b[0mT\u001b[0m\u001b[0;34m)\u001b[0m\u001b[0;34m*\u001b[0m\u001b[0mlograt\u001b[0m\u001b[0;34m/\u001b[0m\u001b[0;34m(\u001b[0m\u001b[0mF\u001b[0m\u001b[0;34m*\u001b[0m\u001b[0mv\u001b[0m\u001b[0;34m)\u001b[0m\u001b[0;34m\u001b[0m\u001b[0;34m\u001b[0m\u001b[0m\n\u001b[0m\u001b[1;32m     10\u001b[0m     \u001b[0mprint\u001b[0m\u001b[0;34m(\u001b[0m\u001b[0;34m\"Potential is: \"\u001b[0m\u001b[0;34m)\u001b[0m\u001b[0;34m\u001b[0m\u001b[0;34m\u001b[0m\u001b[0m\n\u001b[1;32m     11\u001b[0m     \u001b[0mprint\u001b[0m\u001b[0;34m(\u001b[0m\u001b[0mE\u001b[0m\u001b[0;34m)\u001b[0m\u001b[0;34m\u001b[0m\u001b[0;34m\u001b[0m\u001b[0m\n",
          "\u001b[0;31mTypeError\u001b[0m: unsupported operand type(s) for *: 'float' and 'function'"
         ]
        }
       ]
      }
     },
     "d544805b34e84968b3c43c89f6f245bc": {
      "model_module": "@jupyter-widgets/base",
      "model_module_version": "1.2.0",
      "model_name": "LayoutModel",
      "state": {}
     },
     "d69d4efd811d491ea132d403a0cdc3c7": {
      "model_module": "@jupyter-widgets/controls",
      "model_module_version": "1.5.0",
      "model_name": "VBoxModel",
      "state": {
       "_dom_classes": [
        "widget-interact"
       ],
       "children": [
        "IPY_MODEL_5d579ae76d0247d395865f2bad5c7813",
        "IPY_MODEL_60bb2c61782446daa764f69a5ad61749",
        "IPY_MODEL_b5f385f013e84ccebac7d024009ece9c"
       ],
       "layout": "IPY_MODEL_d544805b34e84968b3c43c89f6f245bc"
      }
     },
     "d6f272c55570418b8a56e2c777246750": {
      "model_module": "@jupyter-widgets/base",
      "model_module_version": "1.2.0",
      "model_name": "LayoutModel",
      "state": {}
     },
     "d9822a329dd2441994b928117b906573": {
      "model_module": "@jupyter-widgets/base",
      "model_module_version": "1.2.0",
      "model_name": "LayoutModel",
      "state": {}
     },
     "da3563278f86450396606c11b0a184df": {
      "model_module": "@jupyter-widgets/base",
      "model_module_version": "1.2.0",
      "model_name": "LayoutModel",
      "state": {}
     },
     "db28fed123cb4aa2a53e102d29065231": {
      "model_module": "@jupyter-widgets/base",
      "model_module_version": "1.2.0",
      "model_name": "LayoutModel",
      "state": {}
     },
     "db5a1339b661489c82994ae9048e1ec5": {
      "model_module": "@jupyter-widgets/output",
      "model_module_version": "1.0.0",
      "model_name": "OutputModel",
      "state": {
       "layout": "IPY_MODEL_36c7480e561e47f5859d669205cd5192",
       "outputs": [
        {
         "data": {
          "text/plain": "0.005518498863798759"
         },
         "metadata": {},
         "output_type": "display_data"
        }
       ]
      }
     },
     "dbd4bf99894f4c35b52005eb931cba7f": {
      "model_module": "@jupyter-widgets/base",
      "model_module_version": "1.2.0",
      "model_name": "LayoutModel",
      "state": {}
     },
     "dbeb3c8d9e7645968cf51870762d25b6": {
      "model_module": "@jupyter-widgets/controls",
      "model_module_version": "1.5.0",
      "model_name": "FloatSliderModel",
      "state": {
       "description": "e",
       "layout": "IPY_MODEL_fe1b5904c5c84037b91f8f61e79324af",
       "max": 20,
       "min": 0.1,
       "step": 0.1,
       "style": "IPY_MODEL_2ee5584f8ec54dfca905f9a4b88feffc",
       "value": 10.049999999999999
      }
     },
     "dcda281d038a4e48a9bcabb70a7a2eaf": {
      "model_module": "@jupyter-widgets/output",
      "model_module_version": "1.0.0",
      "model_name": "OutputModel",
      "state": {
       "layout": "IPY_MODEL_a7736ffa748742afbe181567de112dd0",
       "outputs": [
        {
         "data": {
          "application/vnd.jupyter.widget-view+json": {
           "model_id": "96529ce4fe4540fc9061fe7395fbf751",
           "version_major": 2,
           "version_minor": 0
          },
          "text/plain": "interactive(children=(IntSlider(value=150, description='i', max=200, min=100, step=10), FloatSlider(value=10.0…"
         },
         "metadata": {},
         "output_type": "display_data"
        },
        {
         "name": "stdout",
         "output_type": "stream",
         "text": "<function ionslider at 0x7f86391e4430>\n"
        },
        {
         "ename": "TypeError",
         "evalue": "unsupported operand type(s) for *: 'float' and 'function'",
         "output_type": "error",
         "traceback": [
          "\u001b[0;31m\u001b[0m",
          "\u001b[0;31mTypeError\u001b[0mTraceback (most recent call last)",
          "\u001b[0;32m/opt/conda/lib/python3.8/site-packages/ipywidgets/widgets/interaction.py\u001b[0m in \u001b[0;36mupdate\u001b[0;34m(self, *args)\u001b[0m\n\u001b[1;32m    254\u001b[0m                     \u001b[0mvalue\u001b[0m \u001b[0;34m=\u001b[0m \u001b[0mwidget\u001b[0m\u001b[0;34m.\u001b[0m\u001b[0mget_interact_value\u001b[0m\u001b[0;34m(\u001b[0m\u001b[0;34m)\u001b[0m\u001b[0;34m\u001b[0m\u001b[0;34m\u001b[0m\u001b[0m\n\u001b[1;32m    255\u001b[0m                     \u001b[0mself\u001b[0m\u001b[0;34m.\u001b[0m\u001b[0mkwargs\u001b[0m\u001b[0;34m[\u001b[0m\u001b[0mwidget\u001b[0m\u001b[0;34m.\u001b[0m\u001b[0m_kwarg\u001b[0m\u001b[0;34m]\u001b[0m \u001b[0;34m=\u001b[0m \u001b[0mvalue\u001b[0m\u001b[0;34m\u001b[0m\u001b[0;34m\u001b[0m\u001b[0m\n\u001b[0;32m--> 256\u001b[0;31m                 \u001b[0mself\u001b[0m\u001b[0;34m.\u001b[0m\u001b[0mresult\u001b[0m \u001b[0;34m=\u001b[0m \u001b[0mself\u001b[0m\u001b[0;34m.\u001b[0m\u001b[0mf\u001b[0m\u001b[0;34m(\u001b[0m\u001b[0;34m**\u001b[0m\u001b[0mself\u001b[0m\u001b[0;34m.\u001b[0m\u001b[0mkwargs\u001b[0m\u001b[0;34m)\u001b[0m\u001b[0;34m\u001b[0m\u001b[0;34m\u001b[0m\u001b[0m\n\u001b[0m\u001b[1;32m    257\u001b[0m                 \u001b[0mshow_inline_matplotlib_plots\u001b[0m\u001b[0;34m(\u001b[0m\u001b[0;34m)\u001b[0m\u001b[0;34m\u001b[0m\u001b[0;34m\u001b[0m\u001b[0m\n\u001b[1;32m    258\u001b[0m                 \u001b[0;32mif\u001b[0m \u001b[0mself\u001b[0m\u001b[0;34m.\u001b[0m\u001b[0mauto_display\u001b[0m \u001b[0;32mand\u001b[0m \u001b[0mself\u001b[0m\u001b[0;34m.\u001b[0m\u001b[0mresult\u001b[0m \u001b[0;32mis\u001b[0m \u001b[0;32mnot\u001b[0m \u001b[0;32mNone\u001b[0m\u001b[0;34m:\u001b[0m\u001b[0;34m\u001b[0m\u001b[0;34m\u001b[0m\u001b[0m\n",
          "\u001b[0;32m<ipython-input-70-7c5421a7839f>\u001b[0m in \u001b[0;36mf\u001b[0;34m(ion, T)\u001b[0m\n\u001b[1;32m      8\u001b[0m         \u001b[0mlograt\u001b[0m \u001b[0;34m=\u001b[0m \u001b[0minteract\u001b[0m\u001b[0;34m(\u001b[0m\u001b[0mionslider\u001b[0m\u001b[0;34m,\u001b[0m \u001b[0mi\u001b[0m\u001b[0;34m=\u001b[0m\u001b[0;34m(\u001b[0m\u001b[0;36m100\u001b[0m\u001b[0;34m,\u001b[0m\u001b[0;36m200\u001b[0m\u001b[0;34m,\u001b[0m\u001b[0;36m10\u001b[0m\u001b[0;34m)\u001b[0m\u001b[0;34m,\u001b[0m\u001b[0me\u001b[0m \u001b[0;34m=\u001b[0m \u001b[0;34m(\u001b[0m\u001b[0;36m0.1\u001b[0m\u001b[0;34m,\u001b[0m\u001b[0;36m20.0\u001b[0m\u001b[0;34m)\u001b[0m\u001b[0;34m)\u001b[0m\u001b[0;34m;\u001b[0m\u001b[0;34m\u001b[0m\u001b[0;34m\u001b[0m\u001b[0m\n\u001b[1;32m      9\u001b[0m         \u001b[0mprint\u001b[0m\u001b[0;34m(\u001b[0m\u001b[0mlograt\u001b[0m\u001b[0;34m)\u001b[0m\u001b[0;34m\u001b[0m\u001b[0;34m\u001b[0m\u001b[0m\n\u001b[0;32m---> 10\u001b[0;31m         \u001b[0mE\u001b[0m \u001b[0;34m=\u001b[0m\u001b[0;34m(\u001b[0m\u001b[0mR\u001b[0m\u001b[0;34m*\u001b[0m\u001b[0mT\u001b[0m\u001b[0;34m)\u001b[0m\u001b[0;34m*\u001b[0m\u001b[0mlograt\u001b[0m\u001b[0;34m/\u001b[0m\u001b[0;34m(\u001b[0m\u001b[0mF\u001b[0m\u001b[0;34m*\u001b[0m\u001b[0mv\u001b[0m\u001b[0;34m)\u001b[0m\u001b[0;34m\u001b[0m\u001b[0;34m\u001b[0m\u001b[0m\n\u001b[0m\u001b[1;32m     11\u001b[0m     \u001b[0mprint\u001b[0m\u001b[0;34m(\u001b[0m\u001b[0;34m\"Potential is: \"\u001b[0m\u001b[0;34m)\u001b[0m\u001b[0;34m\u001b[0m\u001b[0;34m\u001b[0m\u001b[0m\n\u001b[1;32m     12\u001b[0m     \u001b[0mprint\u001b[0m\u001b[0;34m(\u001b[0m\u001b[0mE\u001b[0m\u001b[0;34m)\u001b[0m\u001b[0;34m\u001b[0m\u001b[0;34m\u001b[0m\u001b[0m\n",
          "\u001b[0;31mTypeError\u001b[0m: unsupported operand type(s) for *: 'float' and 'function'"
         ]
        }
       ]
      }
     },
     "ddb004ec2b8d424b86a9cf6007e07132": {
      "model_module": "@jupyter-widgets/output",
      "model_module_version": "1.0.0",
      "model_name": "OutputModel",
      "state": {
       "layout": "IPY_MODEL_4b8b59c750324236999213e22f451a4c",
       "outputs": [
        {
         "name": "stdout",
         "output_type": "stream",
         "text": "Potential is: \n0.005499270644761135\n"
        }
       ]
      }
     },
     "df60bfb58bbe4c65a661561f4216697f": {
      "model_module": "@jupyter-widgets/controls",
      "model_module_version": "1.5.0",
      "model_name": "IntSliderModel",
      "state": {
       "description": "T",
       "layout": "IPY_MODEL_c279bdebe4554f93a38a1191ec4fc10d",
       "max": 300,
       "min": 273,
       "style": "IPY_MODEL_e0921df43ca8472080d93b228b7ec6b1",
       "value": 286
      }
     },
     "e0921df43ca8472080d93b228b7ec6b1": {
      "model_module": "@jupyter-widgets/controls",
      "model_module_version": "1.5.0",
      "model_name": "SliderStyleModel",
      "state": {
       "description_width": ""
      }
     },
     "e109a190a002498aa044dd8f742b3d61": {
      "model_module": "@jupyter-widgets/controls",
      "model_module_version": "1.5.0",
      "model_name": "DropdownModel",
      "state": {
       "_options_labels": [
        "K",
        "Na",
        "Cl"
       ],
       "description": "v",
       "index": 0,
       "layout": "IPY_MODEL_c0182a69f61c482fbe194d3a668b8098",
       "style": "IPY_MODEL_b648d7124d924d6d9aec5f4905cf1271"
      }
     },
     "e123e3d20f3f42f5a9a5860ae9cdc152": {
      "model_module": "@jupyter-widgets/controls",
      "model_module_version": "1.5.0",
      "model_name": "VBoxModel",
      "state": {
       "_dom_classes": [
        "widget-interact"
       ],
       "layout": "IPY_MODEL_a3e152a051df41819030dd95932d1d61"
      }
     },
     "e19d602a4d234fb08eccb651a7f9f65c": {
      "model_module": "@jupyter-widgets/controls",
      "model_module_version": "1.5.0",
      "model_name": "DescriptionStyleModel",
      "state": {
       "description_width": ""
      }
     },
     "e1a47f0697b64bc5abb20b2d4eeb971b": {
      "model_module": "@jupyter-widgets/base",
      "model_module_version": "1.2.0",
      "model_name": "LayoutModel",
      "state": {}
     },
     "e1f12f3f8f204c32bb542cca1223af78": {
      "model_module": "@jupyter-widgets/base",
      "model_module_version": "1.2.0",
      "model_name": "LayoutModel",
      "state": {}
     },
     "e2138fe9ad7740a6af859dd28aec2cf6": {
      "model_module": "@jupyter-widgets/base",
      "model_module_version": "1.2.0",
      "model_name": "LayoutModel",
      "state": {}
     },
     "e28423f6e4af4dc99572ef87f6769b0d": {
      "model_module": "@jupyter-widgets/controls",
      "model_module_version": "1.5.0",
      "model_name": "VBoxModel",
      "state": {
       "_dom_classes": [
        "widget-interact"
       ],
       "children": [
        "IPY_MODEL_6f5dbbd66d674e508e4776f4a005dea8",
        "IPY_MODEL_3c0eecb0fb184cd1be570b8edb3ce0b1"
       ],
       "layout": "IPY_MODEL_ff43ab6323e04f33b983460f59cb34b1"
      }
     },
     "e2fac33fe2f1481f92e2f0a07153344a": {
      "model_module": "@jupyter-widgets/base",
      "model_module_version": "1.2.0",
      "model_name": "LayoutModel",
      "state": {}
     },
     "e3055c2460014b16a43a9a4813e3d519": {
      "model_module": "@jupyter-widgets/controls",
      "model_module_version": "1.5.0",
      "model_name": "SliderStyleModel",
      "state": {
       "description_width": ""
      }
     },
     "e55bcd5cc40843a09490f2bf97126785": {
      "model_module": "@jupyter-widgets/base",
      "model_module_version": "1.2.0",
      "model_name": "LayoutModel",
      "state": {}
     },
     "e5f0853661ff43098b2d58bd6ef04306": {
      "model_module": "@jupyter-widgets/base",
      "model_module_version": "1.2.0",
      "model_name": "LayoutModel",
      "state": {}
     },
     "e727de8a881b467b901cf02864e0388a": {
      "model_module": "@jupyter-widgets/base",
      "model_module_version": "1.2.0",
      "model_name": "LayoutModel",
      "state": {}
     },
     "e7fde62ba36841fa98921d2415274e41": {
      "model_module": "@jupyter-widgets/controls",
      "model_module_version": "1.5.0",
      "model_name": "VBoxModel",
      "state": {
       "_dom_classes": [
        "widget-interact"
       ],
       "children": [
        "IPY_MODEL_8ae87b103e224936a078ddfd654433f2",
        "IPY_MODEL_868080101f6a41989867a10839e9c6f6"
       ],
       "layout": "IPY_MODEL_db28fed123cb4aa2a53e102d29065231"
      }
     },
     "e8351c3ab486483d85032c9353849f8e": {
      "model_module": "@jupyter-widgets/output",
      "model_module_version": "1.0.0",
      "model_name": "OutputModel",
      "state": {
       "layout": "IPY_MODEL_ad0ba4954502457d9fc2ef142c69e67a",
       "outputs": [
        {
         "data": {
          "text/plain": "-2.698099870249042"
         },
         "metadata": {},
         "output_type": "display_data"
        }
       ]
      }
     },
     "e88cb2af0f90445a9617afd2e9d322f9": {
      "model_module": "@jupyter-widgets/output",
      "model_module_version": "1.0.0",
      "model_name": "OutputModel",
      "state": {
       "layout": "IPY_MODEL_85b6e7553c364c5d8fc3ab43cbb56090",
       "outputs": [
        {
         "ename": "ValueError",
         "evalue": "cannot find widget or abbreviation for argument: 'T'",
         "output_type": "error",
         "traceback": [
          "\u001b[0;31m\u001b[0m",
          "\u001b[0;31mValueError\u001b[0mTraceback (most recent call last)",
          "\u001b[0;32m/opt/conda/lib/python3.8/site-packages/ipywidgets/widgets/interaction.py\u001b[0m in \u001b[0;36mupdate\u001b[0;34m(self, *args)\u001b[0m\n\u001b[1;32m    254\u001b[0m                     \u001b[0mvalue\u001b[0m \u001b[0;34m=\u001b[0m \u001b[0mwidget\u001b[0m\u001b[0;34m.\u001b[0m\u001b[0mget_interact_value\u001b[0m\u001b[0;34m(\u001b[0m\u001b[0;34m)\u001b[0m\u001b[0;34m\u001b[0m\u001b[0;34m\u001b[0m\u001b[0m\n\u001b[1;32m    255\u001b[0m                     \u001b[0mself\u001b[0m\u001b[0;34m.\u001b[0m\u001b[0mkwargs\u001b[0m\u001b[0;34m[\u001b[0m\u001b[0mwidget\u001b[0m\u001b[0;34m.\u001b[0m\u001b[0m_kwarg\u001b[0m\u001b[0;34m]\u001b[0m \u001b[0;34m=\u001b[0m \u001b[0mvalue\u001b[0m\u001b[0;34m\u001b[0m\u001b[0;34m\u001b[0m\u001b[0m\n\u001b[0;32m--> 256\u001b[0;31m                 \u001b[0mself\u001b[0m\u001b[0;34m.\u001b[0m\u001b[0mresult\u001b[0m \u001b[0;34m=\u001b[0m \u001b[0mself\u001b[0m\u001b[0;34m.\u001b[0m\u001b[0mf\u001b[0m\u001b[0;34m(\u001b[0m\u001b[0;34m**\u001b[0m\u001b[0mself\u001b[0m\u001b[0;34m.\u001b[0m\u001b[0mkwargs\u001b[0m\u001b[0;34m)\u001b[0m\u001b[0;34m\u001b[0m\u001b[0;34m\u001b[0m\u001b[0m\n\u001b[0m\u001b[1;32m    257\u001b[0m                 \u001b[0mshow_inline_matplotlib_plots\u001b[0m\u001b[0;34m(\u001b[0m\u001b[0;34m)\u001b[0m\u001b[0;34m\u001b[0m\u001b[0;34m\u001b[0m\u001b[0m\n\u001b[1;32m    258\u001b[0m                 \u001b[0;32mif\u001b[0m \u001b[0mself\u001b[0m\u001b[0;34m.\u001b[0m\u001b[0mauto_display\u001b[0m \u001b[0;32mand\u001b[0m \u001b[0mself\u001b[0m\u001b[0;34m.\u001b[0m\u001b[0mresult\u001b[0m \u001b[0;32mis\u001b[0m \u001b[0;32mnot\u001b[0m \u001b[0;32mNone\u001b[0m\u001b[0;34m:\u001b[0m\u001b[0;34m\u001b[0m\u001b[0;34m\u001b[0m\u001b[0m\n",
          "\u001b[0;32m<ipython-input-73-0b218334847b>\u001b[0m in \u001b[0;36mf\u001b[0;34m(ion, T)\u001b[0m\n\u001b[1;32m      4\u001b[0m     \u001b[0;32mif\u001b[0m\u001b[0;34m(\u001b[0m\u001b[0mion\u001b[0m\u001b[0;34m==\u001b[0m\u001b[0;34m'K'\u001b[0m\u001b[0;34m)\u001b[0m\u001b[0;34m:\u001b[0m\u001b[0;34m\u001b[0m\u001b[0;34m\u001b[0m\u001b[0m\n\u001b[1;32m      5\u001b[0m         \u001b[0mz\u001b[0m \u001b[0;34m=\u001b[0m \u001b[0;34m+\u001b[0m\u001b[0;36m1\u001b[0m\u001b[0;34m;\u001b[0m\u001b[0;34m\u001b[0m\u001b[0;34m\u001b[0m\u001b[0m\n\u001b[0;32m----> 6\u001b[0;31m         \u001b[0mlograt\u001b[0m \u001b[0;34m=\u001b[0m \u001b[0minteract\u001b[0m\u001b[0;34m(\u001b[0m\u001b[0mionslider\u001b[0m\u001b[0;34m,\u001b[0m \u001b[0mi\u001b[0m\u001b[0;34m=\u001b[0m\u001b[0;34m(\u001b[0m\u001b[0;36m100\u001b[0m\u001b[0;34m,\u001b[0m\u001b[0;36m200\u001b[0m\u001b[0;34m,\u001b[0m\u001b[0;36m10\u001b[0m\u001b[0;34m)\u001b[0m\u001b[0;34m,\u001b[0m\u001b[0me\u001b[0m \u001b[0;34m=\u001b[0m \u001b[0;34m(\u001b[0m\u001b[0;36m0.1\u001b[0m\u001b[0;34m,\u001b[0m\u001b[0;36m20.0\u001b[0m\u001b[0;34m)\u001b[0m\u001b[0;34m)\u001b[0m\u001b[0;34m;\u001b[0m\u001b[0;34m\u001b[0m\u001b[0;34m\u001b[0m\u001b[0m\n\u001b[0m\u001b[1;32m      7\u001b[0m     \u001b[0mprint\u001b[0m\u001b[0;34m(\u001b[0m\u001b[0;34m\"Potential is: \"\u001b[0m\u001b[0;34m)\u001b[0m\u001b[0;34m\u001b[0m\u001b[0;34m\u001b[0m\u001b[0m\n\u001b[1;32m      8\u001b[0m     \u001b[0mprint\u001b[0m\u001b[0;34m(\u001b[0m\u001b[0mE\u001b[0m\u001b[0;34m)\u001b[0m\u001b[0;34m\u001b[0m\u001b[0;34m\u001b[0m\u001b[0m\n",
          "\u001b[0;32m/opt/conda/lib/python3.8/site-packages/ipywidgets/widgets/interaction.py\u001b[0m in \u001b[0;36m__call__\u001b[0;34m(self, _InteractFactory__interact_f, **kwargs)\u001b[0m\n\u001b[1;32m    526\u001b[0m         \u001b[0;31m#    def f(*args, **kwargs):\u001b[0m\u001b[0;34m\u001b[0m\u001b[0;34m\u001b[0m\u001b[0;34m\u001b[0m\u001b[0m\n\u001b[1;32m    527\u001b[0m         \u001b[0;31m#        ...\u001b[0m\u001b[0;34m\u001b[0m\u001b[0;34m\u001b[0m\u001b[0;34m\u001b[0m\u001b[0m\n\u001b[0;32m--> 528\u001b[0;31m         \u001b[0mw\u001b[0m \u001b[0;34m=\u001b[0m \u001b[0mself\u001b[0m\u001b[0;34m.\u001b[0m\u001b[0mwidget\u001b[0m\u001b[0;34m(\u001b[0m\u001b[0mf\u001b[0m\u001b[0;34m)\u001b[0m\u001b[0;34m\u001b[0m\u001b[0;34m\u001b[0m\u001b[0m\n\u001b[0m\u001b[1;32m    529\u001b[0m         \u001b[0;32mtry\u001b[0m\u001b[0;34m:\u001b[0m\u001b[0;34m\u001b[0m\u001b[0;34m\u001b[0m\u001b[0m\n\u001b[1;32m    530\u001b[0m             \u001b[0mf\u001b[0m\u001b[0;34m.\u001b[0m\u001b[0mwidget\u001b[0m \u001b[0;34m=\u001b[0m \u001b[0mw\u001b[0m\u001b[0;34m\u001b[0m\u001b[0;34m\u001b[0m\u001b[0m\n",
          "\u001b[0;32m/opt/conda/lib/python3.8/site-packages/ipywidgets/widgets/interaction.py\u001b[0m in \u001b[0;36mwidget\u001b[0;34m(self, f)\u001b[0m\n\u001b[1;32m    442\u001b[0m             \u001b[0mThe\u001b[0m \u001b[0mfunction\u001b[0m \u001b[0mto\u001b[0m \u001b[0mwhich\u001b[0m \u001b[0mthe\u001b[0m \u001b[0minteractive\u001b[0m \u001b[0mwidgets\u001b[0m \u001b[0mare\u001b[0m \u001b[0mtied\u001b[0m\u001b[0;34m.\u001b[0m\u001b[0;34m\u001b[0m\u001b[0;34m\u001b[0m\u001b[0m\n\u001b[1;32m    443\u001b[0m         \"\"\"\n\u001b[0;32m--> 444\u001b[0;31m         \u001b[0;32mreturn\u001b[0m \u001b[0mself\u001b[0m\u001b[0;34m.\u001b[0m\u001b[0mcls\u001b[0m\u001b[0;34m(\u001b[0m\u001b[0mf\u001b[0m\u001b[0;34m,\u001b[0m \u001b[0mself\u001b[0m\u001b[0;34m.\u001b[0m\u001b[0mopts\u001b[0m\u001b[0;34m,\u001b[0m \u001b[0;34m**\u001b[0m\u001b[0mself\u001b[0m\u001b[0;34m.\u001b[0m\u001b[0mkwargs\u001b[0m\u001b[0;34m)\u001b[0m\u001b[0;34m\u001b[0m\u001b[0;34m\u001b[0m\u001b[0m\n\u001b[0m\u001b[1;32m    445\u001b[0m \u001b[0;34m\u001b[0m\u001b[0m\n\u001b[1;32m    446\u001b[0m     \u001b[0;32mdef\u001b[0m \u001b[0m__call__\u001b[0m\u001b[0;34m(\u001b[0m\u001b[0mself\u001b[0m\u001b[0;34m,\u001b[0m \u001b[0m__interact_f\u001b[0m\u001b[0;34m=\u001b[0m\u001b[0;32mNone\u001b[0m\u001b[0;34m,\u001b[0m \u001b[0;34m**\u001b[0m\u001b[0mkwargs\u001b[0m\u001b[0;34m)\u001b[0m\u001b[0;34m:\u001b[0m\u001b[0;34m\u001b[0m\u001b[0;34m\u001b[0m\u001b[0m\n",
          "\u001b[0;32m/opt/conda/lib/python3.8/site-packages/ipywidgets/widgets/interaction.py\u001b[0m in \u001b[0;36m__init__\u001b[0;34m(self, _interactive__interact_f, _interactive__options, **kwargs)\u001b[0m\n\u001b[1;32m    186\u001b[0m         \u001b[0mself\u001b[0m\u001b[0;34m.\u001b[0m\u001b[0mauto_display\u001b[0m \u001b[0;34m=\u001b[0m \u001b[0m__options\u001b[0m\u001b[0;34m.\u001b[0m\u001b[0mget\u001b[0m\u001b[0;34m(\u001b[0m\u001b[0;34m\"auto_display\"\u001b[0m\u001b[0;34m,\u001b[0m \u001b[0;32mFalse\u001b[0m\u001b[0;34m)\u001b[0m\u001b[0;34m\u001b[0m\u001b[0;34m\u001b[0m\u001b[0m\n\u001b[1;32m    187\u001b[0m \u001b[0;34m\u001b[0m\u001b[0m\n\u001b[0;32m--> 188\u001b[0;31m         \u001b[0mnew_kwargs\u001b[0m \u001b[0;34m=\u001b[0m \u001b[0mself\u001b[0m\u001b[0;34m.\u001b[0m\u001b[0mfind_abbreviations\u001b[0m\u001b[0;34m(\u001b[0m\u001b[0mkwargs\u001b[0m\u001b[0;34m)\u001b[0m\u001b[0;34m\u001b[0m\u001b[0;34m\u001b[0m\u001b[0m\n\u001b[0m\u001b[1;32m    189\u001b[0m         \u001b[0;31m# Before we proceed, let's make sure that the user has passed a set of args+kwargs\u001b[0m\u001b[0;34m\u001b[0m\u001b[0;34m\u001b[0m\u001b[0;34m\u001b[0m\u001b[0m\n\u001b[1;32m    190\u001b[0m         \u001b[0;31m# that will lead to a valid call of the function. This protects against unspecified\u001b[0m\u001b[0;34m\u001b[0m\u001b[0;34m\u001b[0m\u001b[0;34m\u001b[0m\u001b[0m\n",
          "\u001b[0;32m/opt/conda/lib/python3.8/site-packages/ipywidgets/widgets/interaction.py\u001b[0m in \u001b[0;36mfind_abbreviations\u001b[0;34m(self, kwargs)\u001b[0m\n\u001b[1;32m    286\u001b[0m             \u001b[0;32mfor\u001b[0m \u001b[0mname\u001b[0m\u001b[0;34m,\u001b[0m \u001b[0mvalue\u001b[0m\u001b[0;34m,\u001b[0m \u001b[0mdefault\u001b[0m \u001b[0;32min\u001b[0m \u001b[0m_yield_abbreviations_for_parameter\u001b[0m\u001b[0;34m(\u001b[0m\u001b[0mparam\u001b[0m\u001b[0;34m,\u001b[0m \u001b[0mkwargs\u001b[0m\u001b[0;34m)\u001b[0m\u001b[0;34m:\u001b[0m\u001b[0;34m\u001b[0m\u001b[0;34m\u001b[0m\u001b[0m\n\u001b[1;32m    287\u001b[0m                 \u001b[0;32mif\u001b[0m \u001b[0mvalue\u001b[0m \u001b[0;32mis\u001b[0m \u001b[0mempty\u001b[0m\u001b[0;34m:\u001b[0m\u001b[0;34m\u001b[0m\u001b[0;34m\u001b[0m\u001b[0m\n\u001b[0;32m--> 288\u001b[0;31m                     \u001b[0;32mraise\u001b[0m \u001b[0mValueError\u001b[0m\u001b[0;34m(\u001b[0m\u001b[0;34m'cannot find widget or abbreviation for argument: {!r}'\u001b[0m\u001b[0;34m.\u001b[0m\u001b[0mformat\u001b[0m\u001b[0;34m(\u001b[0m\u001b[0mname\u001b[0m\u001b[0;34m)\u001b[0m\u001b[0;34m)\u001b[0m\u001b[0;34m\u001b[0m\u001b[0;34m\u001b[0m\u001b[0m\n\u001b[0m\u001b[1;32m    289\u001b[0m                 \u001b[0mnew_kwargs\u001b[0m\u001b[0;34m.\u001b[0m\u001b[0mappend\u001b[0m\u001b[0;34m(\u001b[0m\u001b[0;34m(\u001b[0m\u001b[0mname\u001b[0m\u001b[0;34m,\u001b[0m \u001b[0mvalue\u001b[0m\u001b[0;34m,\u001b[0m \u001b[0mdefault\u001b[0m\u001b[0;34m)\u001b[0m\u001b[0;34m)\u001b[0m\u001b[0;34m\u001b[0m\u001b[0;34m\u001b[0m\u001b[0m\n\u001b[1;32m    290\u001b[0m         \u001b[0;32mreturn\u001b[0m \u001b[0mnew_kwargs\u001b[0m\u001b[0;34m\u001b[0m\u001b[0;34m\u001b[0m\u001b[0m\n",
          "\u001b[0;31mValueError\u001b[0m: cannot find widget or abbreviation for argument: 'T'"
         ]
        }
       ]
      }
     },
     "e8d2b92b66164f84b1e801f51cfd7884": {
      "model_module": "@jupyter-widgets/controls",
      "model_module_version": "1.5.0",
      "model_name": "VBoxModel",
      "state": {
       "_dom_classes": [
        "widget-interact"
       ],
       "layout": "IPY_MODEL_648aabaadee245eca59ba103a3bf0fa4"
      }
     },
     "e8f89817d69b48828babbb20de3f62f8": {
      "model_module": "@jupyter-widgets/controls",
      "model_module_version": "1.5.0",
      "model_name": "SliderStyleModel",
      "state": {
       "description_width": ""
      }
     },
     "eb399a3288714d46b2dd05cb060c6a2e": {
      "model_module": "@jupyter-widgets/base",
      "model_module_version": "1.2.0",
      "model_name": "LayoutModel",
      "state": {}
     },
     "eb51716d21a44702b2a92403936ae954": {
      "model_module": "@jupyter-widgets/base",
      "model_module_version": "1.2.0",
      "model_name": "LayoutModel",
      "state": {}
     },
     "eb5dbe109ee048f89e556b7ac9086a14": {
      "model_module": "@jupyter-widgets/base",
      "model_module_version": "1.2.0",
      "model_name": "LayoutModel",
      "state": {}
     },
     "eb6baaa4aa2348c88afeac5fc621bdeb": {
      "model_module": "@jupyter-widgets/controls",
      "model_module_version": "1.5.0",
      "model_name": "SliderStyleModel",
      "state": {
       "description_width": ""
      }
     },
     "ec2513a85fde4a11966ef68dc58e06b4": {
      "model_module": "@jupyter-widgets/base",
      "model_module_version": "1.2.0",
      "model_name": "LayoutModel",
      "state": {}
     },
     "eca7e4c1b0074f698dbe855b5ca5eb8e": {
      "model_module": "@jupyter-widgets/base",
      "model_module_version": "1.2.0",
      "model_name": "LayoutModel",
      "state": {}
     },
     "eda1ad24612347d1a321e0d8f8c609c3": {
      "model_module": "@jupyter-widgets/base",
      "model_module_version": "1.2.0",
      "model_name": "LayoutModel",
      "state": {}
     },
     "eda6b044463148fcab159e5c9ef2028c": {
      "model_module": "@jupyter-widgets/controls",
      "model_module_version": "1.5.0",
      "model_name": "FloatSliderModel",
      "state": {
       "description": "m",
       "layout": "IPY_MODEL_7855f30ebac042d6b1e4a950ebde7838",
       "max": 2,
       "min": -2,
       "step": 0.1,
       "style": "IPY_MODEL_143fd8583a26460da0dd0477b28d04bc",
       "value": 0.7
      }
     },
     "edb00531fb604825a50bea07fe30ed11": {
      "model_module": "@jupyter-widgets/controls",
      "model_module_version": "1.5.0",
      "model_name": "DescriptionStyleModel",
      "state": {
       "description_width": ""
      }
     },
     "ee14151f21674ad5b8e5fb624698c234": {
      "model_module": "@jupyter-widgets/controls",
      "model_module_version": "1.5.0",
      "model_name": "DropdownModel",
      "state": {
       "_options_labels": [
        "K",
        "Na",
        "Cl"
       ],
       "description": "ion",
       "index": 0,
       "layout": "IPY_MODEL_33cf8cb976ba45ebbfd670ff084979ad",
       "style": "IPY_MODEL_49f40cecded04fd7be2f73da3ec69db1"
      }
     },
     "eed3aba9ead94983aae675f68407a276": {
      "model_module": "@jupyter-widgets/base",
      "model_module_version": "1.2.0",
      "model_name": "LayoutModel",
      "state": {}
     },
     "efa67e8caa3a442d8aa053614e8dd154": {
      "model_module": "@jupyter-widgets/base",
      "model_module_version": "1.2.0",
      "model_name": "LayoutModel",
      "state": {}
     },
     "efc3ee2d2f65481193734f750e8e7e8e": {
      "model_module": "@jupyter-widgets/base",
      "model_module_version": "1.2.0",
      "model_name": "LayoutModel",
      "state": {}
     },
     "f036187e30bc4aab9a5b3c7148e11578": {
      "model_module": "@jupyter-widgets/controls",
      "model_module_version": "1.5.0",
      "model_name": "IntSliderModel",
      "state": {
       "description": "i",
       "layout": "IPY_MODEL_eed3aba9ead94983aae675f68407a276",
       "max": 200,
       "min": 100,
       "step": 10,
       "style": "IPY_MODEL_618a16ffe6324ec1a414ace6d9c2f5a4",
       "value": 150
      }
     },
     "f09b98626a264bea8e2f953e588d0423": {
      "model_module": "@jupyter-widgets/base",
      "model_module_version": "1.2.0",
      "model_name": "LayoutModel",
      "state": {}
     },
     "f0ba050564684c4a9cd29ca6bc831aa7": {
      "model_module": "@jupyter-widgets/base",
      "model_module_version": "1.2.0",
      "model_name": "LayoutModel",
      "state": {}
     },
     "f295d639a4fd4ee58c1ed74995ef9b66": {
      "model_module": "@jupyter-widgets/controls",
      "model_module_version": "1.5.0",
      "model_name": "VBoxModel",
      "state": {
       "_dom_classes": [
        "widget-interact"
       ],
       "children": [
        "IPY_MODEL_6f2ecd99d16f48cd8221ad16d7ff7c37",
        "IPY_MODEL_28aa0b6ffb834cfab6cb2ff867686fe5",
        "IPY_MODEL_7fed9c5ce42148f182fb65788f123b47"
       ],
       "layout": "IPY_MODEL_e1a47f0697b64bc5abb20b2d4eeb971b"
      }
     },
     "f2c19772935345cbb7acfa59430429d7": {
      "model_module": "@jupyter-widgets/base",
      "model_module_version": "1.2.0",
      "model_name": "LayoutModel",
      "state": {}
     },
     "f300aa8b365c495a8bc5576370ebe241": {
      "model_module": "@jupyter-widgets/controls",
      "model_module_version": "1.5.0",
      "model_name": "FloatSliderModel",
      "state": {
       "description": "e",
       "layout": "IPY_MODEL_81f3647d03e24bfa8426f200765a0935",
       "max": 20,
       "min": 0.1,
       "step": 0.1,
       "style": "IPY_MODEL_481279aeb91948dc89882cb6acf22e57",
       "value": 10.049999999999999
      }
     },
     "f3645d2cfcb04faa8fec7c4855028e2d": {
      "model_module": "@jupyter-widgets/controls",
      "model_module_version": "1.5.0",
      "model_name": "IntSliderModel",
      "state": {
       "description": "i",
       "layout": "IPY_MODEL_b557e8e7661d4214b1443e4edec301d6",
       "max": 200,
       "min": 100,
       "step": 10,
       "style": "IPY_MODEL_f960de3b85484e93b71162f2764b950d",
       "value": 150
      }
     },
     "f564fbe6135b45ceb849fdd2690a167a": {
      "model_module": "@jupyter-widgets/controls",
      "model_module_version": "1.5.0",
      "model_name": "DescriptionStyleModel",
      "state": {
       "description_width": ""
      }
     },
     "f635d400b1644058b6f6c8ea65ab77cc": {
      "model_module": "@jupyter-widgets/base",
      "model_module_version": "1.2.0",
      "model_name": "LayoutModel",
      "state": {}
     },
     "f6ada130ff4041868045d29e68890acc": {
      "model_module": "@jupyter-widgets/base",
      "model_module_version": "1.2.0",
      "model_name": "LayoutModel",
      "state": {}
     },
     "f6c5cf03a800459395a0e288608199e3": {
      "model_module": "@jupyter-widgets/controls",
      "model_module_version": "1.5.0",
      "model_name": "SliderStyleModel",
      "state": {
       "description_width": ""
      }
     },
     "f960de3b85484e93b71162f2764b950d": {
      "model_module": "@jupyter-widgets/controls",
      "model_module_version": "1.5.0",
      "model_name": "SliderStyleModel",
      "state": {
       "description_width": ""
      }
     },
     "f9a0d2b326bd409db987d3b9450bc03c": {
      "model_module": "@jupyter-widgets/controls",
      "model_module_version": "1.5.0",
      "model_name": "SliderStyleModel",
      "state": {
       "description_width": ""
      }
     },
     "f9b389632bb64e5e8ee20378a374ae59": {
      "model_module": "@jupyter-widgets/base",
      "model_module_version": "1.2.0",
      "model_name": "LayoutModel",
      "state": {}
     },
     "fa063ddfdb2f40ceaf84222d883db38d": {
      "model_module": "@jupyter-widgets/controls",
      "model_module_version": "1.5.0",
      "model_name": "IntSliderModel",
      "state": {
       "description": "i",
       "layout": "IPY_MODEL_ac3c784f139f4e9aab163875142596bd",
       "max": 200,
       "min": 100,
       "step": 10,
       "style": "IPY_MODEL_3b86f6404d8449159578b61c10b772c7",
       "value": 150
      }
     },
     "faa677e513944c42951658af66e54e82": {
      "model_module": "@jupyter-widgets/controls",
      "model_module_version": "1.5.0",
      "model_name": "SliderStyleModel",
      "state": {
       "description_width": ""
      }
     },
     "fd032368f4a143f3b54f56c1bfc5e0a4": {
      "model_module": "@jupyter-widgets/base",
      "model_module_version": "1.2.0",
      "model_name": "LayoutModel",
      "state": {}
     },
     "fd1c4fff3b23437b8436ea30d023744b": {
      "model_module": "@jupyter-widgets/output",
      "model_module_version": "1.0.0",
      "model_name": "OutputModel",
      "state": {
       "layout": "IPY_MODEL_ad6ae3f9608041d59d054fbb6c71b070",
       "outputs": [
        {
         "data": {
          "image/png": "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\n",
          "text/plain": "<Figure size 432x288 with 1 Axes>"
         },
         "metadata": {
          "needs_background": "light"
         },
         "output_type": "display_data"
        }
       ]
      }
     },
     "fdbc407a360742fba9b548d48cf93b6b": {
      "model_module": "@jupyter-widgets/output",
      "model_module_version": "1.0.0",
      "model_name": "OutputModel",
      "state": {
       "layout": "IPY_MODEL_6c02134278f64c2880a98031df024fa1",
       "outputs": [
        {
         "name": "stdout",
         "output_type": "stream",
         "text": "12.0\n-2.5257286443082556\n"
        },
        {
         "data": {
          "text/plain": "-2.5257286443082556"
         },
         "metadata": {},
         "output_type": "display_data"
        }
       ]
      }
     },
     "fe1b5904c5c84037b91f8f61e79324af": {
      "model_module": "@jupyter-widgets/base",
      "model_module_version": "1.2.0",
      "model_name": "LayoutModel",
      "state": {}
     },
     "feca548ff5c94c19bb3c42c8613634dd": {
      "model_module": "@jupyter-widgets/base",
      "model_module_version": "1.2.0",
      "model_name": "LayoutModel",
      "state": {}
     },
     "fed30b6483464bd3aa3e232985613085": {
      "model_module": "@jupyter-widgets/base",
      "model_module_version": "1.2.0",
      "model_name": "LayoutModel",
      "state": {}
     },
     "ff231edc38864a67b5ff393499d2d275": {
      "model_module": "@jupyter-widgets/controls",
      "model_module_version": "1.5.0",
      "model_name": "DropdownModel",
      "state": {
       "_options_labels": [
        "K",
        "Na",
        "Cl"
       ],
       "description": "ion",
       "index": 0,
       "layout": "IPY_MODEL_bde0b8f0e37b47e1ba373d26eeec0ec1",
       "style": "IPY_MODEL_f564fbe6135b45ceb849fdd2690a167a"
      }
     },
     "ff43ab6323e04f33b983460f59cb34b1": {
      "model_module": "@jupyter-widgets/base",
      "model_module_version": "1.2.0",
      "model_name": "LayoutModel",
      "state": {}
     },
     "ff5d8556a76547a0b513e61ac43ea2fd": {
      "model_module": "@jupyter-widgets/controls",
      "model_module_version": "1.5.0",
      "model_name": "FloatSliderModel",
      "state": {
       "description": "e",
       "layout": "IPY_MODEL_ec2513a85fde4a11966ef68dc58e06b4",
       "max": 20,
       "min": 0.1,
       "step": 0.1,
       "style": "IPY_MODEL_834a314adb1648f09e02ac3fe9e73e4b",
       "value": 10.049999999999999
      }
     },
     "fffe4a8809184eff861461d8452e4b3d": {
      "model_module": "@jupyter-widgets/controls",
      "model_module_version": "1.5.0",
      "model_name": "IntSliderModel",
      "state": {
       "description": "i",
       "layout": "IPY_MODEL_0f53c93a31834c078e523be88d7248be",
       "max": 200,
       "min": 100,
       "step": 10,
       "style": "IPY_MODEL_2b0f0a6befc14bf59a6f59d25db85bc0",
       "value": 150
      }
     }
    },
    "version_major": 2,
    "version_minor": 0
   }
  }
 },
 "nbformat": 4,
 "nbformat_minor": 4
}
